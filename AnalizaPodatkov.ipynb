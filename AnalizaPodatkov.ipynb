{
 "cells": [
  {
   "cell_type": "code",
   "execution_count": null,
   "metadata": {},
   "outputs": [],
   "source": [
    "from datetime import datetime\n",
    "import pandas as pd\n",
    "import numpy as np\n",
    "import csv\n",
    "from vzorci_in_pomozne_definicije import *"
   ]
  },
  {
   "cell_type": "markdown",
   "metadata": {},
   "source": [
    "Opomba: JSON ohranja tipe spremenljivk!! Morda bom popravil analizo tako, da ne delam s csv-jem ampak JSON-om."
   ]
  },
  {
   "cell_type": "code",
   "execution_count": null,
   "metadata": {},
   "outputs": [],
   "source": [
    "podatkovna_baza = pd.read_json(FILENAME_POPOLNI_PODATKI_KARTE_JSON)"
   ]
  },
  {
   "cell_type": "code",
   "execution_count": null,
   "metadata": {},
   "outputs": [],
   "source": [
    "cenovni_razredi_kart = np.array([0, 0.05, 0.10, 0.25, 0.5, 1, 2, 5, 10, 20, 50, 100, 1000000])\n",
    "podatki_po_ceni_eu = podatkovna_baza.groupby(pd.cut(podatkovna_baza[\"povprecje_eu\"], cenovni_razredi_kart)).size()\n",
    "podatki_po_ceni_us = podatkovna_baza.groupby(pd.cut(podatkovna_baza[\"povprecna_cena\"], cenovni_razredi_kart)).size()\n",
    "#pd.merge(podatki_po_ceni_eu, podatki_po_ceni_us).plot(kind = \"bar\")\n",
    "podatki_po_ceni_eu.plot(kind = \"bar\")\n",
    "\n",
    "# Tukaj je treba porihtati, da dobimo primerjavo ameriških cenovnih razredov z evropskimi"
   ]
  }
 ],
 "metadata": {
  "kernelspec": {
   "display_name": "Python 3",
   "language": "python",
   "name": "python3"
  },
  "language_info": {
   "codemirror_mode": {
    "name": "ipython",
    "version": 3
   },
   "file_extension": ".py",
   "mimetype": "text/x-python",
   "name": "python",
   "nbconvert_exporter": "python",
   "pygments_lexer": "ipython3",
   "version": "3.10.7"
  },
  "orig_nbformat": 4,
  "vscode": {
   "interpreter": {
    "hash": "613d879a9df29ca216f54f0a1e89f0b865c1f91ecf6d738c523174b1df816f98"
   }
  }
 },
 "nbformat": 4,
 "nbformat_minor": 2
}
