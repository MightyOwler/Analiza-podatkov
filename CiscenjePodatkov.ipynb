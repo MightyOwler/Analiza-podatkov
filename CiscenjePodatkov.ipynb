{
 "cells": [
  {
   "cell_type": "code",
   "execution_count": 1,
   "metadata": {},
   "outputs": [],
   "source": [
    "import pandas as pd\n",
    "import numpy as np\n",
    "import csv\n",
    "from vzorci_in_pomozne_definicije import *"
   ]
  },
  {
   "cell_type": "markdown",
   "metadata": {},
   "source": [
    "# Zdaj hočemo narediti podatkovno bazo z merganjem dveh dataframov"
   ]
  },
  {
   "cell_type": "code",
   "execution_count": 2,
   "metadata": {},
   "outputs": [
    {
     "name": "stdout",
     "output_type": "stream",
     "text": [
      "     set               polno_ime  st_kart datum_izida\n",
      "0    RTR       Return to Ravnica      274  2012-10-05\n",
      "1    ZEN                Zendikar      269  2009-10-02\n",
      "2    BRB   Battle Royale Box Set      136  1999-11-12\n",
      "3    SNC  Streets of New Capenna      510  2022-04-29\n",
      "4    NCC   New Capenna Commander      447  2022-04-29\n",
      "..   ...                     ...      ...         ...\n",
      "221  S00            Starter 2000       20  2000-04-01\n",
      "222  POR                  Portal      256  1997-05-01\n",
      "223  P02       Portal Second Age      165  1998-06-24\n",
      "224  PTK   Portal Three Kingdoms      180  1999-07-06\n",
      "225  ARC               Archenemy      150  2010-06-18\n",
      "\n",
      "[226 rows x 4 columns]\n"
     ]
    }
   ],
   "source": [
    "slovar_za_popravljanje_napacnih_podatkov_s_spletne_strani = {'set': {\"VAN\" : \"PVAN\", \"SLDC\": \"PHED\", \"XCLE\": \"CED\", \"XICE\": \"CEI\", \"RMB1\": \"FMB1\", \"XDND\" : \"AFR\", \"2E\": \"LEB\", \"2U\": \"2ED\", \"1E\": \"LEA\", \"PO2\": \"P02\", \"3ED\":\"FBB\", \"3E\":\"3ED\"}}\n",
    "\n",
    "osnovni_podatki_o_kartah = pd.read_csv(\"karte.csv\").replace(slovar_za_popravljanje_napacnih_podatkov_s_spletne_strani)\n",
    "dodatni_podatki_o_kartah = pd.read_csv(\"specificne_lastnosti_kart.csv\")\n",
    "dodatni_podatki_o_setih = pd.read_csv(\"seti.csv\").replace(slovar_za_popravljanje_napacnih_podatkov_s_spletne_strani)\n",
    "\n",
    "print(dodatni_podatki_o_setih)\n",
    "\n",
    "podatkovna_baza = pd.merge(osnovni_podatki_o_kartah, dodatni_podatki_o_kartah)\n",
    "podatkovna_baza = pd.merge(podatkovna_baza, dodatni_podatki_o_setih)\n",
    "\n",
    "# koliko je sploh smiselno družiti take podatke med sabo?\n",
    "# V resnici ni čisto jasno\n",
    "\n",
    "%reset_selective -f osnovni_podatki_o_kartah\n",
    "%reset_selective -f dodatni_podatki_o_kartah\n",
    "%reset_selective -f dodatni_podatki_o_setih"
   ]
  },
  {
   "cell_type": "markdown",
   "metadata": {},
   "source": [
    "Zdaj malo popravimo tabelo s funckijami, ki smo jih napisali."
   ]
  },
  {
   "cell_type": "code",
   "execution_count": 3,
   "metadata": {},
   "outputs": [],
   "source": [
    "podatkovna_baza[\"cardtype\"] = podatkovna_baza[\"cardtype\"].apply(lambda x: popravi_cardtype_aftermath(x[1:-1].replace(\"'\", \"\").split(', ')) if type(x) == str else x)\n",
    "podatkovna_baza[\"subtype\"] = podatkovna_baza[\"subtype\"].apply(lambda x: popravi_subtype_adventure(x[1:-1].replace(\"'\", \"\").split(', ')) if type(x) == str else x)\n",
    "podatkovna_baza[\"supertype\"] = podatkovna_baza[\"supertype\"].apply(lambda x: x[1:-1].replace(\"'\", \"\").split(', ') if type(x) == str else x)\n",
    "podatkovna_baza[\"reserved_list\"] = podatkovna_baza[\"reserved_list\"].apply(lambda x: x == \"Yes\")\n",
    "# Moram ugotoviti, kako se spodnje 3 vrstice zapiše v enem koraku\n",
    "podatkovna_baza[\"all_time_low_datum\"] = podatkovna_baza[\"all_time_low_datum\"].apply(lambda x: pd.to_datetime(pretvori_datum_v_datetime(x)) if type(x) == str else x)\n",
    "podatkovna_baza[\"all_time_high_datum\"] = podatkovna_baza[\"all_time_high_datum\"].apply(lambda x: pd.to_datetime(pretvori_datum_v_datetime(x)) if type(x) == str else x)\n",
    "podatkovna_baza[\"datum_izida\"] = podatkovna_baza[\"datum_izida\"].apply(lambda x: pd.to_datetime(pretvori_datum_v_datetime(x)) if type(x) == str else x)\n",
    "\n",
    "podatkovna_baza[\"barva\"] = podatkovna_baza.apply(lambda x: popravi_barvo_karte(str(x.barva), str(x.oracle_text), str(x.cardtype)), axis = 1)\n",
    "\n",
    "seznam_stolpcev_cen = [\"povprecna_cena\", \"povprecna_cena_foil\", \"povprecje_eu\", \"all_time_low\", \"all_time_high\"]\n",
    "for cena in seznam_stolpcev_cen:\n",
    "    podatkovna_baza[cena] = podatkovna_baza[cena].apply(lambda x: (float(x[1:])) if (type(x) != float) else x).replace(\"nan\",\"NaN\") # Tole je seveda treba popraviti, da ne bo grdo\n",
    "\n",
    "#podatkovna_baza[\"cardtype\"] = podatkovna_baza[\"cardtype\"].apply(lambda x: vsebovanost_problematicnih_karte_na_podlagi_seznama(x[1:-1].split(',')) if type(x) == str else x)\n",
    "\n",
    "podatkovna_baza.to_json(\"popolni_podatki_o_kartah.json\", orient='records', indent=4)"
   ]
  },
  {
   "cell_type": "markdown",
   "metadata": {},
   "source": [
    "# Zdaj je treba narediti povezovalne tabele"
   ]
  },
  {
   "cell_type": "code",
   "execution_count": 4,
   "metadata": {},
   "outputs": [],
   "source": [
    "def ustvari_povezave(indeks, seznam, seznam_povezav):\n",
    "    if type(seznam) != list:\n",
    "        return (indeks, None)\n",
    "    for element in seznam:\n",
    "        #print((indeks, element))\n",
    "        seznam_povezav.append((indeks, element))\n",
    "\n",
    "def ustvari_povezovalno_tabelo_glede_na_seznam(ime_id_stolpca, ime_seznam_stolpca):\n",
    "    seznam_povezav = []\n",
    "    \"\"\"\n",
    "    To ustvari povezovalno tabelo glede na podana seznam in indeks\n",
    "    \"\"\"\n",
    "    \n",
    "    #podatkovna_baza.apply(lambda x: print(x.id_karte, x.cardtype), axis = 1)\n",
    "    podatkovna_baza.apply(lambda x: ustvari_povezave(x[ime_id_stolpca], x[ime_seznam_stolpca], seznam_povezav), axis = 1)\n",
    "\n",
    "    return(seznam_povezav)\n",
    "    \n",
    "#ustvari_povezovalno_tabelo_glede_na_seznam(\"id_karte\",\"cardtype\")\n",
    "    "
   ]
  },
  {
   "cell_type": "code",
   "execution_count": 5,
   "metadata": {},
   "outputs": [],
   "source": [
    "for tip in [\"cardtype\",\"subtype\",\"supertype\"]:\n",
    "    with open(f\"povezovalna_{tip}.csv\", \"w\", encoding=\"utf-8\") as csvfile:\n",
    "        seznam_tuplov = ustvari_povezovalno_tabelo_glede_na_seznam(\"id_karte\",f\"{tip}\")\n",
    "        writer = csv.writer(csvfile)\n",
    "        writer.writerow([\"id_karte\", f\"{tip}\"])\n",
    "        for vrstica in seznam_tuplov:\n",
    "            writer.writerow(vrstica)"
   ]
  }
 ],
 "metadata": {
  "kernelspec": {
   "display_name": "Python 3",
   "language": "python",
   "name": "python3"
  },
  "language_info": {
   "codemirror_mode": {
    "name": "ipython",
    "version": 3
   },
   "file_extension": ".py",
   "mimetype": "text/x-python",
   "name": "python",
   "nbconvert_exporter": "python",
   "pygments_lexer": "ipython3",
   "version": "3.10.7"
  },
  "orig_nbformat": 4,
  "vscode": {
   "interpreter": {
    "hash": "613d879a9df29ca216f54f0a1e89f0b865c1f91ecf6d738c523174b1df816f98"
   }
  }
 },
 "nbformat": 4,
 "nbformat_minor": 2
}
