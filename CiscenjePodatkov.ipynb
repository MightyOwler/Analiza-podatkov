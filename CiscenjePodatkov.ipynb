{
 "cells": [
  {
   "cell_type": "code",
   "execution_count": 570,
   "metadata": {},
   "outputs": [],
   "source": [
    "from datetime import datetime\n",
    "import pandas as pd\n",
    "import numpy as np\n",
    "import csv"
   ]
  },
  {
   "cell_type": "code",
   "execution_count": 571,
   "metadata": {},
   "outputs": [
    {
     "name": "stdout",
     "output_type": "stream",
     "text": [
      "2022-04-09 00:00:00\n",
      "2022-04-09 00:00:00\n"
     ]
    }
   ],
   "source": [
    "from datetime import date\n",
    "\n",
    "def pretvori_datum_v_datetime(string_datuma):\n",
    "    \"\"\"\n",
    "    Funkcija, ki obe vrsti datuma pretvori v ustretno datetime obliko (datum_izida in datum all_time_high/low)\n",
    "    \"\"\"\n",
    "    \n",
    "    # Za vsak slučaj\n",
    "    if not string_datuma:\n",
    "        return None\n",
    "    \n",
    "    # Ločimo primera 'Apr 29, 2022' in '2022-04-29'\n",
    "    if \",\" in string_datuma:\n",
    "        return datetime.strptime(string_datuma, \"%b %d, %Y\")\n",
    "    else:\n",
    "        return datetime.strptime(string_datuma, \"%Y-%m-%d\")\n",
    "    \n",
    "print(pretvori_datum_v_datetime(\"Apr 9, 2022\"))\n",
    "print(pretvori_datum_v_datetime(\"2022-04-09\"))"
   ]
  },
  {
   "cell_type": "code",
   "execution_count": 572,
   "metadata": {},
   "outputs": [
    {
     "name": "stdout",
     "output_type": "stream",
     "text": [
      "['Sorcery']\n"
     ]
    }
   ],
   "source": [
    "def popravi_cardtype_aftermath(seznam_cardtypa):\n",
    "    \"\"\"\n",
    "    Popravimo seznam cardtypa, ki se pojavi zaradi nenavadnega/nekonsistentnega zapisa Aftermath kart na spletni strani\n",
    "    \"\"\"\n",
    "    if not seznam_cardtypa:\n",
    "        return None\n",
    "    \n",
    "    popravljen_seznam = []\n",
    "    for tip in seznam_cardtypa:\n",
    "        if tip not in popravljen_seznam and \"//\" not in tip:\n",
    "            popravljen_seznam.append(tip)\n",
    "    return popravljen_seznam\n",
    "\n",
    "print(popravi_cardtype_aftermath([\"Sorcery\", \"//\", \"Sorcery\"]))"
   ]
  },
  {
   "cell_type": "code",
   "execution_count": 573,
   "metadata": {},
   "outputs": [
    {
     "name": "stdout",
     "output_type": "stream",
     "text": [
      "['Beast', 'Noble']\n"
     ]
    }
   ],
   "source": [
    "def popravi_subtype_adventure(seznam_subtypa):\n",
    "    \"\"\"\n",
    "    Popravimo seznam subtypa, ki se pojavi zaradi nenavadnega/nekonsistentnega zapisa Adventure kart na spletni strani\n",
    "    \"\"\"\n",
    "    if not seznam_subtypa:\n",
    "        return None\n",
    "    \n",
    "    popravljen_seznam = []\n",
    "    for tip in seznam_subtypa:\n",
    "        if \"//\" in tip:\n",
    "                break\n",
    "        elif tip not in popravljen_seznam:\n",
    "            popravljen_seznam.append(tip)\n",
    "    return popravljen_seznam\n",
    "\n",
    "print(popravi_subtype_adventure(['Beast', 'Noble', '//', 'Sorcery']))"
   ]
  },
  {
   "cell_type": "code",
   "execution_count": 574,
   "metadata": {},
   "outputs": [
    {
     "name": "stdout",
     "output_type": "stream",
     "text": [
      "False\n"
     ]
    }
   ],
   "source": [
    "problematicni_tipi = [\"Token\", \"Emblem\"]\n",
    "def vsebovanost_problematicnih_karte_na_podlagi_seznama(seznam, seznam_problematicnih_elementov = problematicni_tipi):\n",
    "    \"\"\"\n",
    "    Preverimo, ali določen seznam vsebuje problematične elemente\n",
    "    \"\"\"\n",
    "    \n",
    "    vsebuje_problem = False\n",
    "    for element in seznam:\n",
    "        if element in seznam_problematicnih_elementov:\n",
    "            vsebuje_problem = True\n",
    "            break\n",
    "    return vsebuje_problem\n",
    "\n",
    "print(vsebovanost_problematicnih_karte_na_podlagi_seznama([\"Nissa\"], problematicni_tipi))"
   ]
  },
  {
   "cell_type": "code",
   "execution_count": 575,
   "metadata": {},
   "outputs": [
    {
     "name": "stdout",
     "output_type": "stream",
     "text": [
      "4\n",
      "wub\n"
     ]
    }
   ],
   "source": [
    "color_pentagon = \"wubrg\"\n",
    "\n",
    "def zavrti_cikel(cikel,smer_urinega = True):\n",
    "    if smer_urinega:\n",
    "        return cikel[1:] + cikel[0]\n",
    "    else:\n",
    "        return cikel[-1] + cikel[:-1]\n",
    "\n",
    "def razdalja_med_crkama_v_ciklu(prva_crka, druga_crka, niz_barve, smer_urinega = True):\n",
    "    if niz_barve[color_pentagon.index(prva_crka)] == druga_crka:\n",
    "        return 0\n",
    "    else:\n",
    "        return 1 + razdalja_med_crkama_v_ciklu(prva_crka, druga_crka, zavrti_cikel(niz_barve, smer_urinega), smer_urinega)\n",
    "\n",
    "\n",
    "print(razdalja_med_crkama_v_ciklu(\"u\",\"w\", color_pentagon, smer_urinega=True))\n",
    "\n",
    "def prvi_string_je_v_drugem(niz1, niz2):\n",
    "    for crka in niz1:\n",
    "        if crka not in niz2:\n",
    "            return False\n",
    "    return True\n",
    "\n",
    "def popravi_vrstni_red_barve(niz_barve):\n",
    "    # Izkaže se, da je še najlažje ločiti funkcijo glede na to, koliko barv je vsebovanih\n",
    "    # Celoten postopek določanja vrstnega reda je opisan tule: https://magic.wizards.com/en/articles/archive/ask-wizards-june-2004-2004-06-01\n",
    "    if not prvi_string_je_v_drugem(niz_barve, color_pentagon):\n",
    "        return niz_barve\n",
    "    if len(niz_barve) < 2 or len(niz_barve) > 5:\n",
    "        return niz_barve\n",
    "    if len(niz_barve) == 5:\n",
    "        return color_pentagon\n",
    "    if len(niz_barve) == 2:\n",
    "        transpozicija_niza = niz_barve[::-1]\n",
    "        if razdalja_med_crkama_v_ciklu(niz_barve[0], niz_barve[1], color_pentagon) > 2:\n",
    "            return transpozicija_niza\n",
    "        else:\n",
    "            return niz_barve\n",
    "    if len(niz_barve) == 4:\n",
    "        manjka_barva = color_pentagon[::]\n",
    "        for crka in niz_barve:\n",
    "            if crka not in manjka_barva:\n",
    "                return niz_barve\n",
    "            else:\n",
    "                manjka_barva = manjka_barva.replace(crka, \"\")\n",
    "        kopija_pentagona = color_pentagon[::]\n",
    "        while kopija_pentagona[-1] != manjka_barva:\n",
    "            kopija_pentagona = zavrti_cikel(kopija_pentagona)\n",
    "        return kopija_pentagona.replace(manjka_barva, \"\")\n",
    "    if len(niz_barve) == 3:\n",
    "        # Tule je napaka!!\n",
    "        string_barv_v_pravem_redu = \"\"\n",
    "        for barva in color_pentagon:\n",
    "            if barva in niz_barve:\n",
    "                string_barv_v_pravem_redu += barva \n",
    "        while razdalja_med_crkama_v_ciklu(string_barv_v_pravem_redu[2], string_barv_v_pravem_redu[0], color_pentagon) == 1:\n",
    "            string_barv_v_pravem_redu = zavrti_cikel(string_barv_v_pravem_redu)\n",
    "        if razdalja_med_crkama_v_ciklu(string_barv_v_pravem_redu[2], string_barv_v_pravem_redu[0], color_pentagon) == 3:\n",
    "            return string_barv_v_pravem_redu\n",
    "        kopija_pentagona = color_pentagon[::]\n",
    "        while not prvi_string_je_v_drugem(string_barv_v_pravem_redu, kopija_pentagona[::2]):\n",
    "            kopija_pentagona = zavrti_cikel(kopija_pentagona)\n",
    "        return kopija_pentagona[::2]\n",
    "            \n",
    "        \n",
    "print(popravi_vrstni_red_barve(\"ubw\"))\n",
    "\n",
    "def popravi_barvo_karte(niz_barve, niz_oracle_texta, niz_cardtypa):\n",
    "    \"\"\"\n",
    "    Ta funkcija vzame string barve, ki ga ustrezno popravi glede na oracle text + vrsntni red barv (UW -> WU)\n",
    "    \"\"\"\n",
    "    if not niz_barve or \"Land\" in niz_cardtypa:\n",
    "        return \"c\"\n",
    "    \n",
    "    for barva in color_pentagon:\n",
    "        if barva not in niz_barve:\n",
    "            if f\"({barva})\" in niz_oracle_texta:\n",
    "                niz_barve += barva\n",
    "    # Odpravimo možnost colorless.\n",
    "    if len(niz_barve) >= 2:\n",
    "        niz_barve = niz_barve.replace(\"c\",\"\")\n",
    "    return popravi_vrstni_red_barve(niz_barve)"
   ]
  },
  {
   "cell_type": "markdown",
   "metadata": {},
   "source": [
    "# Zdaj hočemo narediti podatkovno bazo z merganjem dveh dataframov"
   ]
  },
  {
   "cell_type": "code",
   "execution_count": 576,
   "metadata": {},
   "outputs": [
    {
     "name": "stdout",
     "output_type": "stream",
     "text": [
      "     set               polno_ime  st_kart datum_izida\n",
      "0    RTR       Return to Ravnica      274  2012-10-05\n",
      "1    ZEN                Zendikar      269  2009-10-02\n",
      "2    BRB   Battle Royale Box Set      136  1999-11-12\n",
      "3    SNC  Streets of New Capenna      510  2022-04-29\n",
      "4    NCC   New Capenna Commander      447  2022-04-29\n",
      "..   ...                     ...      ...         ...\n",
      "221  S00            Starter 2000       20  2000-04-01\n",
      "222  POR                  Portal      256  1997-05-01\n",
      "223  P02       Portal Second Age      165  1998-06-24\n",
      "224  PTK   Portal Three Kingdoms      180  1999-07-06\n",
      "225  ARC               Archenemy      150  2010-06-18\n",
      "\n",
      "[226 rows x 4 columns]\n"
     ]
    }
   ],
   "source": [
    "slovar_za_popravljanje_napacnih_podatkov_s_spletne_strani = {'set': {\"VAN\" : \"PVAN\", \"SLDC\": \"PHED\", \"XCLE\": \"CED\", \"XICE\": \"CEI\", \"RMB1\": \"FMB1\", \"XDND\" : \"AFR\", \"2E\": \"LEB\", \"2U\": \"2ED\", \"1E\": \"LEA\", \"PO2\": \"P02\", \"3ED\":\"FBB\", \"3E\":\"3ED\"}}\n",
    "\n",
    "osnovni_podatki_o_kartah = pd.read_csv(\"karte.csv\").replace(slovar_za_popravljanje_napacnih_podatkov_s_spletne_strani)\n",
    "dodatni_podatki_o_kartah = pd.read_csv(\"specificne_lastnosti_kart.csv\")\n",
    "dodatni_podatki_o_setih = pd.read_csv(\"seti.csv\").replace(slovar_za_popravljanje_napacnih_podatkov_s_spletne_strani)\n",
    "\n",
    "print(dodatni_podatki_o_setih)\n",
    "\n",
    "podatkovna_baza = pd.merge(osnovni_podatki_o_kartah, dodatni_podatki_o_kartah)\n",
    "podatkovna_baza = pd.merge(podatkovna_baza, dodatni_podatki_o_setih)\n",
    "\n",
    "# koliko je sploh smiselno družiti take podatke med sabo?\n",
    "# V resnici ni čisto jasno\n",
    "\n",
    "%reset_selective -f osnovni_podatki_o_kartah\n",
    "%reset_selective -f dodatni_podatki_o_kartah\n",
    "%reset_selective -f dodatni_podatki_o_setih"
   ]
  },
  {
   "cell_type": "markdown",
   "metadata": {},
   "source": [
    "Zdaj malo popravimo tabelo s funckijami, ki smo jih napisali."
   ]
  },
  {
   "cell_type": "code",
   "execution_count": 577,
   "metadata": {},
   "outputs": [],
   "source": [
    "podatkovna_baza[\"cardtype\"] = podatkovna_baza[\"cardtype\"].apply(lambda x: popravi_cardtype_aftermath(x[1:-1].replace(\"'\", \"\").split(', ')) if type(x) == str else x)\n",
    "podatkovna_baza[\"subtype\"] = podatkovna_baza[\"subtype\"].apply(lambda x: popravi_subtype_adventure(x[1:-1].replace(\"'\", \"\").split(', ')) if type(x) == str else x)\n",
    "podatkovna_baza[\"supertype\"] = podatkovna_baza[\"supertype\"].apply(lambda x: x[1:-1].replace(\"'\", \"\").split(', ') if type(x) == str else x)\n",
    "podatkovna_baza[\"reserved_list\"] = podatkovna_baza[\"reserved_list\"].apply(lambda x: x == \"Yes\")\n",
    "# Moram ugotoviti, kako se spodnje 3 vrstice zapiše v enem koraku\n",
    "podatkovna_baza[\"all_time_low_datum\"] = podatkovna_baza[\"all_time_low_datum\"].apply(lambda x: pd.to_datetime(pretvori_datum_v_datetime(x)) if type(x) == str else x)\n",
    "podatkovna_baza[\"all_time_high_datum\"] = podatkovna_baza[\"all_time_high_datum\"].apply(lambda x: pd.to_datetime(pretvori_datum_v_datetime(x)) if type(x) == str else x)\n",
    "podatkovna_baza[\"datum_izida\"] = podatkovna_baza[\"datum_izida\"].apply(lambda x: pd.to_datetime(pretvori_datum_v_datetime(x)) if type(x) == str else x)\n",
    "\n",
    "podatkovna_baza[\"barva\"] = podatkovna_baza.apply(lambda x: popravi_barvo_karte(str(x.barva), str(x.oracle_text), str(x.cardtype)), axis = 1)\n",
    "\n",
    "seznam_stolpcev_cen = [\"povprecna_cena\", \"povprecna_cena_foil\", \"povprecje_eu\", \"all_time_low\", \"all_time_high\"]\n",
    "for cena in seznam_stolpcev_cen:\n",
    "    podatkovna_baza[cena] = podatkovna_baza[cena].apply(lambda x: (float(x[1:])) if (type(x) != float) else x).replace(\"nan\",\"NaN\") # Tole je seveda treba popraviti, da ne bo grdo\n",
    "\n",
    "#podatkovna_baza[\"cardtype\"] = podatkovna_baza[\"cardtype\"].apply(lambda x: vsebovanost_problematicnih_karte_na_podlagi_seznama(x[1:-1].split(',')) if type(x) == str else x)\n",
    "\n",
    "podatkovna_baza.to_json(\"popolni_podatki_o_kartah.json\", orient='records', indent=4)"
   ]
  },
  {
   "cell_type": "markdown",
   "metadata": {},
   "source": [
    "# Zdaj je treba narediti povezovalne tabele"
   ]
  },
  {
   "cell_type": "code",
   "execution_count": 578,
   "metadata": {},
   "outputs": [],
   "source": [
    "def ustvari_povezave(indeks, seznam, seznam_povezav):\n",
    "    if type(seznam) != list:\n",
    "        return (indeks, None)\n",
    "    for element in seznam:\n",
    "        #print((indeks, element))\n",
    "        seznam_povezav.append((indeks, element))\n",
    "\n",
    "def ustvari_povezovalno_tabelo_glede_na_seznam(ime_id_stolpca, ime_seznam_stolpca):\n",
    "    seznam_povezav = []\n",
    "    \"\"\"\n",
    "    To ustvari povezovalno tabelo glede na podana seznam in indeks\n",
    "    \"\"\"\n",
    "    \n",
    "    #podatkovna_baza.apply(lambda x: print(x.id_karte, x.cardtype), axis = 1)\n",
    "    podatkovna_baza.apply(lambda x: ustvari_povezave(x[ime_id_stolpca], x[ime_seznam_stolpca], seznam_povezav), axis = 1)\n",
    "\n",
    "    return(seznam_povezav)\n",
    "    \n",
    "#ustvari_povezovalno_tabelo_glede_na_seznam(\"id_karte\",\"cardtype\")\n",
    "    "
   ]
  },
  {
   "cell_type": "code",
   "execution_count": 579,
   "metadata": {},
   "outputs": [],
   "source": [
    "for tip in [\"cardtype\",\"subtype\",\"supertype\"]:\n",
    "    with open(f\"povezovalna_{tip}.csv\", \"w\", encoding=\"utf-8\") as csvfile:\n",
    "        seznam_tuplov = ustvari_povezovalno_tabelo_glede_na_seznam(\"id_karte\",f\"{tip}\")\n",
    "        writer = csv.writer(csvfile)\n",
    "        writer.writerow([\"id_karte\", f\"{tip}\"])\n",
    "        for vrstica in seznam_tuplov:\n",
    "            writer.writerow(vrstica)"
   ]
  }
 ],
 "metadata": {
  "kernelspec": {
   "display_name": "Python 3",
   "language": "python",
   "name": "python3"
  },
  "language_info": {
   "codemirror_mode": {
    "name": "ipython",
    "version": 3
   },
   "file_extension": ".py",
   "mimetype": "text/x-python",
   "name": "python",
   "nbconvert_exporter": "python",
   "pygments_lexer": "ipython3",
   "version": "3.10.7"
  },
  "orig_nbformat": 4,
  "vscode": {
   "interpreter": {
    "hash": "613d879a9df29ca216f54f0a1e89f0b865c1f91ecf6d738c523174b1df816f98"
   }
  }
 },
 "nbformat": 4,
 "nbformat_minor": 2
}
