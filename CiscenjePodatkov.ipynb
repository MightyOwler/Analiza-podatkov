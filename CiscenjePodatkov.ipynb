{
 "cells": [
  {
   "cell_type": "code",
   "execution_count": 1,
   "metadata": {},
   "outputs": [],
   "source": [
    "from datetime import datetime\n",
    "import pandas as pd\n",
    "import numpy as np"
   ]
  },
  {
   "cell_type": "code",
   "execution_count": 18,
   "metadata": {},
   "outputs": [
    {
     "name": "stdout",
     "output_type": "stream",
     "text": [
      "2022-04-09 00:00:00\n",
      "2022-04-09 00:00:00\n"
     ]
    }
   ],
   "source": [
    "from datetime import date\n",
    "\n",
    "def pretvori_datum_v_datetime(string_datuma):\n",
    "    \"\"\"\n",
    "    Funkcija, ki obe vrsti datuma pretvori v ustretno datetime obliko (datum_izida in datum all_time_high/low)\n",
    "    \"\"\"\n",
    "    \n",
    "    # Za vsak slučaj\n",
    "    if not string_datuma:\n",
    "        return None\n",
    "    \n",
    "    # Ločimo primera 'Apr 29, 2022' in '2022-04-29'\n",
    "    if \",\" in string_datuma:\n",
    "        return datetime.strptime(string_datuma, \"%b %d, %Y\")\n",
    "    else:\n",
    "        return datetime.strptime(string_datuma, \"%Y-%m-%d\")\n",
    "    \n",
    "print(pretvori_datum_v_datetime(\"Apr 9, 2022\"))\n",
    "print(pretvori_datum_v_datetime(\"2022-04-09\"))"
   ]
  },
  {
   "cell_type": "code",
   "execution_count": 23,
   "metadata": {},
   "outputs": [
    {
     "name": "stdout",
     "output_type": "stream",
     "text": [
      "['Sorcery']\n"
     ]
    }
   ],
   "source": [
    "def popravi_cardtype_aftermath(seznam_cardtypa):\n",
    "    \"\"\"\n",
    "    Popravimo seznam cardtypa, ki se pojavi zaradi nenavadnega/nekonsistentnega zapisa Aftermath kart na spletni strani\n",
    "    \"\"\"\n",
    "    \n",
    "    popravljen_seznam = []\n",
    "    for tip in seznam_cardtypa:\n",
    "        if tip not in popravljen_seznam and tip != \"//\":\n",
    "            popravljen_seznam.append(tip)\n",
    "    return popravljen_seznam\n",
    "\n",
    "print(popravi_cardtype_aftermath([\"Sorcery\", \"//\", \"Sorcery\"]))"
   ]
  },
  {
   "cell_type": "code",
   "execution_count": 31,
   "metadata": {},
   "outputs": [
    {
     "name": "stdout",
     "output_type": "stream",
     "text": [
      "['Beast', 'Noble']\n"
     ]
    }
   ],
   "source": [
    "def popravi_subtype_adventure(seznam_subtypa):\n",
    "    \"\"\"\n",
    "    Popravimo seznam subtypa, ki se pojavi zaradi nenavadnega/nekonsistentnega zapisa Adventure kart na spletni strani\n",
    "    \"\"\"\n",
    "    \n",
    "    popravljen_seznam = []\n",
    "    for tip in seznam_subtypa:\n",
    "        if tip == \"//\":\n",
    "                break\n",
    "        elif tip not in popravljen_seznam:\n",
    "            popravljen_seznam.append(tip)\n",
    "    return popravljen_seznam\n",
    "\n",
    "print(popravi_subtype_adventure(['Beast', 'Noble', '//', 'Sorcery']))"
   ]
  },
  {
   "cell_type": "code",
   "execution_count": 32,
   "metadata": {},
   "outputs": [
    {
     "name": "stdout",
     "output_type": "stream",
     "text": [
      "False\n"
     ]
    }
   ],
   "source": [
    "problematicni_tipi = [\"Token\", \"Emblem\"]\n",
    "def vsebovanost_problematicnih_karte_na_podlagi_seznama(seznam, seznam_problematicnih_elementov):\n",
    "    \"\"\"\n",
    "    Preverimo, ali določen seznam vsebuje problematične elemente\n",
    "    \"\"\"\n",
    "    \n",
    "    vsebuje_problem = False\n",
    "    for element in seznam:\n",
    "        if element in seznam_problematicnih_elementov:\n",
    "            vsebuje_problem = True\n",
    "            break\n",
    "    return vsebuje_problem\n",
    "\n",
    "print(vsebovanost_problematicnih_karte_na_podlagi_seznama([\"Nissa\"], problematicni_tipi))"
   ]
  },
  {
   "cell_type": "code",
   "execution_count": 41,
   "metadata": {},
   "outputs": [
    {
     "data": {
      "text/plain": [
       "barva\n",
       "b        0.1465\n",
       "bg       0.0120\n",
       "bgu      0.0010\n",
       "br       0.0145\n",
       "brg      0.0005\n",
       "c        0.1505\n",
       "g        0.1390\n",
       "gu       0.0165\n",
       "gur      0.0010\n",
       "gw       0.0150\n",
       "gwu      0.0005\n",
       "r        0.1445\n",
       "rg       0.0150\n",
       "rgw      0.0005\n",
       "ru       0.0010\n",
       "rw       0.0095\n",
       "rwb      0.0010\n",
       "u        0.1330\n",
       "ub       0.0095\n",
       "ubr      0.0015\n",
       "ug       0.0010\n",
       "ur       0.0100\n",
       "urw      0.0005\n",
       "uw       0.0005\n",
       "w        0.1445\n",
       "wb       0.0135\n",
       "wbg      0.0005\n",
       "wu       0.0145\n",
       "wub      0.0005\n",
       "wubrg    0.0020\n",
       "dtype: float64"
      ]
     },
     "execution_count": 41,
     "metadata": {},
     "output_type": "execute_result"
    }
   ],
   "source": [
    "dodatne_lastnosti_kart = pd.read_csv(\"specificne_lastnosti_kart.csv\")\n",
    "pojavitve_barve = dodatne_lastnosti_kart.groupby(\"barva\").size()\n",
    "verjetnosti_barve = pojavitve_barve / len(dodatne_lastnosti_kart)\n",
    "\n",
    "verjetnosti_barve"
   ]
  },
  {
   "cell_type": "code",
   "execution_count": 53,
   "metadata": {},
   "outputs": [],
   "source": [
    "def odstrani_konce(beseda, konci):\n",
    "    for konec in konci:\n",
    "        if beseda.endswith(konec):\n",
    "            return beseda[:-len(konec)]\n",
    "    return beseda\n",
    "    \n",
    "def koren_besede(beseda):\n",
    "    beseda = ''.join(znak for znak in beseda if znak.isalpha())\n",
    "    if not beseda:\n",
    "        return '$'\n",
    "    beseda = odstrani_konce(beseda, [\"ing\", \"ed\", \"en\", \"s\"])\n",
    "    beseda = beseda.rstrip('aeiou')\n",
    "    if not beseda:\n",
    "        return '@'\n",
    "    return beseda\n",
    "\n",
    "def koreni_besed(niz):\n",
    "    return pd.Series(sorted({\n",
    "        koren_besede(beseda) for beseda in str(niz).replace('-', ' ').lower().split() if beseda\n",
    "    }))"
   ]
  },
  {
   "cell_type": "code",
   "execution_count": 52,
   "metadata": {},
   "outputs": [
    {
     "data": {
      "text/plain": [
       "0               @\n",
       "1         another\n",
       "2     battlefield\n",
       "3         control\n",
       "4            copy\n",
       "5         creatur\n",
       "6           enter\n",
       "7           equal\n",
       "8            gain\n",
       "9              gw\n",
       "10            lif\n",
       "11             of\n",
       "12            ont\n",
       "13        populat\n",
       "14            put\n",
       "15              t\n",
       "16            tap\n",
       "17             th\n",
       "18           that\n",
       "19            tok\n",
       "20       toughnes\n",
       "21          under\n",
       "22       whenever\n",
       "23              y\n",
       "24           your\n",
       "dtype: object"
      ]
     },
     "execution_count": 52,
     "metadata": {},
     "output_type": "execute_result"
    }
   ],
   "source": [
    "opis = \"\"\"Whenever another creature enters the battlefield under your control, you gain life equal to that creature's toughness.\n",
    "(1)(g)(w), (tap): Populate. (Put a token onto the battlefield that's a copy of a creature token you control.)\"\"\"\n",
    "koreni_besed(opis)"
   ]
  },
  {
   "cell_type": "code",
   "execution_count": 98,
   "metadata": {},
   "outputs": [
    {
     "name": "stdout",
     "output_type": "stream",
     "text": [
      "           0            1        2        3          4         5           6   \\\n",
      "0           @   controller  counter     exil  graveyard        if     instead   \n",
      "1           @     addition      and   beacon       bolt        by        card   \n",
      "2           $          and       at   attack  battalion       bor     creatur   \n",
      "3           @  battlefield     card    enter       from  glowspor   graveyard   \n",
      "4           $           an     cast    damag       deal      each  guttersnip   \n",
      "...       ...          ...      ...      ...        ...       ...         ...   \n",
      "1995        $            @  creatur        d       gain        if         lif   \n",
      "1996        @           at   beginn      fly       forc        of         pay   \n",
      "1997        $       attack     cant  creatur   defender       end         fir   \n",
      "1998  creatur         hand       it    owner     return         t      target   \n",
      "1999  creatur       doesnt   effect  enchant       from         h  protection   \n",
      "\n",
      "              7         8         9   ...   51   52   53   54   55   56   57  \\\n",
      "0            int        it        of  ...  NaN  NaN  NaN  NaN  NaN  NaN  NaN   \n",
      "1           cast      cost   creatur  ...  NaN  NaN  NaN  NaN  NaN  NaN  NaN   \n",
      "2           elit       end       get  ...  NaN  NaN  NaN  NaN  NaN  NaN  NaN   \n",
      "3           land   library       may  ...  NaN  NaN  NaN  NaN  NaN  NaN  NaN   \n",
      "4        instant  opponent        or  ...  NaN  NaN  NaN  NaN  NaN  NaN  NaN   \n",
      "...          ...       ...       ...  ...  ...  ...  ...  ...  ...  ...  ...   \n",
      "1995         may       pay  whenever  ...  NaN  NaN  NaN  NaN  NaN  NaN  NaN   \n",
      "1996  phantasmal  sacrific        th  ...  NaN  NaN  NaN  NaN  NaN  NaN  NaN   \n",
      "1997         get        of         r  ...  NaN  NaN  NaN  NaN  NaN  NaN  NaN   \n",
      "1998         NaN       NaN       NaN  ...  NaN  NaN  NaN  NaN  NaN  NaN  NaN   \n",
      "1999       remov        th      ward  ...  NaN  NaN  NaN  NaN  NaN  NaN  NaN   \n",
      "\n",
      "       58   59   60  \n",
      "0     NaN  NaN  NaN  \n",
      "1     NaN  NaN  NaN  \n",
      "2     NaN  NaN  NaN  \n",
      "3     NaN  NaN  NaN  \n",
      "4     NaN  NaN  NaN  \n",
      "...   ...  ...  ...  \n",
      "1995  NaN  NaN  NaN  \n",
      "1996  NaN  NaN  NaN  \n",
      "1997  NaN  NaN  NaN  \n",
      "1998  NaN  NaN  NaN  \n",
      "1999  NaN  NaN  NaN  \n",
      "\n",
      "[2000 rows x 61 columns]\n"
     ]
    }
   ],
   "source": [
    "razpredelnica_s_koreni_oracle_textov = dodatne_lastnosti_kart.oracle_text.apply(koreni_besed)\n",
    "print(razpredelnica_s_koreni_oracle_textov)"
   ]
  },
  {
   "cell_type": "code",
   "execution_count": 103,
   "metadata": {},
   "outputs": [
    {
     "data": {
      "text/html": [
       "<div>\n",
       "<style scoped>\n",
       "    .dataframe tbody tr th:only-of-type {\n",
       "        vertical-align: middle;\n",
       "    }\n",
       "\n",
       "    .dataframe tbody tr th {\n",
       "        vertical-align: top;\n",
       "    }\n",
       "\n",
       "    .dataframe thead th {\n",
       "        text-align: right;\n",
       "    }\n",
       "</style>\n",
       "<table border=\"1\" class=\"dataframe\">\n",
       "  <thead>\n",
       "    <tr style=\"text-align: right;\">\n",
       "      <th></th>\n",
       "      <th>indeks_oracle_teksta</th>\n",
       "      <th>koren</th>\n",
       "    </tr>\n",
       "  </thead>\n",
       "  <tbody>\n",
       "    <tr>\n",
       "      <th>0</th>\n",
       "      <td>0</td>\n",
       "      <td>@</td>\n",
       "    </tr>\n",
       "    <tr>\n",
       "      <th>1</th>\n",
       "      <td>1</td>\n",
       "      <td>@</td>\n",
       "    </tr>\n",
       "    <tr>\n",
       "      <th>2</th>\n",
       "      <td>2</td>\n",
       "      <td>$</td>\n",
       "    </tr>\n",
       "    <tr>\n",
       "      <th>3</th>\n",
       "      <td>3</td>\n",
       "      <td>@</td>\n",
       "    </tr>\n",
       "    <tr>\n",
       "      <th>4</th>\n",
       "      <td>4</td>\n",
       "      <td>$</td>\n",
       "    </tr>\n",
       "    <tr>\n",
       "      <th>...</th>\n",
       "      <td>...</td>\n",
       "      <td>...</td>\n",
       "    </tr>\n",
       "    <tr>\n",
       "      <th>113015</th>\n",
       "      <td>1015</td>\n",
       "      <td>tw</td>\n",
       "    </tr>\n",
       "    <tr>\n",
       "      <th>115015</th>\n",
       "      <td>1015</td>\n",
       "      <td>up</td>\n",
       "    </tr>\n",
       "    <tr>\n",
       "      <th>117015</th>\n",
       "      <td>1015</td>\n",
       "      <td>with</td>\n",
       "    </tr>\n",
       "    <tr>\n",
       "      <th>119015</th>\n",
       "      <td>1015</td>\n",
       "      <td>y</td>\n",
       "    </tr>\n",
       "    <tr>\n",
       "      <th>121015</th>\n",
       "      <td>1015</td>\n",
       "      <td>your</td>\n",
       "    </tr>\n",
       "  </tbody>\n",
       "</table>\n",
       "<p>39009 rows × 2 columns</p>\n",
       "</div>"
      ],
      "text/plain": [
       "        indeks_oracle_teksta koren\n",
       "0                          0     @\n",
       "1                          1     @\n",
       "2                          2     $\n",
       "3                          3     @\n",
       "4                          4     $\n",
       "...                      ...   ...\n",
       "113015                  1015    tw\n",
       "115015                  1015    up\n",
       "117015                  1015  with\n",
       "119015                  1015     y\n",
       "121015                  1015  your\n",
       "\n",
       "[39009 rows x 2 columns]"
      ]
     },
     "execution_count": 103,
     "metadata": {},
     "output_type": "execute_result"
    }
   ],
   "source": [
    "koreni_tekstov = (\n",
    "    razpredelnica_s_koreni_oracle_textov.unstack(  # vnose v razpredelnici razpotegnemo v eno vrsto (z gnezdenim indeksom)\n",
    "    ).reset_index(                          # podatke iz indeksa pretvorimo v razpredelnico\n",
    "    )[\n",
    "        [\"level_1\", 0]                           # izberemo le relevantna dva stolpca\n",
    "    ].rename(\n",
    "        {\"level_1\": \"indeks_oracle_teksta\", 0: \"koren\"},\n",
    "        axis = 1    # stolpcema damo smiselni imeni                            # s tem povemo, da preimenujemo stolpce in ne vrstic\n",
    "    ).dropna(                               # odstranimo manjkajoče vnose\n",
    "    )\n",
    ")\n",
    "koreni_tekstov"
   ]
  },
  {
   "cell_type": "code",
   "execution_count": 131,
   "metadata": {},
   "outputs": [
    {
     "name": "stdout",
     "output_type": "stream",
     "text": [
      "       indeks_oracle_teksta       koren barva\n",
      "0                         0           @     u\n",
      "1                         0  controller     u\n",
      "2                         0     counter     u\n",
      "3                         0        exil     u\n",
      "4                         0   graveyard     u\n",
      "...                     ...         ...   ...\n",
      "39004                  1999  protection     w\n",
      "39005                  1999       remov     w\n",
      "39006                  1999          th     w\n",
      "39007                  1999        ward     w\n",
      "39008                  1999        whit     w\n",
      "\n",
      "[39009 rows x 3 columns]\n"
     ]
    }
   ],
   "source": [
    "#\n",
    "tabela_barv = dodatne_lastnosti_kart[[\"barva\"]]\n",
    "tabela_barv.index.name = \"indeks_oracle_teksta\"\n",
    "#print(koreni_tekstov, tabela_barv)\n",
    "\n",
    "skupna_tabela = pd.merge(koreni_tekstov, tabela_barv, left_on=\"indeks_oracle_teksta\", right_on=\"indeks_oracle_teksta\")\n",
    "print(skupna_tabela)"
   ]
  },
  {
   "cell_type": "code",
   "execution_count": 160,
   "metadata": {},
   "outputs": [
    {
     "name": "stdout",
     "output_type": "stream",
     "text": [
      "barva            b        bg     bgu        br     brg         c         g  \\\n",
      "koren                                                                        \n",
      "$         0.580205  0.666667  0.0005  0.620690  1.0000  0.568106  0.600719   \n",
      "@         0.593857  0.625000  1.0000  0.482759  1.0000  0.564784  0.654676   \n",
      "abilit    0.003413  0.000500  0.0005  0.000500  0.0005  0.013289  0.025180   \n",
      "ability   0.020478  0.000500  1.0000  0.000500  0.0005  0.043189  0.028777   \n",
      "abl       0.003413  0.000500  0.0005  0.000500  0.0005  0.006645  0.017986   \n",
      "...            ...       ...     ...       ...     ...       ...       ...   \n",
      "zenith    0.000500  0.000500  0.0005  0.000500  0.0005  0.000500  0.000500   \n",
      "zhur      0.000500  0.000500  0.0005  0.000500  0.0005  0.000500  0.000500   \n",
      "zomb      0.109215  0.000500  0.0005  0.034483  0.0005  0.006645  0.000500   \n",
      "zon       0.000500  0.000500  0.0005  0.000500  0.0005  0.006645  0.003597   \n",
      "zulaport  0.003413  0.000500  0.0005  0.000500  0.0005  0.000500  0.000500   \n",
      "\n",
      "barva           gu     gur        gw  ...      ug      ur     urw      uw  \\\n",
      "koren                                 ...                                   \n",
      "$         0.545455  1.0000  0.633333  ...  0.5000  0.6500  1.0000  1.0000   \n",
      "@         0.696970  1.0000  0.633333  ...  1.0000  0.7500  1.0000  0.0005   \n",
      "abilit    0.242424  0.0005  0.033333  ...  0.0005  0.0500  0.0005  0.0005   \n",
      "ability   0.030303  0.0005  0.000500  ...  0.0005  0.0005  0.0005  0.0005   \n",
      "abl       0.000500  0.0005  0.000500  ...  0.0005  0.0005  0.0005  0.0005   \n",
      "...            ...     ...       ...  ...     ...     ...     ...     ...   \n",
      "zenith    0.000500  0.0005  0.000500  ...  0.0005  0.0005  0.0005  0.0005   \n",
      "zhur      0.000500  0.0005  0.000500  ...  0.0005  0.0005  0.0005  0.0005   \n",
      "zomb      0.000500  0.0005  0.000500  ...  0.0005  0.0005  0.0005  0.0005   \n",
      "zon       0.000500  0.0005  0.000500  ...  0.0005  0.0005  0.0005  0.0005   \n",
      "zulaport  0.000500  0.0005  0.000500  ...  0.0005  0.0005  0.0005  0.0005   \n",
      "\n",
      "barva            w        wb     wbg        wu     wub   wubrg  \n",
      "koren                                                           \n",
      "$         0.543253  0.777778  1.0000  0.586207  1.0000  0.5000  \n",
      "@         0.456747  0.592593  0.0005  0.586207  1.0000  0.7500  \n",
      "abilit    0.034602  0.074074  0.0005  0.137931  0.0005  0.0005  \n",
      "ability   0.010381  0.000500  0.0005  0.137931  0.0005  0.0005  \n",
      "abl       0.013841  0.000500  0.0005  0.000500  0.0005  0.0005  \n",
      "...            ...       ...     ...       ...     ...     ...  \n",
      "zenith    0.000500  0.000500  0.0005  0.000500  0.0005  0.0005  \n",
      "zhur      0.000500  0.000500  0.0005  0.000500  0.0005  0.0005  \n",
      "zomb      0.006920  0.000500  0.0005  0.000500  0.0005  0.0005  \n",
      "zon       0.003460  0.000500  0.0005  0.000500  0.0005  0.0005  \n",
      "zulaport  0.000500  0.000500  0.0005  0.000500  0.0005  0.0005  \n",
      "\n",
      "[2023 rows x 30 columns]\n"
     ]
    }
   ],
   "source": [
    "stolpec_verjetnosti_korenov_pri_oracle_tekstu = skupna_tabela.groupby([\"barva\", \"koren\"]).size() / pojavitve_barve\n",
    "verjetnosti_korenov_pri_oracle_tekstu = stolpec_verjetnosti_korenov_pri_oracle_tekstu.unstack().transpose().fillna(1 / len(dodatne_lastnosti_kart))\n",
    "#verjetnosti_korenov_pri_oracle_tekstu\n",
    "print(verjetnosti_korenov_pri_oracle_tekstu)"
   ]
  },
  {
   "cell_type": "code",
   "execution_count": 190,
   "metadata": {},
   "outputs": [
    {
     "data": {
      "text/plain": [
       "barva\n",
       "w      0.006500\n",
       "b      0.004500\n",
       "wb     0.001000\n",
       "bg     0.000500\n",
       "wub    0.000500\n",
       "wu     0.000500\n",
       "ub     0.000500\n",
       "rw     0.000500\n",
       "bgu    0.000500\n",
       "c      0.000075\n",
       "dtype: float64"
      ]
     },
     "execution_count": 190,
     "metadata": {},
     "output_type": "execute_result"
    }
   ],
   "source": [
    "def ugani_barvo(opis):\n",
    "    koreni_oracle_teksta = koreni_besed(opis)\n",
    "    r = verjetnosti_korenov_pri_oracle_tekstu.reset_index()\n",
    "    verjetnosti = r[r.koren.isin(koreni_oracle_teksta)].product(numeric_only=True) * verjetnosti_barve\n",
    "    return verjetnosti.sort_values(ascending=False).head(10)\n",
    "\n",
    "ugani_barvo(\"\"\"\n",
    "Put X 1/2 green Spider creature tokens with reach onto the battlefield, where X is the number of creatures attacking you. Prevent all combat damage that would be dealt this turn by non-Spider creatures\n",
    "\"\"\"\n",
    ")"
   ]
  }
 ],
 "metadata": {
  "kernelspec": {
   "display_name": "Python 3",
   "language": "python",
   "name": "python3"
  },
  "language_info": {
   "codemirror_mode": {
    "name": "ipython",
    "version": 3
   },
   "file_extension": ".py",
   "mimetype": "text/x-python",
   "name": "python",
   "nbconvert_exporter": "python",
   "pygments_lexer": "ipython3",
   "version": "3.10.7"
  },
  "orig_nbformat": 4,
  "vscode": {
   "interpreter": {
    "hash": "613d879a9df29ca216f54f0a1e89f0b865c1f91ecf6d738c523174b1df816f98"
   }
  }
 },
 "nbformat": 4,
 "nbformat_minor": 2
}
