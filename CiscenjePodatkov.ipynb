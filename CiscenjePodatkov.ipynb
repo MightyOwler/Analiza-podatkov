{
 "cells": [
  {
   "cell_type": "code",
   "execution_count": 4,
   "metadata": {},
   "outputs": [],
   "source": [
    "import pandas as pd\n",
    "import csv\n",
    "from vzorci_in_pomozne_definicije import *"
   ]
  },
  {
   "attachments": {},
   "cell_type": "markdown",
   "metadata": {},
   "source": [
    "# Ustvarimo podatkovno bazo z merganjem dveh dataframov"
   ]
  },
  {
   "cell_type": "code",
   "execution_count": 5,
   "metadata": {},
   "outputs": [],
   "source": [
    "osnovni_podatki_o_kartah = pd.read_csv(FILENAME_KARTE_CSV).replace(slovar_za_popravljanje_napacnih_podatkov_s_spletne_strani)\n",
    "dodatni_podatki_o_kartah = pd.read_csv(FILENAME_KARTE_DODATEK_CSV)\n",
    "dodatni_podatki_o_setih = pd.read_csv(FILENAME_SETI_CSV).replace(slovar_za_popravljanje_napacnih_podatkov_s_spletne_strani)\n",
    "\n",
    "podatkovna_baza = pd.merge(osnovni_podatki_o_kartah, dodatni_podatki_o_kartah)\n",
    "podatkovna_baza = pd.merge(podatkovna_baza, dodatni_podatki_o_setih)\n",
    "\n",
    "%reset_selective -f osnovni_podatki_o_kartah\n",
    "%reset_selective -f dodatni_podatki_o_kartah\n",
    "%reset_selective -f dodatni_podatki_o_setih"
   ]
  },
  {
   "attachments": {},
   "cell_type": "markdown",
   "metadata": {},
   "source": [
    "Nato popravimo dataframe s funckijami, ki smo jih napisali. To je absoultno nujno, saj je na žalost veliko podatkov s spletne strani napačnih ali nekonsistentnih (to se na nekaterih straneh vidi celo vizualno).\n",
    "Natančnejša razlaga in detajli se nahajajo v datoteki `vzorci_in_pomozne_definicije.py`"
   ]
  },
  {
   "cell_type": "code",
   "execution_count": 19,
   "metadata": {},
   "outputs": [],
   "source": [
    "podatkovna_baza[\"cardtype\"] = podatkovna_baza[\"cardtype\"].apply(lambda x: popravi_cardtype_aftermath(x[1:-1].replace(\"'\", \"\").split(', ')) if type(x) == str else x)\n",
    "podatkovna_baza[\"subtype\"] = podatkovna_baza[\"subtype\"].apply(lambda x: popravi_subtype_adventure(x[1:-1].replace(\"'\", \"\").split(', ')) if type(x) == str else x)\n",
    "podatkovna_baza[\"supertype\"] = podatkovna_baza[\"supertype\"].apply(lambda x: x[1:-1].replace(\"'\", \"\").split(', ') if type(x) == str else x)\n",
    "podatkovna_baza[\"reserved_list\"] = podatkovna_baza[\"reserved_list\"].apply(lambda x: x == \"Yes\")\n",
    "podatkovna_baza[\"barva\"] = podatkovna_baza.apply(lambda x: popravi_barvo_karte(str(x.barva), str(x.oracle_text), str(x.cardtype)), axis = 1)\n",
    "\n",
    "seznam_stolpcev_datumov = [\"all_time_low_datum\", \"all_time_high_datum\", \"datum_izida\"]\n",
    "podatkovna_baza[seznam_stolpcev_datumov] = podatkovna_baza[seznam_stolpcev_datumov].apply(lambda x: pd.to_datetime(pretvori_datum_v_datetime(x)) if type(x) == str else x, axis=1)\n",
    "\n",
    "seznam_stolpcev_cen = [\"povprecna_cena\", \"povprecna_cena_foil\", \"povprecje_eu\", \"all_time_low\", \"all_time_high\"]\n",
    "for cena in seznam_stolpcev_cen:\n",
    "    podatkovna_baza[cena] = podatkovna_baza[cena].apply(lambda x: (float(x[1:])) if (type(x) != float) else x).replace(\"nan\",\"NaN\")\n",
    "\n",
    "podatkovna_baza.to_json(FILENAME_POPOLNI_PODATKI_KARTE_JSON, orient='records', indent=4)"
   ]
  },
  {
   "attachments": {},
   "cell_type": "markdown",
   "metadata": {},
   "source": [
    "# Nato\n",
    " ustvarimo povezovalne tabele"
   ]
  },
  {
   "cell_type": "code",
   "execution_count": 17,
   "metadata": {},
   "outputs": [],
   "source": [
    "def ustvari_povezave(indeks, seznam, seznam_povezav):\n",
    "    if type(seznam) != list:\n",
    "        return (indeks, None)\n",
    "    for element in seznam:\n",
    "        seznam_povezav.append((indeks, element))\n",
    "\n",
    "def ustvari_pare_povezovalne_tabele_glede_na_seznam(ime_id_stolpca, ime_stolpca_seznamov):\n",
    "    seznam_povezav = []\n",
    "    \"\"\"\n",
    "    To ustvari pare povezovalne tabele glede na podani imeni indeksnega stolpca in stolpca seznamov\n",
    "    \"\"\"\n",
    "    podatkovna_baza.apply(lambda x: ustvari_povezave(x[ime_id_stolpca], x[ime_stolpca_seznamov], seznam_povezav), axis = 1)\n",
    "\n",
    "    return(seznam_povezav)"
   ]
  },
  {
   "cell_type": "code",
   "execution_count": 18,
   "metadata": {},
   "outputs": [],
   "source": [
    "for tip in [\"cardtype\",\"subtype\",\"supertype\"]:\n",
    "    with open(os.path.join(\"Podatki\", \"Povezovalne_tabele\", f\"povezovalna_{tip}.csv\"), \"w\", encoding=\"utf-8\") as csvfile:\n",
    "        seznam_tuplov = ustvari_pare_povezovalne_tabele_glede_na_seznam(\"id_karte\",f\"{tip}\")\n",
    "        writer = csv.writer(csvfile)\n",
    "        writer.writerow([\"id_karte\", f\"{tip}\"])\n",
    "        for vrstica in seznam_tuplov:\n",
    "            writer.writerow(vrstica)"
   ]
  }
 ],
 "metadata": {
  "kernelspec": {
   "display_name": "Python 3",
   "language": "python",
   "name": "python3"
  },
  "language_info": {
   "codemirror_mode": {
    "name": "ipython",
    "version": 3
   },
   "file_extension": ".py",
   "mimetype": "text/x-python",
   "name": "python",
   "nbconvert_exporter": "python",
   "pygments_lexer": "ipython3",
   "version": "3.10.7"
  },
  "orig_nbformat": 4,
  "vscode": {
   "interpreter": {
    "hash": "613d879a9df29ca216f54f0a1e89f0b865c1f91ecf6d738c523174b1df816f98"
   }
  }
 },
 "nbformat": 4,
 "nbformat_minor": 2
}
