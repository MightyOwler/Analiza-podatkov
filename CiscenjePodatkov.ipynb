{
 "cells": [
  {
   "cell_type": "code",
   "execution_count": 95,
   "metadata": {},
   "outputs": [],
   "source": [
    "from datetime import datetime\n",
    "import pandas as pd\n",
    "import numpy as np"
   ]
  },
  {
   "cell_type": "code",
   "execution_count": 96,
   "metadata": {},
   "outputs": [
    {
     "name": "stdout",
     "output_type": "stream",
     "text": [
      "2022-04-09 00:00:00\n",
      "2022-04-09 00:00:00\n"
     ]
    }
   ],
   "source": [
    "from datetime import date\n",
    "\n",
    "def pretvori_datum_v_datetime(string_datuma):\n",
    "    \"\"\"\n",
    "    Funkcija, ki obe vrsti datuma pretvori v ustretno datetime obliko (datum_izida in datum all_time_high/low)\n",
    "    \"\"\"\n",
    "    \n",
    "    # Za vsak slučaj\n",
    "    if not string_datuma:\n",
    "        return None\n",
    "    \n",
    "    # Ločimo primera 'Apr 29, 2022' in '2022-04-29'\n",
    "    if \",\" in string_datuma:\n",
    "        return datetime.strptime(string_datuma, \"%b %d, %Y\")\n",
    "    else:\n",
    "        return datetime.strptime(string_datuma, \"%Y-%m-%d\")\n",
    "    \n",
    "print(pretvori_datum_v_datetime(\"Apr 9, 2022\"))\n",
    "print(pretvori_datum_v_datetime(\"2022-04-09\"))"
   ]
  },
  {
   "cell_type": "code",
   "execution_count": 97,
   "metadata": {},
   "outputs": [
    {
     "name": "stdout",
     "output_type": "stream",
     "text": [
      "['Sorcery']\n"
     ]
    }
   ],
   "source": [
    "def popravi_cardtype_aftermath(seznam_cardtypa):\n",
    "    \"\"\"\n",
    "    Popravimo seznam cardtypa, ki se pojavi zaradi nenavadnega/nekonsistentnega zapisa Aftermath kart na spletni strani\n",
    "    \"\"\"\n",
    "    \n",
    "    popravljen_seznam = []\n",
    "    for tip in seznam_cardtypa:\n",
    "        if tip not in popravljen_seznam and tip != \"//\":\n",
    "            popravljen_seznam.append(tip)\n",
    "    return popravljen_seznam\n",
    "\n",
    "print(popravi_cardtype_aftermath([\"Sorcery\", \"//\", \"Sorcery\"]))"
   ]
  },
  {
   "cell_type": "code",
   "execution_count": 98,
   "metadata": {},
   "outputs": [
    {
     "name": "stdout",
     "output_type": "stream",
     "text": [
      "['Beast', 'Noble']\n"
     ]
    }
   ],
   "source": [
    "def popravi_subtype_adventure(seznam_subtypa):\n",
    "    \"\"\"\n",
    "    Popravimo seznam subtypa, ki se pojavi zaradi nenavadnega/nekonsistentnega zapisa Adventure kart na spletni strani\n",
    "    \"\"\"\n",
    "    \n",
    "    popravljen_seznam = []\n",
    "    for tip in seznam_subtypa:\n",
    "        if tip == \"//\":\n",
    "                break\n",
    "        elif tip not in popravljen_seznam:\n",
    "            popravljen_seznam.append(tip)\n",
    "    return popravljen_seznam\n",
    "\n",
    "print(popravi_subtype_adventure(['Beast', 'Noble', '//', 'Sorcery']))"
   ]
  },
  {
   "cell_type": "code",
   "execution_count": 99,
   "metadata": {},
   "outputs": [
    {
     "name": "stdout",
     "output_type": "stream",
     "text": [
      "False\n"
     ]
    }
   ],
   "source": [
    "problematicni_tipi = [\"Token\", \"Emblem\"]\n",
    "def vsebovanost_problematicnih_karte_na_podlagi_seznama(seznam, seznam_problematicnih_elementov = problematicni_tipi):\n",
    "    \"\"\"\n",
    "    Preverimo, ali določen seznam vsebuje problematične elemente\n",
    "    \"\"\"\n",
    "    \n",
    "    vsebuje_problem = False\n",
    "    for element in seznam:\n",
    "        if element in seznam_problematicnih_elementov:\n",
    "            vsebuje_problem = True\n",
    "            break\n",
    "    return vsebuje_problem\n",
    "\n",
    "print(vsebovanost_problematicnih_karte_na_podlagi_seznama([\"Nissa\"], problematicni_tipi))"
   ]
  },
  {
   "cell_type": "code",
   "execution_count": 109,
   "metadata": {},
   "outputs": [
    {
     "name": "stdout",
     "output_type": "stream",
     "text": [
      "4\n",
      "wu\n"
     ]
    }
   ],
   "source": [
    "color_pentagon = \"wubrg\"\n",
    "\n",
    "def zavrti_cikel(cikel,smer_urinega = True):\n",
    "    if smer_urinega:\n",
    "        return cikel[1:] + cikel[0]\n",
    "    else:\n",
    "        return cikel[-1] + cikel[:-1]\n",
    "\n",
    "def razdalja_med_crkama_v_ciklu(prva_crka, druga_crka, niz_barve, smer_urinega = True):\n",
    "    if niz_barve[color_pentagon.index(prva_crka)] == druga_crka:\n",
    "        return 0\n",
    "    else:\n",
    "        return 1 + razdalja_med_crkama_v_ciklu(prva_crka, druga_crka, zavrti_cikel(niz_barve, smer_urinega), smer_urinega)\n",
    "\n",
    "\n",
    "print(razdalja_med_crkama_v_ciklu(\"u\",\"w\", color_pentagon, smer_urinega=True))\n",
    "\n",
    "def prvi_string_je_v_drugem(niz1, niz2):\n",
    "    for crka in niz1:\n",
    "        if crka not in niz2:\n",
    "            return False\n",
    "    return True\n",
    "\n",
    "def popravi_vrstni_red_barve(niz_barve):\n",
    "    # Izkaže se, da je še najlažje ločiti funkcijo glede na to, koliko barv je vsebovanih\n",
    "    # Celoten postopek določanja vrstnega reda je opisan tule: https://magic.wizards.com/en/articles/archive/ask-wizards-june-2004-2004-06-01\n",
    "    for problematicen_znak in \"(){}/p\":\n",
    "        if problematicen_znak in niz_barve:\n",
    "            return niz_barve\n",
    "    if len(niz_barve) < 2 or len(niz_barve) > 5:\n",
    "        return niz_barve\n",
    "    if len(niz_barve) == 5:\n",
    "        return color_pentagon\n",
    "    if len(niz_barve) == 2:\n",
    "        transpozicija_niza = niz_barve[::-1]\n",
    "        if razdalja_med_crkama_v_ciklu(niz_barve[0], niz_barve[1], color_pentagon) > 2:\n",
    "            return transpozicija_niza\n",
    "        else:\n",
    "            return niz_barve\n",
    "    if len(niz_barve) == 4:\n",
    "        manjka_barva = color_pentagon[::]\n",
    "        for crka in niz_barve:\n",
    "            if crka not in manjka_barva:\n",
    "                return niz_barve\n",
    "            else:\n",
    "                manjka_barva = manjka_barva.replace(crka, \"\")\n",
    "        kopija_pentagona = color_pentagon[::]\n",
    "        while kopija_pentagona[-1] != manjka_barva:\n",
    "            kopija_pentagona = zavrti_cikel(kopija_pentagona)\n",
    "        return kopija_pentagona.replace(manjka_barva, \"\")\n",
    "    if len(niz_barve) == 3:\n",
    "        \n",
    "        if niz_barve in f\"{color_pentagon},{zavrti_cikel(color_pentagon)},{zavrti_cikel(zavrti_cikel(color_pentagon))}\":\n",
    "            return niz_barve\n",
    "        kopija_pentagona = color_pentagon[::]\n",
    "        while not prvi_string_je_v_drugem(niz_barve, kopija_pentagona[::2]):\n",
    "            kopija_pentagona = zavrti_cikel(kopija_pentagona)\n",
    "        return kopija_pentagona[::2]\n",
    "            \n",
    "        \n",
    "print(popravi_vrstni_red_barve(\"uw\"))\n",
    "\n",
    "def popravi_barvo_karte(niz_barve, niz_oracle_texta):\n",
    "    \"\"\"\n",
    "    Ta funkcija vzame string barve, ki ga ustrezno popravi glede na oracle text + vrsntni red barv (UW -> WU)\n",
    "    \"\"\"\n",
    "    \n",
    "    # Tole moram še urediti, za nalogo samo niti ni tako bistveno, kot je iz osebnega interesa.\n",
    "    pass"
   ]
  },
  {
   "cell_type": "markdown",
   "metadata": {},
   "source": [
    "# Zdaj hočemo narediti podatkovno bazo z merganjem dveh dataframov"
   ]
  },
  {
   "cell_type": "code",
   "execution_count": 101,
   "metadata": {},
   "outputs": [],
   "source": [
    "osnovni_podatki_o_kartah = pd.read_csv(\"karte.csv\")\n",
    "dodatni_podatki_o_kartah = pd.read_csv(\"specificne_lastnosti_kart.csv\")\n",
    "\n",
    "podatkovna_baza = pd.merge(osnovni_podatki_o_kartah, dodatni_podatki_o_kartah)\n",
    "\n",
    "%reset_selective -f osnovni_podatki_o_kartah\n",
    "%reset_selective -f dodatni_podatki_o_kartah"
   ]
  },
  {
   "cell_type": "markdown",
   "metadata": {},
   "source": [
    "Zdaj malo popravimo tabelo s funckijami, ki smo jih napisali."
   ]
  },
  {
   "cell_type": "code",
   "execution_count": 111,
   "metadata": {},
   "outputs": [],
   "source": [
    "podatkovna_baza[\"cardtype\"] = podatkovna_baza[\"cardtype\"].apply(popravi_cardtype_aftermath)\n",
    "podatkovna_baza[\"cardtype\"] = podatkovna_baza[\"cardtype\"].apply(vsebovanost_problematicnih_karte_na_podlagi_seznama)\n",
    "podatkovna_baza[\"subtype\"] = podatkovna_baza[\"subtype\"].apply(popravi_subtype_adventure)\n",
    "#podatkovna_baza[\"povprecje_eu\"] = podatkovna_baza[\"povprecje_eu\"].str.replace(r\"\\u20ac\", \"€\")\n",
    "\n",
    "podatkovna_baza[[\"barva\"]] = podatkovna_baza[[\"barva\"]].apply(popravi_vrstni_red_barve)\n",
    "\n",
    "podatkovna_baza.to_json(\"popolni_podatki_o_kartah.json\", orient='records', indent=4)"
   ]
  },
  {
   "cell_type": "code",
   "execution_count": 103,
   "metadata": {},
   "outputs": [
    {
     "data": {
      "text/plain": [
       "'wbg'"
      ]
     },
     "execution_count": 103,
     "metadata": {},
     "output_type": "execute_result"
    }
   ],
   "source": []
  }
 ],
 "metadata": {
  "kernelspec": {
   "display_name": "Python 3",
   "language": "python",
   "name": "python3"
  },
  "language_info": {
   "codemirror_mode": {
    "name": "ipython",
    "version": 3
   },
   "file_extension": ".py",
   "mimetype": "text/x-python",
   "name": "python",
   "nbconvert_exporter": "python",
   "pygments_lexer": "ipython3",
   "version": "3.10.7"
  },
  "orig_nbformat": 4,
  "vscode": {
   "interpreter": {
    "hash": "613d879a9df29ca216f54f0a1e89f0b865c1f91ecf6d738c523174b1df816f98"
   }
  }
 },
 "nbformat": 4,
 "nbformat_minor": 2
}
