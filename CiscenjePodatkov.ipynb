{
 "cells": [
  {
   "cell_type": "code",
   "execution_count": 95,
   "metadata": {},
   "outputs": [],
   "source": [
    "from datetime import datetime\n",
    "import pandas as pd\n",
    "import numpy as np"
   ]
  },
  {
   "cell_type": "code",
   "execution_count": 96,
   "metadata": {},
   "outputs": [
    {
     "name": "stdout",
     "output_type": "stream",
     "text": [
      "2022-04-09 00:00:00\n",
      "2022-04-09 00:00:00\n"
     ]
    }
   ],
   "source": [
    "from datetime import date\n",
    "\n",
    "def pretvori_datum_v_datetime(string_datuma):\n",
    "    \"\"\"\n",
    "    Funkcija, ki obe vrsti datuma pretvori v ustretno datetime obliko (datum_izida in datum all_time_high/low)\n",
    "    \"\"\"\n",
    "    \n",
    "    # Za vsak slučaj\n",
    "    if not string_datuma:\n",
    "        return None\n",
    "    \n",
    "    # Ločimo primera 'Apr 29, 2022' in '2022-04-29'\n",
    "    if \",\" in string_datuma:\n",
    "        return datetime.strptime(string_datuma, \"%b %d, %Y\")\n",
    "    else:\n",
    "        return datetime.strptime(string_datuma, \"%Y-%m-%d\")\n",
    "    \n",
    "print(pretvori_datum_v_datetime(\"Apr 9, 2022\"))\n",
    "print(pretvori_datum_v_datetime(\"2022-04-09\"))"
   ]
  },
  {
   "cell_type": "code",
   "execution_count": 97,
   "metadata": {},
   "outputs": [
    {
     "name": "stdout",
     "output_type": "stream",
     "text": [
      "['Sorcery']\n"
     ]
    }
   ],
   "source": [
    "def popravi_cardtype_aftermath(seznam_cardtypa):\n",
    "    \"\"\"\n",
    "    Popravimo seznam cardtypa, ki se pojavi zaradi nenavadnega/nekonsistentnega zapisa Aftermath kart na spletni strani\n",
    "    \"\"\"\n",
    "    \n",
    "    popravljen_seznam = []\n",
    "    for tip in seznam_cardtypa:\n",
    "        if tip not in popravljen_seznam and tip != \"//\":\n",
    "            popravljen_seznam.append(tip)\n",
    "    return popravljen_seznam\n",
    "\n",
    "print(popravi_cardtype_aftermath([\"Sorcery\", \"//\", \"Sorcery\"]))"
   ]
  },
  {
   "cell_type": "code",
   "execution_count": 98,
   "metadata": {},
   "outputs": [
    {
     "name": "stdout",
     "output_type": "stream",
     "text": [
      "['Beast', 'Noble']\n"
     ]
    }
   ],
   "source": [
    "def popravi_subtype_adventure(seznam_subtypa):\n",
    "    \"\"\"\n",
    "    Popravimo seznam subtypa, ki se pojavi zaradi nenavadnega/nekonsistentnega zapisa Adventure kart na spletni strani\n",
    "    \"\"\"\n",
    "    \n",
    "    popravljen_seznam = []\n",
    "    for tip in seznam_subtypa:\n",
    "        if tip == \"//\":\n",
    "                break\n",
    "        elif tip not in popravljen_seznam:\n",
    "            popravljen_seznam.append(tip)\n",
    "    return popravljen_seznam\n",
    "\n",
    "print(popravi_subtype_adventure(['Beast', 'Noble', '//', 'Sorcery']))"
   ]
  },
  {
   "cell_type": "code",
   "execution_count": 99,
   "metadata": {},
   "outputs": [
    {
     "name": "stdout",
     "output_type": "stream",
     "text": [
      "False\n"
     ]
    }
   ],
   "source": [
    "problematicni_tipi = [\"Token\", \"Emblem\"]\n",
    "def vsebovanost_problematicnih_karte_na_podlagi_seznama(seznam, seznam_problematicnih_elementov = problematicni_tipi):\n",
    "    \"\"\"\n",
    "    Preverimo, ali določen seznam vsebuje problematične elemente\n",
    "    \"\"\"\n",
    "    \n",
    "    vsebuje_problem = False\n",
    "    for element in seznam:\n",
    "        if element in seznam_problematicnih_elementov:\n",
    "            vsebuje_problem = True\n",
    "            break\n",
    "    return vsebuje_problem\n",
    "\n",
    "print(vsebovanost_problematicnih_karte_na_podlagi_seznama([\"Nissa\"], problematicni_tipi))"
   ]
  },
  {
   "cell_type": "code",
   "execution_count": 109,
   "metadata": {},
   "outputs": [
    {
     "name": "stdout",
     "output_type": "stream",
     "text": [
      "4\n",
      "wu\n"
     ]
    }
   ],
   "source": [
    "color_pentagon = \"wubrg\"\n",
    "\n",
    "def zavrti_cikel(cikel,smer_urinega = True):\n",
    "    if smer_urinega:\n",
    "        return cikel[1:] + cikel[0]\n",
    "    else:\n",
    "        return cikel[-1] + cikel[:-1]\n",
    "\n",
    "def razdalja_med_crkama_v_ciklu(prva_crka, druga_crka, niz_barve, smer_urinega = True):\n",
    "    if niz_barve[color_pentagon.index(prva_crka)] == druga_crka:\n",
    "        return 0\n",
    "    else:\n",
    "        return 1 + razdalja_med_crkama_v_ciklu(prva_crka, druga_crka, zavrti_cikel(niz_barve, smer_urinega), smer_urinega)\n",
    "\n",
    "\n",
    "print(razdalja_med_crkama_v_ciklu(\"u\",\"w\", color_pentagon, smer_urinega=True))\n",
    "\n",
    "def prvi_string_je_v_drugem(niz1, niz2):\n",
    "    for crka in niz1:\n",
    "        if crka not in niz2:\n",
    "            return False\n",
    "    return True\n",
    "\n",
    "def popravi_vrstni_red_barve(niz_barve):\n",
    "    # Izkaže se, da je še najlažje ločiti funkcijo glede na to, koliko barv je vsebovanih\n",
    "    # Celoten postopek določanja vrstnega reda je opisan tule: https://magic.wizards.com/en/articles/archive/ask-wizards-june-2004-2004-06-01\n",
    "    for problematicen_znak in \"(){}/p\":\n",
    "        if problematicen_znak in niz_barve:\n",
    "            return niz_barve\n",
    "    if len(niz_barve) < 2 or len(niz_barve) > 5:\n",
    "        return niz_barve\n",
    "    if len(niz_barve) == 5:\n",
    "        return color_pentagon\n",
    "    if len(niz_barve) == 2:\n",
    "        transpozicija_niza = niz_barve[::-1]\n",
    "        if razdalja_med_crkama_v_ciklu(niz_barve[0], niz_barve[1], color_pentagon) > 2:\n",
    "            return transpozicija_niza\n",
    "        else:\n",
    "            return niz_barve\n",
    "    if len(niz_barve) == 4:\n",
    "        manjka_barva = color_pentagon[::]\n",
    "        for crka in niz_barve:\n",
    "            if crka not in manjka_barva:\n",
    "                return niz_barve\n",
    "            else:\n",
    "                manjka_barva = manjka_barva.replace(crka, \"\")\n",
    "        kopija_pentagona = color_pentagon[::]\n",
    "        while kopija_pentagona[-1] != manjka_barva:\n",
    "            kopija_pentagona = zavrti_cikel(kopija_pentagona)\n",
    "        return kopija_pentagona.replace(manjka_barva, \"\")\n",
    "    if len(niz_barve) == 3:\n",
    "        \n",
    "        if niz_barve in f\"{color_pentagon},{zavrti_cikel(color_pentagon)},{zavrti_cikel(zavrti_cikel(color_pentagon))}\":\n",
    "            return niz_barve\n",
    "        kopija_pentagona = color_pentagon[::]\n",
    "        while not prvi_string_je_v_drugem(niz_barve, kopija_pentagona[::2]):\n",
    "            kopija_pentagona = zavrti_cikel(kopija_pentagona)\n",
    "        return kopija_pentagona[::2]\n",
    "            \n",
    "        \n",
    "print(popravi_vrstni_red_barve(\"uw\"))\n",
    "\n",
    "def popravi_barvo_karte(niz_barve, niz_oracle_texta):\n",
    "    \"\"\"\n",
    "    Ta funkcija vzame string barve, ki ga ustrezno popravi glede na oracle text + vrsntni red barv (UW -> WU)\n",
    "    \"\"\"\n",
    "    \n",
    "    # Tole moram še urediti, za nalogo samo niti ni tako bistveno, kot je iz osebnega interesa.\n",
    "    pass"
   ]
  },
  {
   "cell_type": "markdown",
   "metadata": {},
   "source": [
    "# Zdaj hočemo narediti podatkovno bazo z merganjem dveh dataframov"
   ]
  },
  {
   "cell_type": "code",
   "execution_count": 101,
   "metadata": {},
   "outputs": [],
   "source": [
    "osnovni_podatki_o_kartah = pd.read_csv(\"karte.csv\")\n",
    "dodatni_podatki_o_kartah = pd.read_csv(\"specificne_lastnosti_kart.csv\")\n",
    "\n",
    "podatkovna_baza = pd.merge(osnovni_podatki_o_kartah, dodatni_podatki_o_kartah)\n",
    "\n",
    "%reset_selective -f osnovni_podatki_o_kartah\n",
    "%reset_selective -f dodatni_podatki_o_kartah"
   ]
  },
  {
   "cell_type": "markdown",
   "metadata": {},
   "source": [
    "Zdaj malo popravimo tabelo s funckijami, ki smo jih napisali."
   ]
  },
  {
   "cell_type": "code",
   "execution_count": 112,
   "metadata": {},
   "outputs": [
    {
     "ename": "TypeError",
     "evalue": "'bool' object is not iterable",
     "output_type": "error",
     "traceback": [
      "\u001b[1;31m---------------------------------------------------------------------------\u001b[0m",
      "\u001b[1;31mTypeError\u001b[0m                                 Traceback (most recent call last)",
      "Cell \u001b[1;32mIn [112], line 1\u001b[0m\n\u001b[1;32m----> 1\u001b[0m podatkovna_baza[\u001b[39m\"\u001b[39m\u001b[39mcardtype\u001b[39m\u001b[39m\"\u001b[39m] \u001b[39m=\u001b[39m podatkovna_baza[\u001b[39m\"\u001b[39;49m\u001b[39mcardtype\u001b[39;49m\u001b[39m\"\u001b[39;49m]\u001b[39m.\u001b[39;49mapply(popravi_cardtype_aftermath)\n\u001b[0;32m      2\u001b[0m podatkovna_baza[\u001b[39m\"\u001b[39m\u001b[39mcardtype\u001b[39m\u001b[39m\"\u001b[39m] \u001b[39m=\u001b[39m podatkovna_baza[\u001b[39m\"\u001b[39m\u001b[39mcardtype\u001b[39m\u001b[39m\"\u001b[39m]\u001b[39m.\u001b[39mapply(vsebovanost_problematicnih_karte_na_podlagi_seznama)\n\u001b[0;32m      3\u001b[0m podatkovna_baza[\u001b[39m\"\u001b[39m\u001b[39msubtype\u001b[39m\u001b[39m\"\u001b[39m] \u001b[39m=\u001b[39m podatkovna_baza[\u001b[39m\"\u001b[39m\u001b[39msubtype\u001b[39m\u001b[39m\"\u001b[39m]\u001b[39m.\u001b[39mapply(popravi_subtype_adventure)\n",
      "File \u001b[1;32mc:\\Users\\jasak\\AppData\\Local\\Programs\\Python\\Python310\\lib\\site-packages\\pandas\\core\\series.py:4774\u001b[0m, in \u001b[0;36mSeries.apply\u001b[1;34m(self, func, convert_dtype, args, **kwargs)\u001b[0m\n\u001b[0;32m   4664\u001b[0m \u001b[39mdef\u001b[39;00m \u001b[39mapply\u001b[39m(\n\u001b[0;32m   4665\u001b[0m     \u001b[39mself\u001b[39m,\n\u001b[0;32m   4666\u001b[0m     func: AggFuncType,\n\u001b[1;32m   (...)\u001b[0m\n\u001b[0;32m   4669\u001b[0m     \u001b[39m*\u001b[39m\u001b[39m*\u001b[39mkwargs,\n\u001b[0;32m   4670\u001b[0m ) \u001b[39m-\u001b[39m\u001b[39m>\u001b[39m DataFrame \u001b[39m|\u001b[39m Series:\n\u001b[0;32m   4671\u001b[0m     \u001b[39m\"\"\"\u001b[39;00m\n\u001b[0;32m   4672\u001b[0m \u001b[39m    Invoke function on values of Series.\u001b[39;00m\n\u001b[0;32m   4673\u001b[0m \n\u001b[1;32m   (...)\u001b[0m\n\u001b[0;32m   4772\u001b[0m \u001b[39m    dtype: float64\u001b[39;00m\n\u001b[0;32m   4773\u001b[0m \u001b[39m    \"\"\"\u001b[39;00m\n\u001b[1;32m-> 4774\u001b[0m     \u001b[39mreturn\u001b[39;00m SeriesApply(\u001b[39mself\u001b[39;49m, func, convert_dtype, args, kwargs)\u001b[39m.\u001b[39;49mapply()\n",
      "File \u001b[1;32mc:\\Users\\jasak\\AppData\\Local\\Programs\\Python\\Python310\\lib\\site-packages\\pandas\\core\\apply.py:1100\u001b[0m, in \u001b[0;36mSeriesApply.apply\u001b[1;34m(self)\u001b[0m\n\u001b[0;32m   1097\u001b[0m     \u001b[39mreturn\u001b[39;00m \u001b[39mself\u001b[39m\u001b[39m.\u001b[39mapply_str()\n\u001b[0;32m   1099\u001b[0m \u001b[39m# self.f is Callable\u001b[39;00m\n\u001b[1;32m-> 1100\u001b[0m \u001b[39mreturn\u001b[39;00m \u001b[39mself\u001b[39;49m\u001b[39m.\u001b[39;49mapply_standard()\n",
      "File \u001b[1;32mc:\\Users\\jasak\\AppData\\Local\\Programs\\Python\\Python310\\lib\\site-packages\\pandas\\core\\apply.py:1151\u001b[0m, in \u001b[0;36mSeriesApply.apply_standard\u001b[1;34m(self)\u001b[0m\n\u001b[0;32m   1149\u001b[0m     \u001b[39melse\u001b[39;00m:\n\u001b[0;32m   1150\u001b[0m         values \u001b[39m=\u001b[39m obj\u001b[39m.\u001b[39mastype(\u001b[39mobject\u001b[39m)\u001b[39m.\u001b[39m_values\n\u001b[1;32m-> 1151\u001b[0m         mapped \u001b[39m=\u001b[39m lib\u001b[39m.\u001b[39;49mmap_infer(\n\u001b[0;32m   1152\u001b[0m             values,\n\u001b[0;32m   1153\u001b[0m             f,\n\u001b[0;32m   1154\u001b[0m             convert\u001b[39m=\u001b[39;49m\u001b[39mself\u001b[39;49m\u001b[39m.\u001b[39;49mconvert_dtype,\n\u001b[0;32m   1155\u001b[0m         )\n\u001b[0;32m   1157\u001b[0m \u001b[39mif\u001b[39;00m \u001b[39mlen\u001b[39m(mapped) \u001b[39mand\u001b[39;00m \u001b[39misinstance\u001b[39m(mapped[\u001b[39m0\u001b[39m], ABCSeries):\n\u001b[0;32m   1158\u001b[0m     \u001b[39m# GH#43986 Need to do list(mapped) in order to get treated as nested\u001b[39;00m\n\u001b[0;32m   1159\u001b[0m     \u001b[39m#  See also GH#25959 regarding EA support\u001b[39;00m\n\u001b[0;32m   1160\u001b[0m     \u001b[39mreturn\u001b[39;00m obj\u001b[39m.\u001b[39m_constructor_expanddim(\u001b[39mlist\u001b[39m(mapped), index\u001b[39m=\u001b[39mobj\u001b[39m.\u001b[39mindex)\n",
      "File \u001b[1;32mc:\\Users\\jasak\\AppData\\Local\\Programs\\Python\\Python310\\lib\\site-packages\\pandas\\_libs\\lib.pyx:2919\u001b[0m, in \u001b[0;36mpandas._libs.lib.map_infer\u001b[1;34m()\u001b[0m\n",
      "Cell \u001b[1;32mIn [97], line 7\u001b[0m, in \u001b[0;36mpopravi_cardtype_aftermath\u001b[1;34m(seznam_cardtypa)\u001b[0m\n\u001b[0;32m      2\u001b[0m \u001b[39m\"\"\"\u001b[39;00m\n\u001b[0;32m      3\u001b[0m \u001b[39mPopravimo seznam cardtypa, ki se pojavi zaradi nenavadnega/nekonsistentnega zapisa Aftermath kart na spletni strani\u001b[39;00m\n\u001b[0;32m      4\u001b[0m \u001b[39m\"\"\"\u001b[39;00m\n\u001b[0;32m      6\u001b[0m popravljen_seznam \u001b[39m=\u001b[39m []\n\u001b[1;32m----> 7\u001b[0m \u001b[39mfor\u001b[39;00m tip \u001b[39min\u001b[39;00m seznam_cardtypa:\n\u001b[0;32m      8\u001b[0m     \u001b[39mif\u001b[39;00m tip \u001b[39mnot\u001b[39;00m \u001b[39min\u001b[39;00m popravljen_seznam \u001b[39mand\u001b[39;00m tip \u001b[39m!=\u001b[39m \u001b[39m\"\u001b[39m\u001b[39m//\u001b[39m\u001b[39m\"\u001b[39m:\n\u001b[0;32m      9\u001b[0m         popravljen_seznam\u001b[39m.\u001b[39mappend(tip)\n",
      "\u001b[1;31mTypeError\u001b[0m: 'bool' object is not iterable"
     ]
    }
   ],
   "source": [
    "podatkovna_baza[\"cardtype\"] = podatkovna_baza[\"cardtype\"].apply(popravi_cardtype_aftermath)\n",
    "podatkovna_baza[\"cardtype\"] = podatkovna_baza[\"cardtype\"].apply(vsebovanost_problematicnih_karte_na_podlagi_seznama)\n",
    "podatkovna_baza[\"subtype\"] = podatkovna_baza[\"subtype\"].apply(popravi_subtype_adventure)\n",
    "#podatkovna_baza[\"povprecje_eu\"] = podatkovna_baza[\"povprecje_eu\"].str.replace(r\"\\u20ac\", \"€\")\n",
    "\n",
    "podatkovna_baza[[\"barva\"]] = podatkovna_baza[[\"barva\"]].apply(popravi_vrstni_red_barve)\n",
    "\n",
    "podatkovna_baza.to_json(\"popolni_podatki_o_kartah.json\", orient='records', indent=4)"
   ]
  },
  {
   "cell_type": "code",
   "execution_count": 103,
   "metadata": {},
   "outputs": [
    {
     "data": {
      "text/plain": [
       "'wbg'"
      ]
     },
     "execution_count": 103,
     "metadata": {},
     "output_type": "execute_result"
    }
   ],
   "source": []
  }
 ],
 "metadata": {
  "kernelspec": {
   "display_name": "Python 3",
   "language": "python",
   "name": "python3"
  },
  "language_info": {
   "codemirror_mode": {
    "name": "ipython",
    "version": 3
   },
   "file_extension": ".py",
   "mimetype": "text/x-python",
   "name": "python",
   "nbconvert_exporter": "python",
   "pygments_lexer": "ipython3",
   "version": "3.10.7"
  },
  "orig_nbformat": 4,
  "vscode": {
   "interpreter": {
    "hash": "613d879a9df29ca216f54f0a1e89f0b865c1f91ecf6d738c523174b1df816f98"
   }
  }
 },
 "nbformat": 4,
 "nbformat_minor": 2
}
