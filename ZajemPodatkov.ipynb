{
 "cells": [
  {
   "cell_type": "code",
   "execution_count": 33,
   "metadata": {},
   "outputs": [
    {
     "name": "stderr",
     "output_type": "stream",
     "text": [
      "C:\\Users\\jasak\\AppData\\Local\\Temp\\ipykernel_20420\\159072978.py:16: DeprecationWarning: executable_path has been deprecated, please pass in a Service object\n",
      "  driver = webdriver.Chrome(\"chromedriver.exe\", options=chrome_options)\n"
     ]
    }
   ],
   "source": [
    "import re\n",
    "import requests\n",
    "import csv\n",
    "import json\n",
    "from selenium import webdriver\n",
    "from selenium.webdriver.chrome.options import Options\n",
    "from selenium.webdriver.common.by import By\n",
    "import os, glob\n",
    "import time\n",
    "import pandas as pd\n",
    "import numpy as np\n",
    "    \n",
    "# Tole dvoje je treba, da se Chrome sproti ne odpira\n",
    "chrome_options = Options()\n",
    "chrome_options.add_argument(\"--headless\")\n",
    "driver = webdriver.Chrome(\"chromedriver.exe\", options=chrome_options)"
   ]
  },
  {
   "cell_type": "code",
   "execution_count": 34,
   "metadata": {},
   "outputs": [],
   "source": [
    "vzorec_bloka = re.compile(\n",
    "    r'<td><mtg-set-icon.*?'\n",
    "    r'</tr',\n",
    "    flags=re.DOTALL\n",
    ")\n",
    "\n",
    "vzorec_karte = re.compile(\n",
    "    r'<td><mtg-set-icon.*?>.*?<i _ngcontent.*? class=\"ss ss-fw ss-(?P<set>.+?)\\b( ss-.*?)?\"></i><!----></mtg-set-icon>'\n",
    "    r'<a href=\"/prints/(?P<id_karte>\\d*).*?\">'\n",
    "    r'(?P<ime>.*?)'\n",
    "    r'</a>.*?</td>.*?<td> (?P<redkost>.*?) </td>'\n",
    "    r'.*?<td class=\"text-end\">'\n",
    "    r' (?P<povprecna_cena>.*?) </td>(<\\!---->)+(<td class=\"text-end\">.*?</td>.*?<td class=\"text-end\"> (?P<povprecna_cena_foil>.*?) </td>.*?<td class=\"text-end\">.*?</td>)?',  \n",
    "    flags=re.DOTALL\n",
    "    )\n",
    "\n",
    "def izloci_podatke_o_kartah(blok):\n",
    "    karta = vzorec_karte.search(blok).groupdict()\n",
    "    karta['id_karte'] = int(karta['id_karte'])\n",
    "    karta['ime'] = karta['ime'].strip()\n",
    "    karta['set'] = karta['set'].upper()\n",
    "    karta['redkost'] = karta[\"redkost\"].strip()\n",
    "    karta['povprecna_cena'] = karta[\"povprecna_cena\"]\n",
    "    karta['povprecna_cena_foil'] = karta[\"povprecna_cena_foil\"]\n",
    "\n",
    "    return karta\n",
    "\n",
    "def izloci_podatke_o_specificni_karti(vsebina):\n",
    "    \"\"\"\n",
    "    To bo izločilo vse dodatne podatke o karti, ki jih bomo našli na naslovu .../prints/<id_karte>\n",
    "    \"\"\"\n",
    "    pass\n",
    "\n",
    "def pridobi_ustrezno_ime_lokalne_datoteke(st_strani):\n",
    "    return f\"Podatki o kartah/Podatki iz setov/Karte iz seta st. {st_strani}.html\""
   ]
  },
  {
   "cell_type": "code",
   "execution_count": 35,
   "metadata": {},
   "outputs": [
    {
     "name": "stdout",
     "output_type": "stream",
     "text": [
      "\n",
      " Zajemam https://www.mtgstocks.com/sets/1\n",
      "\n",
      "Naslov strani: Return to Ravnica - MTGStocks\n",
      "\n",
      " Stran št. 1 JE dosegljiva.\n",
      "\n",
      "Pobrana 1. podstran\n"
     ]
    },
    {
     "ename": "KeyboardInterrupt",
     "evalue": "",
     "output_type": "error",
     "traceback": [
      "\u001b[1;31m---------------------------------------------------------------------------\u001b[0m",
      "\u001b[1;31mKeyboardInterrupt\u001b[0m                         Traceback (most recent call last)",
      "Cell \u001b[1;32mIn [35], line 41\u001b[0m\n\u001b[0;32m     39\u001b[0m \u001b[39mfor\u001b[39;00m podstran \u001b[39min\u001b[39;00m \u001b[39mrange\u001b[39m(\u001b[39m1\u001b[39m, stevilo_podstrani_s_kartami \u001b[39m+\u001b[39m \u001b[39m1\u001b[39m):\n\u001b[0;32m     40\u001b[0m     driver\u001b[39m.\u001b[39mfind_element(by\u001b[39m=\u001b[39mBy\u001b[39m.\u001b[39mXPATH, value \u001b[39m=\u001b[39m \u001b[39mf\u001b[39m\u001b[39m\"\u001b[39m\u001b[39m//*[contains(@class, \u001b[39m\u001b[39m'\u001b[39m\u001b[39mpagination-page page-item\u001b[39m\u001b[39m'\u001b[39m\u001b[39m)][\u001b[39m\u001b[39m{\u001b[39;00mpodstran\u001b[39m}\u001b[39;00m\u001b[39m]//a\u001b[39m\u001b[39m\"\u001b[39m)\u001b[39m.\u001b[39mclick()\n\u001b[1;32m---> 41\u001b[0m     time\u001b[39m.\u001b[39;49msleep(\u001b[39m1\u001b[39;49m)\n\u001b[0;32m     42\u001b[0m     \u001b[39mprint\u001b[39m(\u001b[39mf\u001b[39m\u001b[39m\"\u001b[39m\u001b[39mPobrana \u001b[39m\u001b[39m{\u001b[39;00mpodstran\u001b[39m}\u001b[39;00m\u001b[39m. podstran\u001b[39m\u001b[39m\"\u001b[39m)\n\u001b[0;32m     43\u001b[0m     dat\u001b[39m.\u001b[39mwrite(driver\u001b[39m.\u001b[39mpage_source)\n",
      "\u001b[1;31mKeyboardInterrupt\u001b[0m: "
     ]
    }
   ],
   "source": [
    "# Najprej poradiramo csv in json datoteki\n",
    "with open(\"karte.csv\", \"w\", encoding = \"utf-8\") as dat:\n",
    "    pass\n",
    "\n",
    "with open(\"karte.json\", \"w\", encoding = \"utf-8\") as dat:\n",
    "    pass\n",
    "\n",
    "PRVI_SET = 1\n",
    "ZADNJI_SET = 1300\n",
    "\n",
    "#indeksi_setov_ki_obstajajo = []\n",
    "\n",
    "for st_strani in range(PRVI_SET, ZADNJI_SET + 1):\n",
    "    url = (\n",
    "        f'https://www.mtgstocks.com/sets/{st_strani}' \n",
    "    )\n",
    "    print(f\"\\n Zajemam {url}\\n\")\n",
    "    driver.get(url)\n",
    "    time.sleep(1)\n",
    "    \n",
    "    \n",
    "    vsebina = driver.page_source\n",
    "    naslov_strani = driver.title\n",
    "    \n",
    "    stevilo_podstrani_s_kartami = vsebina.count(\"pagination-page page-item\")\n",
    "    st_besed_Market_na_strani = vsebina.count(\">Market<\")\n",
    "    \n",
    "    print(\"Naslov strani:\", naslov_strani)\n",
    "    \n",
    "    if naslov_strani in [\"File not found - MTGStocks\"]:\n",
    "        print(f'\\n Stran št. {st_strani} ni dosegljiva.\\n')\n",
    "    else:\n",
    "        print(f'\\n Stran št. {st_strani} JE dosegljiva.\\n')\n",
    "        if \"Art Series:\" in naslov_strani or \"From the Vault:\" in naslov_strani or st_besed_Market_na_strani == 0:\n",
    "            continue\n",
    "        else:\n",
    "            with open(pridobi_ustrezno_ime_lokalne_datoteke(st_strani), 'w', encoding = \"utf-8\") as dat:\n",
    "                driver.find_element(by=By.XPATH, value = \"//*[text() = 'Market']//..\").click()\n",
    "                for podstran in range(1, stevilo_podstrani_s_kartami + 1):\n",
    "                    driver.find_element(by=By.XPATH, value = f\"//*[contains(@class, 'pagination-page page-item')][{podstran}]//a\").click()\n",
    "                    time.sleep(1)\n",
    "                    print(f\"Pobrana {podstran}. podstran\")\n",
    "                    dat.write(driver.page_source)\n",
    "  "
   ]
  },
  {
   "cell_type": "markdown",
   "metadata": {},
   "source": [
    "Koda za zapisovanje kart iz lokalnih datotek v csv in json format.\n"
   ]
  },
  {
   "cell_type": "code",
   "execution_count": 55,
   "metadata": {},
   "outputs": [
    {
     "name": "stdout",
     "output_type": "stream",
     "text": [
      "Berem podatke kart iz Podatki o kartah/Podatki iz setov\\Karte iz seta st. 1.html\n",
      "Berem podatke kart iz Podatki o kartah/Podatki iz setov\\Karte iz seta st. 10.html\n"
     ]
    },
    {
     "ename": "UnicodeDecodeError",
     "evalue": "'utf-8' codec can't decode byte 0x8b in position 99824: invalid start byte",
     "output_type": "error",
     "traceback": [
      "\u001b[1;31m---------------------------------------------------------------------------\u001b[0m",
      "\u001b[1;31mUnicodeDecodeError\u001b[0m                        Traceback (most recent call last)",
      "Cell \u001b[1;32mIn [55], line 10\u001b[0m\n\u001b[0;32m      8\u001b[0m stetje \u001b[39m=\u001b[39m \u001b[39m0\u001b[39m\n\u001b[0;32m      9\u001b[0m \u001b[39mprint\u001b[39m(\u001b[39mf\u001b[39m\u001b[39m\"\u001b[39m\u001b[39mBerem podatke kart iz \u001b[39m\u001b[39m{\u001b[39;00mfilename\u001b[39m}\u001b[39;00m\u001b[39m\"\u001b[39m)\n\u001b[1;32m---> 10\u001b[0m vsebina \u001b[39m=\u001b[39m f\u001b[39m.\u001b[39;49mread()\n\u001b[0;32m     12\u001b[0m \u001b[39mfor\u001b[39;00m blok \u001b[39min\u001b[39;00m vzorec_bloka\u001b[39m.\u001b[39mfinditer(vsebina):\n\u001b[0;32m     13\u001b[0m     stetje \u001b[39m+\u001b[39m\u001b[39m=\u001b[39m \u001b[39m1\u001b[39m\n",
      "File \u001b[1;32mc:\\Users\\jasak\\AppData\\Local\\Programs\\Python\\Python310\\lib\\codecs.py:322\u001b[0m, in \u001b[0;36mBufferedIncrementalDecoder.decode\u001b[1;34m(self, input, final)\u001b[0m\n\u001b[0;32m    319\u001b[0m \u001b[39mdef\u001b[39;00m \u001b[39mdecode\u001b[39m(\u001b[39mself\u001b[39m, \u001b[39minput\u001b[39m, final\u001b[39m=\u001b[39m\u001b[39mFalse\u001b[39;00m):\n\u001b[0;32m    320\u001b[0m     \u001b[39m# decode input (taking the buffer into account)\u001b[39;00m\n\u001b[0;32m    321\u001b[0m     data \u001b[39m=\u001b[39m \u001b[39mself\u001b[39m\u001b[39m.\u001b[39mbuffer \u001b[39m+\u001b[39m \u001b[39minput\u001b[39m\n\u001b[1;32m--> 322\u001b[0m     (result, consumed) \u001b[39m=\u001b[39m \u001b[39mself\u001b[39;49m\u001b[39m.\u001b[39;49m_buffer_decode(data, \u001b[39mself\u001b[39;49m\u001b[39m.\u001b[39;49merrors, final)\n\u001b[0;32m    323\u001b[0m     \u001b[39m# keep undecoded input until the next call\u001b[39;00m\n\u001b[0;32m    324\u001b[0m     \u001b[39mself\u001b[39m\u001b[39m.\u001b[39mbuffer \u001b[39m=\u001b[39m data[consumed:]\n",
      "\u001b[1;31mUnicodeDecodeError\u001b[0m: 'utf-8' codec can't decode byte 0x8b in position 99824: invalid start byte"
     ]
    }
   ],
   "source": [
    "debug_mode_za_branje_iz_lokalnih_datotek = False\n",
    "path = 'Podatki o kartah/Podatki iz setov'\n",
    "karte = []\n",
    "\n",
    "for filename in glob.glob(os.path.join(path, '*.html')):\n",
    "    with open(filename, 'r', encoding = \"utf-8\") as f:\n",
    "\n",
    "        stetje = 0\n",
    "        print(f\"Berem podatke kart iz {filename}\")\n",
    "        vsebina = f.read()\n",
    "        \n",
    "        for blok in vzorec_bloka.finditer(vsebina):\n",
    "            stetje += 1\n",
    "            \n",
    "            if debug_mode_za_branje_iz_lokalnih_datotek:\n",
    "                print(stetje)\n",
    "                print(blok.group(0))\n",
    "                print(vzorec_karte.search(blok.group(0)).groupdict())\n",
    "            \n",
    "            karte.append(izloci_podatke_o_kartah(blok.group(0)))\n",
    "\n",
    "with open(\"karte.json\", \"a\", encoding = \"utf-8\") as dat:\n",
    "    json.dump(karte, dat, indent=4, ensure_ascii=False)\n",
    "    \n",
    "\n",
    "with open(\"karte.csv\", \"a\", encoding = \"utf-8\") as dat:\n",
    "    writer = csv.DictWriter(dat, [\n",
    "        \"id_karte\",\n",
    "        \"ime\",\n",
    "        \"set\",\n",
    "        \"redkost\",\n",
    "        \"povprecna_cena\",\n",
    "        \"povprecna_cena_foil\",\n",
    "    ])\n",
    "    writer.writeheader()\n",
    "    writer.writerows(karte)"
   ]
  },
  {
   "cell_type": "markdown",
   "metadata": {},
   "source": [
    "Zdaj se znebimo kart, ki so tokeni ali basic landi.\n",
    "Prav tako bi se radi znebili kart, ki imajo tako ceno kot ceno foila ničelno. (Torej da lahko karte primerjamo po vsaj eni komponenti).\n",
    "Pri tem je vredno omeniti, da imajo karte, ki so najbolj zaželene, tudi najbolj popolne podatke, torej jih s tem ne bomo izgubili.\n"
   ]
  },
  {
   "cell_type": "code",
   "execution_count": 40,
   "metadata": {},
   "outputs": [
    {
     "name": "stdout",
     "output_type": "stream",
     "text": [
      "       id_karte               ime  set   redkost povprecna_cena  \\\n",
      "0         19748     Cyclonic Rift  RTR      Rare         $38.00   \n",
      "1         19934   Utvara Hellkite  RTR    Mythic         $19.53   \n",
      "2           360       Blood Crypt  RTR      Rare         $19.99   \n",
      "3           404       Steam Vents  RTR      Rare         $18.63   \n",
      "4           395    Overgrown Tomb  RTR      Rare         $13.99   \n",
      "...         ...               ...  ...       ...            ...   \n",
      "47532     18337  Dregscape Zombie  ARC    Common          $0.25   \n",
      "47533     18380        Juggernaut  ARC  Uncommon          $0.25   \n",
      "47534     18421           Plummet  ARC    Common          $0.25   \n",
      "47535     18348          Fertilid  ARC    Common          $0.38   \n",
      "47536     18434  Sanctum Gargoyle  ARC    Common          $0.24   \n",
      "\n",
      "      povprecna_cena_foil  \n",
      "0                  $57.99  \n",
      "1                  $57.44  \n",
      "2                  $34.37  \n",
      "3                  $38.61  \n",
      "4                  $25.72  \n",
      "...                   ...  \n",
      "47532                 NaN  \n",
      "47533                 NaN  \n",
      "47534                 NaN  \n",
      "47535                 NaN  \n",
      "47536                 NaN  \n",
      "\n",
      "[43057 rows x 6 columns]\n",
      "0        19748\n",
      "1        19934\n",
      "2          360\n",
      "3          404\n",
      "4          395\n",
      "         ...  \n",
      "47532    18337\n",
      "47533    18380\n",
      "47534    18421\n",
      "47535    18348\n",
      "47536    18434\n",
      "Name: id_karte, Length: 43057, dtype: int64\n"
     ]
    }
   ],
   "source": [
    "podatki_o_kartah = pd.read_csv(\"karte.csv\", encoding=\"utf-8\")\n",
    "\n",
    "regex_izraz_za_basic_lande = r'Forest \\(\\d|Mountain \\(\\d|Swamp \\(\\d|Plains \\(\\d|Island \\(\\d|Wastes \\(\\d'\n",
    "okrajsani_podatki = podatki_o_kartah[~(podatki_o_kartah.redkost.isin([\"Token\", \"Land\"])) & ~(podatki_o_kartah.ime.str.match(regex_izraz_za_basic_lande)) & ~(podatki_o_kartah.ime.isin([\"Forest\", \"Mountain\", \"Swamp\", \"Plains\", \"Island\", \"Wastes\"]))]\n",
    "okrajsani_podatki = okrajsani_podatki[~(okrajsani_podatki.povprecna_cena.isnull() & okrajsani_podatki.povprecna_cena_foil.isnull())]\n",
    "okrajsani_indeksi = okrajsani_podatki.id_karte\n",
    "print(okrajsani_podatki)\n",
    "print(okrajsani_indeksi)"
   ]
  },
  {
   "cell_type": "markdown",
   "metadata": {},
   "source": [
    "Zdaj pa pogledamo vsako posamezno karto. Zato bomo naredili posamezne vzorce, ki nam bodo pomagali pri parsanju.\n"
   ]
  },
  {
   "cell_type": "code",
   "execution_count": 51,
   "metadata": {},
   "outputs": [],
   "source": [
    "vzorec_specificne_karte = re.compile(\n",
    "    r'Europe avg </p> (?P<povprecje_eu>.*?) </mtg.*class=\"card-oracle-item\".*?</i> (?P<oracle_text>.*?) <.* '\n",
    "    r'All Time Low </p><h3.*?>(?P<all_time_low>.*?)</h3><h5.*?> (?P<datum_all_time_low>.*?) </h5>.*?'\n",
    "    r'All Time High </p><h3.*?>(?P<all_time_high>.*?)</h3><h5.*?> (?P<datum_all_time_high>.*?) </h5>.*?'\n",
    "    r'Reserved list\\?</p><h3.*?>(?P<reserved_list>.*?)</h3>.*?'\n",
    "    ,\n",
    "    flags=re.DOTALL\n",
    ")\n",
    "\n",
    "vzorec_povprecja_eu = re.compile(\n",
    "    r'Europe avg </p> (?P<povprecje_eu>.*?) <',\n",
    "    flags=re.DOTALL\n",
    ")\n",
    "\n",
    "vzorec_oracle_texta = re.compile(\n",
    "    r'class=\"card-oracle-item\".*?</i> (?P<oracle_text>.*?) <',\n",
    "    flags=re.DOTALL\n",
    ")\n",
    "\n",
    "vzorec_all_time_low = re.compile(\n",
    "    r'All Time Low </p><h3.*?>(?P<all_time_low>.*?)</h3><h5.*?> (?P<datum_all_time_low>.*?) </h5>',\n",
    "    flags=re.DOTALL\n",
    ")\n",
    "\n",
    "vzorec_all_time_high = re.compile(\n",
    "    r'All Time High </p><h3.*?>(?P<all_time_high>.*?)</h3><h5.*?> (?P<datum_all_time_high>.*?) </h5>',\n",
    "    flags=re.DOTALL\n",
    ")\n",
    "\n",
    "vzorec_reserved_list = re.compile(\n",
    "    r'Reserved list\\?</p><h3.*?>(?P<reserved_list>.*?)</h3>',\n",
    "    flags=re.DOTALL\n",
    ")"
   ]
  },
  {
   "cell_type": "code",
   "execution_count": 54,
   "metadata": {},
   "outputs": [
    {
     "name": "stdout",
     "output_type": "stream",
     "text": [
      "['€49.43']\n",
      "['Legendary Creature - Eldrazi, ']\n",
      "[('$7.94', 'Sep 21, 2017')]\n",
      "[('$96.25', 'Aug 11, 2022')]\n",
      "['No']\n"
     ]
    }
   ],
   "source": [
    "with open(\"testni_zajcek.txt\", \"r\", encoding = \"utf-8\") as testna_datoteka:\n",
    "    vsebina = testna_datoteka.read()\n",
    "\n",
    "print(re.findall(vzorec_povprecja_eu, vsebina))\n",
    "print(re.findall(vzorec_oracle_texta, vsebina))\n",
    "print(re.findall(vzorec_all_time_low, vsebina))\n",
    "print(re.findall(vzorec_all_time_high, vsebina))\n",
    "print(re.findall(vzorec_reserved_list, vsebina))"
   ]
  },
  {
   "cell_type": "code",
   "execution_count": 42,
   "metadata": {},
   "outputs": [
    {
     "name": "stdout",
     "output_type": "stream",
     "text": [
      "Število vseh indeksov kart, ki jih imamo: 43057\n",
      "Zajemanje printa karte št. 19748 s strani https://www.mtgstocks.com/prints/19748\n"
     ]
    },
    {
     "name": "stderr",
     "output_type": "stream",
     "text": [
      "C:\\Users\\jasak\\AppData\\Local\\Temp\\ipykernel_20420\\3063670685.py:2: FutureWarning: The behavior of `series[i:j]` with an integer-dtype index is deprecated. In a future version, this will be treated as *label-based* indexing, consistent with e.g. `series[i]` lookups. To retain the old behavior, use `series.iloc[i:j]`. To get the future behavior, use `series.loc[i:j]`.\n",
      "  for indeks_printa in okrajsani_indeksi[:300]:\n"
     ]
    },
    {
     "ename": "KeyboardInterrupt",
     "evalue": "",
     "output_type": "error",
     "traceback": [
      "\u001b[1;31m---------------------------------------------------------------------------\u001b[0m",
      "\u001b[1;31mKeyboardInterrupt\u001b[0m                         Traceback (most recent call last)",
      "Cell \u001b[1;32mIn [42], line 7\u001b[0m\n\u001b[0;32m      5\u001b[0m \u001b[39mwith\u001b[39;00m \u001b[39mopen\u001b[39m(\u001b[39mf\u001b[39m\u001b[39m\"\u001b[39m\u001b[39mPodatki o kartah/Podatki o specificnih kartah/Podatki o karti st. \u001b[39m\u001b[39m{\u001b[39;00mindeks_printa\u001b[39m}\u001b[39;00m\u001b[39m.html\u001b[39m\u001b[39m\"\u001b[39m, \u001b[39m\"\u001b[39m\u001b[39mw\u001b[39m\u001b[39m\"\u001b[39m, encoding\u001b[39m=\u001b[39m\u001b[39m\"\u001b[39m\u001b[39mutf-8\u001b[39m\u001b[39m\"\u001b[39m) \u001b[39mas\u001b[39;00m dat:\n\u001b[0;32m      6\u001b[0m     \u001b[39mtry\u001b[39;00m:\n\u001b[1;32m----> 7\u001b[0m         driver\u001b[39m.\u001b[39;49mget(url)\n\u001b[0;32m      8\u001b[0m         time\u001b[39m.\u001b[39msleep(\u001b[39m1\u001b[39m)\n\u001b[0;32m      9\u001b[0m         dat\u001b[39m.\u001b[39mwrite(driver\u001b[39m.\u001b[39mpage_source)\n",
      "File \u001b[1;32mc:\\Users\\jasak\\AppData\\Local\\Programs\\Python\\Python310\\lib\\site-packages\\selenium\\webdriver\\remote\\webdriver.py:441\u001b[0m, in \u001b[0;36mWebDriver.get\u001b[1;34m(self, url)\u001b[0m\n\u001b[0;32m    437\u001b[0m \u001b[39mdef\u001b[39;00m \u001b[39mget\u001b[39m(\u001b[39mself\u001b[39m, url: \u001b[39mstr\u001b[39m) \u001b[39m-\u001b[39m\u001b[39m>\u001b[39m \u001b[39mNone\u001b[39;00m:\n\u001b[0;32m    438\u001b[0m     \u001b[39m\"\"\"\u001b[39;00m\n\u001b[0;32m    439\u001b[0m \u001b[39m    Loads a web page in the current browser session.\u001b[39;00m\n\u001b[0;32m    440\u001b[0m \u001b[39m    \"\"\"\u001b[39;00m\n\u001b[1;32m--> 441\u001b[0m     \u001b[39mself\u001b[39;49m\u001b[39m.\u001b[39;49mexecute(Command\u001b[39m.\u001b[39;49mGET, {\u001b[39m'\u001b[39;49m\u001b[39murl\u001b[39;49m\u001b[39m'\u001b[39;49m: url})\n",
      "File \u001b[1;32mc:\\Users\\jasak\\AppData\\Local\\Programs\\Python\\Python310\\lib\\site-packages\\selenium\\webdriver\\remote\\webdriver.py:427\u001b[0m, in \u001b[0;36mWebDriver.execute\u001b[1;34m(self, driver_command, params)\u001b[0m\n\u001b[0;32m    424\u001b[0m         params[\u001b[39m'\u001b[39m\u001b[39msessionId\u001b[39m\u001b[39m'\u001b[39m] \u001b[39m=\u001b[39m \u001b[39mself\u001b[39m\u001b[39m.\u001b[39msession_id\n\u001b[0;32m    426\u001b[0m params \u001b[39m=\u001b[39m \u001b[39mself\u001b[39m\u001b[39m.\u001b[39m_wrap_value(params)\n\u001b[1;32m--> 427\u001b[0m response \u001b[39m=\u001b[39m \u001b[39mself\u001b[39;49m\u001b[39m.\u001b[39;49mcommand_executor\u001b[39m.\u001b[39;49mexecute(driver_command, params)\n\u001b[0;32m    428\u001b[0m \u001b[39mif\u001b[39;00m response:\n\u001b[0;32m    429\u001b[0m     \u001b[39mself\u001b[39m\u001b[39m.\u001b[39merror_handler\u001b[39m.\u001b[39mcheck_response(response)\n",
      "File \u001b[1;32mc:\\Users\\jasak\\AppData\\Local\\Programs\\Python\\Python310\\lib\\site-packages\\selenium\\webdriver\\remote\\remote_connection.py:344\u001b[0m, in \u001b[0;36mRemoteConnection.execute\u001b[1;34m(self, command, params)\u001b[0m\n\u001b[0;32m    342\u001b[0m data \u001b[39m=\u001b[39m utils\u001b[39m.\u001b[39mdump_json(params)\n\u001b[0;32m    343\u001b[0m url \u001b[39m=\u001b[39m \u001b[39mf\u001b[39m\u001b[39m\"\u001b[39m\u001b[39m{\u001b[39;00m\u001b[39mself\u001b[39m\u001b[39m.\u001b[39m_url\u001b[39m}\u001b[39;00m\u001b[39m{\u001b[39;00mpath\u001b[39m}\u001b[39;00m\u001b[39m\"\u001b[39m\n\u001b[1;32m--> 344\u001b[0m \u001b[39mreturn\u001b[39;00m \u001b[39mself\u001b[39;49m\u001b[39m.\u001b[39;49m_request(command_info[\u001b[39m0\u001b[39;49m], url, body\u001b[39m=\u001b[39;49mdata)\n",
      "File \u001b[1;32mc:\\Users\\jasak\\AppData\\Local\\Programs\\Python\\Python310\\lib\\site-packages\\selenium\\webdriver\\remote\\remote_connection.py:366\u001b[0m, in \u001b[0;36mRemoteConnection._request\u001b[1;34m(self, method, url, body)\u001b[0m\n\u001b[0;32m    363\u001b[0m     body \u001b[39m=\u001b[39m \u001b[39mNone\u001b[39;00m\n\u001b[0;32m    365\u001b[0m \u001b[39mif\u001b[39;00m \u001b[39mself\u001b[39m\u001b[39m.\u001b[39mkeep_alive:\n\u001b[1;32m--> 366\u001b[0m     response \u001b[39m=\u001b[39m \u001b[39mself\u001b[39;49m\u001b[39m.\u001b[39;49m_conn\u001b[39m.\u001b[39;49mrequest(method, url, body\u001b[39m=\u001b[39;49mbody, headers\u001b[39m=\u001b[39;49mheaders)\n\u001b[0;32m    367\u001b[0m     statuscode \u001b[39m=\u001b[39m response\u001b[39m.\u001b[39mstatus\n\u001b[0;32m    368\u001b[0m \u001b[39melse\u001b[39;00m:\n",
      "File \u001b[1;32mc:\\Users\\jasak\\AppData\\Local\\Programs\\Python\\Python310\\lib\\site-packages\\urllib3\\request.py:78\u001b[0m, in \u001b[0;36mRequestMethods.request\u001b[1;34m(self, method, url, fields, headers, **urlopen_kw)\u001b[0m\n\u001b[0;32m     74\u001b[0m     \u001b[39mreturn\u001b[39;00m \u001b[39mself\u001b[39m\u001b[39m.\u001b[39mrequest_encode_url(\n\u001b[0;32m     75\u001b[0m         method, url, fields\u001b[39m=\u001b[39mfields, headers\u001b[39m=\u001b[39mheaders, \u001b[39m*\u001b[39m\u001b[39m*\u001b[39murlopen_kw\n\u001b[0;32m     76\u001b[0m     )\n\u001b[0;32m     77\u001b[0m \u001b[39melse\u001b[39;00m:\n\u001b[1;32m---> 78\u001b[0m     \u001b[39mreturn\u001b[39;00m \u001b[39mself\u001b[39m\u001b[39m.\u001b[39mrequest_encode_body(\n\u001b[0;32m     79\u001b[0m         method, url, fields\u001b[39m=\u001b[39mfields, headers\u001b[39m=\u001b[39mheaders, \u001b[39m*\u001b[39m\u001b[39m*\u001b[39murlopen_kw\n\u001b[0;32m     80\u001b[0m     )\n",
      "File \u001b[1;32mc:\\Users\\jasak\\AppData\\Local\\Programs\\Python\\Python310\\lib\\site-packages\\urllib3\\request.py:170\u001b[0m, in \u001b[0;36mRequestMethods.request_encode_body\u001b[1;34m(self, method, url, fields, headers, encode_multipart, multipart_boundary, **urlopen_kw)\u001b[0m\n\u001b[0;32m    167\u001b[0m extra_kw[\u001b[39m\"\u001b[39m\u001b[39mheaders\u001b[39m\u001b[39m\"\u001b[39m]\u001b[39m.\u001b[39mupdate(headers)\n\u001b[0;32m    168\u001b[0m extra_kw\u001b[39m.\u001b[39mupdate(urlopen_kw)\n\u001b[1;32m--> 170\u001b[0m \u001b[39mreturn\u001b[39;00m \u001b[39mself\u001b[39m\u001b[39m.\u001b[39murlopen(method, url, \u001b[39m*\u001b[39m\u001b[39m*\u001b[39mextra_kw)\n",
      "File \u001b[1;32mc:\\Users\\jasak\\AppData\\Local\\Programs\\Python\\Python310\\lib\\site-packages\\urllib3\\poolmanager.py:376\u001b[0m, in \u001b[0;36mPoolManager.urlopen\u001b[1;34m(self, method, url, redirect, **kw)\u001b[0m\n\u001b[0;32m    374\u001b[0m     response \u001b[39m=\u001b[39m conn\u001b[39m.\u001b[39murlopen(method, url, \u001b[39m*\u001b[39m\u001b[39m*\u001b[39mkw)\n\u001b[0;32m    375\u001b[0m \u001b[39melse\u001b[39;00m:\n\u001b[1;32m--> 376\u001b[0m     response \u001b[39m=\u001b[39m conn\u001b[39m.\u001b[39murlopen(method, u\u001b[39m.\u001b[39mrequest_uri, \u001b[39m*\u001b[39m\u001b[39m*\u001b[39mkw)\n\u001b[0;32m    378\u001b[0m redirect_location \u001b[39m=\u001b[39m redirect \u001b[39mand\u001b[39;00m response\u001b[39m.\u001b[39mget_redirect_location()\n\u001b[0;32m    379\u001b[0m \u001b[39mif\u001b[39;00m \u001b[39mnot\u001b[39;00m redirect_location:\n",
      "File \u001b[1;32mc:\\Users\\jasak\\AppData\\Local\\Programs\\Python\\Python310\\lib\\site-packages\\urllib3\\connectionpool.py:703\u001b[0m, in \u001b[0;36mHTTPConnectionPool.urlopen\u001b[1;34m(self, method, url, body, headers, retries, redirect, assert_same_host, timeout, pool_timeout, release_conn, chunked, body_pos, **response_kw)\u001b[0m\n\u001b[0;32m    700\u001b[0m     \u001b[39mself\u001b[39m\u001b[39m.\u001b[39m_prepare_proxy(conn)\n\u001b[0;32m    702\u001b[0m \u001b[39m# Make the request on the httplib connection object.\u001b[39;00m\n\u001b[1;32m--> 703\u001b[0m httplib_response \u001b[39m=\u001b[39m \u001b[39mself\u001b[39;49m\u001b[39m.\u001b[39;49m_make_request(\n\u001b[0;32m    704\u001b[0m     conn,\n\u001b[0;32m    705\u001b[0m     method,\n\u001b[0;32m    706\u001b[0m     url,\n\u001b[0;32m    707\u001b[0m     timeout\u001b[39m=\u001b[39;49mtimeout_obj,\n\u001b[0;32m    708\u001b[0m     body\u001b[39m=\u001b[39;49mbody,\n\u001b[0;32m    709\u001b[0m     headers\u001b[39m=\u001b[39;49mheaders,\n\u001b[0;32m    710\u001b[0m     chunked\u001b[39m=\u001b[39;49mchunked,\n\u001b[0;32m    711\u001b[0m )\n\u001b[0;32m    713\u001b[0m \u001b[39m# If we're going to release the connection in ``finally:``, then\u001b[39;00m\n\u001b[0;32m    714\u001b[0m \u001b[39m# the response doesn't need to know about the connection. Otherwise\u001b[39;00m\n\u001b[0;32m    715\u001b[0m \u001b[39m# it will also try to release it and we'll have a double-release\u001b[39;00m\n\u001b[0;32m    716\u001b[0m \u001b[39m# mess.\u001b[39;00m\n\u001b[0;32m    717\u001b[0m response_conn \u001b[39m=\u001b[39m conn \u001b[39mif\u001b[39;00m \u001b[39mnot\u001b[39;00m release_conn \u001b[39melse\u001b[39;00m \u001b[39mNone\u001b[39;00m\n",
      "File \u001b[1;32mc:\\Users\\jasak\\AppData\\Local\\Programs\\Python\\Python310\\lib\\site-packages\\urllib3\\connectionpool.py:449\u001b[0m, in \u001b[0;36mHTTPConnectionPool._make_request\u001b[1;34m(self, conn, method, url, timeout, chunked, **httplib_request_kw)\u001b[0m\n\u001b[0;32m    444\u001b[0m             httplib_response \u001b[39m=\u001b[39m conn\u001b[39m.\u001b[39mgetresponse()\n\u001b[0;32m    445\u001b[0m         \u001b[39mexcept\u001b[39;00m \u001b[39mBaseException\u001b[39;00m \u001b[39mas\u001b[39;00m e:\n\u001b[0;32m    446\u001b[0m             \u001b[39m# Remove the TypeError from the exception chain in\u001b[39;00m\n\u001b[0;32m    447\u001b[0m             \u001b[39m# Python 3 (including for exceptions like SystemExit).\u001b[39;00m\n\u001b[0;32m    448\u001b[0m             \u001b[39m# Otherwise it looks like a bug in the code.\u001b[39;00m\n\u001b[1;32m--> 449\u001b[0m             six\u001b[39m.\u001b[39;49mraise_from(e, \u001b[39mNone\u001b[39;49;00m)\n\u001b[0;32m    450\u001b[0m \u001b[39mexcept\u001b[39;00m (SocketTimeout, BaseSSLError, SocketError) \u001b[39mas\u001b[39;00m e:\n\u001b[0;32m    451\u001b[0m     \u001b[39mself\u001b[39m\u001b[39m.\u001b[39m_raise_timeout(err\u001b[39m=\u001b[39me, url\u001b[39m=\u001b[39murl, timeout_value\u001b[39m=\u001b[39mread_timeout)\n",
      "File \u001b[1;32m<string>:3\u001b[0m, in \u001b[0;36mraise_from\u001b[1;34m(value, from_value)\u001b[0m\n",
      "File \u001b[1;32mc:\\Users\\jasak\\AppData\\Local\\Programs\\Python\\Python310\\lib\\site-packages\\urllib3\\connectionpool.py:444\u001b[0m, in \u001b[0;36mHTTPConnectionPool._make_request\u001b[1;34m(self, conn, method, url, timeout, chunked, **httplib_request_kw)\u001b[0m\n\u001b[0;32m    441\u001b[0m \u001b[39mexcept\u001b[39;00m \u001b[39mTypeError\u001b[39;00m:\n\u001b[0;32m    442\u001b[0m     \u001b[39m# Python 3\u001b[39;00m\n\u001b[0;32m    443\u001b[0m     \u001b[39mtry\u001b[39;00m:\n\u001b[1;32m--> 444\u001b[0m         httplib_response \u001b[39m=\u001b[39m conn\u001b[39m.\u001b[39;49mgetresponse()\n\u001b[0;32m    445\u001b[0m     \u001b[39mexcept\u001b[39;00m \u001b[39mBaseException\u001b[39;00m \u001b[39mas\u001b[39;00m e:\n\u001b[0;32m    446\u001b[0m         \u001b[39m# Remove the TypeError from the exception chain in\u001b[39;00m\n\u001b[0;32m    447\u001b[0m         \u001b[39m# Python 3 (including for exceptions like SystemExit).\u001b[39;00m\n\u001b[0;32m    448\u001b[0m         \u001b[39m# Otherwise it looks like a bug in the code.\u001b[39;00m\n\u001b[0;32m    449\u001b[0m         six\u001b[39m.\u001b[39mraise_from(e, \u001b[39mNone\u001b[39;00m)\n",
      "File \u001b[1;32mc:\\Users\\jasak\\AppData\\Local\\Programs\\Python\\Python310\\lib\\http\\client.py:1374\u001b[0m, in \u001b[0;36mHTTPConnection.getresponse\u001b[1;34m(self)\u001b[0m\n\u001b[0;32m   1372\u001b[0m \u001b[39mtry\u001b[39;00m:\n\u001b[0;32m   1373\u001b[0m     \u001b[39mtry\u001b[39;00m:\n\u001b[1;32m-> 1374\u001b[0m         response\u001b[39m.\u001b[39;49mbegin()\n\u001b[0;32m   1375\u001b[0m     \u001b[39mexcept\u001b[39;00m \u001b[39mConnectionError\u001b[39;00m:\n\u001b[0;32m   1376\u001b[0m         \u001b[39mself\u001b[39m\u001b[39m.\u001b[39mclose()\n",
      "File \u001b[1;32mc:\\Users\\jasak\\AppData\\Local\\Programs\\Python\\Python310\\lib\\http\\client.py:318\u001b[0m, in \u001b[0;36mHTTPResponse.begin\u001b[1;34m(self)\u001b[0m\n\u001b[0;32m    316\u001b[0m \u001b[39m# read until we get a non-100 response\u001b[39;00m\n\u001b[0;32m    317\u001b[0m \u001b[39mwhile\u001b[39;00m \u001b[39mTrue\u001b[39;00m:\n\u001b[1;32m--> 318\u001b[0m     version, status, reason \u001b[39m=\u001b[39m \u001b[39mself\u001b[39;49m\u001b[39m.\u001b[39;49m_read_status()\n\u001b[0;32m    319\u001b[0m     \u001b[39mif\u001b[39;00m status \u001b[39m!=\u001b[39m CONTINUE:\n\u001b[0;32m    320\u001b[0m         \u001b[39mbreak\u001b[39;00m\n",
      "File \u001b[1;32mc:\\Users\\jasak\\AppData\\Local\\Programs\\Python\\Python310\\lib\\http\\client.py:279\u001b[0m, in \u001b[0;36mHTTPResponse._read_status\u001b[1;34m(self)\u001b[0m\n\u001b[0;32m    278\u001b[0m \u001b[39mdef\u001b[39;00m \u001b[39m_read_status\u001b[39m(\u001b[39mself\u001b[39m):\n\u001b[1;32m--> 279\u001b[0m     line \u001b[39m=\u001b[39m \u001b[39mstr\u001b[39m(\u001b[39mself\u001b[39;49m\u001b[39m.\u001b[39;49mfp\u001b[39m.\u001b[39;49mreadline(_MAXLINE \u001b[39m+\u001b[39;49m \u001b[39m1\u001b[39;49m), \u001b[39m\"\u001b[39m\u001b[39miso-8859-1\u001b[39m\u001b[39m\"\u001b[39m)\n\u001b[0;32m    280\u001b[0m     \u001b[39mif\u001b[39;00m \u001b[39mlen\u001b[39m(line) \u001b[39m>\u001b[39m _MAXLINE:\n\u001b[0;32m    281\u001b[0m         \u001b[39mraise\u001b[39;00m LineTooLong(\u001b[39m\"\u001b[39m\u001b[39mstatus line\u001b[39m\u001b[39m\"\u001b[39m)\n",
      "File \u001b[1;32mc:\\Users\\jasak\\AppData\\Local\\Programs\\Python\\Python310\\lib\\socket.py:705\u001b[0m, in \u001b[0;36mSocketIO.readinto\u001b[1;34m(self, b)\u001b[0m\n\u001b[0;32m    703\u001b[0m \u001b[39mwhile\u001b[39;00m \u001b[39mTrue\u001b[39;00m:\n\u001b[0;32m    704\u001b[0m     \u001b[39mtry\u001b[39;00m:\n\u001b[1;32m--> 705\u001b[0m         \u001b[39mreturn\u001b[39;00m \u001b[39mself\u001b[39;49m\u001b[39m.\u001b[39;49m_sock\u001b[39m.\u001b[39;49mrecv_into(b)\n\u001b[0;32m    706\u001b[0m     \u001b[39mexcept\u001b[39;00m timeout:\n\u001b[0;32m    707\u001b[0m         \u001b[39mself\u001b[39m\u001b[39m.\u001b[39m_timeout_occurred \u001b[39m=\u001b[39m \u001b[39mTrue\u001b[39;00m\n",
      "\u001b[1;31mKeyboardInterrupt\u001b[0m: "
     ]
    }
   ],
   "source": [
    "print(\"Število vseh indeksov kart, ki jih imamo:\", len(okrajsani_indeksi))\n",
    "for indeks_printa in okrajsani_indeksi[:300]:\n",
    "    url = f\"https://www.mtgstocks.com/prints/{indeks_printa}\"\n",
    "    print(f\"Zajemanje printa karte št. {indeks_printa} s strani {url}\")\n",
    "    with open(f\"Podatki o kartah/Podatki o specificnih kartah/Podatki o karti st. {indeks_printa}.html\", \"w\", encoding=\"utf-8\") as dat:\n",
    "        try:\n",
    "            driver.get(url)\n",
    "            time.sleep(1)\n",
    "            dat.write(driver.page_source)\n",
    "        except Exception as e:\n",
    "            print(f\"Prišlo je do napake pri setu {indeks_printa}\")\n",
    "            print(e)\n",
    "        "
   ]
  },
  {
   "cell_type": "code",
   "execution_count": 50,
   "metadata": {},
   "outputs": [
    {
     "name": "stdout",
     "output_type": "stream",
     "text": [
      "[]\n",
      "{'cmc': 0, 'manacost': '0', 'barva': 'c'}\n"
     ]
    }
   ],
   "source": [
    "vzorec_za_manacost = r'ms ms-cost ms-(?P<mana_cost>.*?)[\"| ]'\n",
    "\n",
    "def preberi_manacost_in_barvo(niz):\n",
    "    seznam_simbolov = re.findall(vzorec_za_manacost, niz)\n",
    "    cmc = 0\n",
    "    manacost = \"\"\n",
    "    barva = \"\"\n",
    "    for simbol in seznam_simbolov:\n",
    "        manacost += simbol\n",
    "        if simbol.isnumeric():\n",
    "            cmc += int(simbol)\n",
    "        elif simbol in \"wubrg\":\n",
    "            cmc += 1\n",
    "            if simbol not in barva:\n",
    "                barva += simbol\n",
    "        else:\n",
    "            if simbol not in \"{(p)}\":\n",
    "                cmc += 1\n",
    "            if simbol not in \"{(p)}c\":\n",
    "                print(\"Program je našel nenavaden simbol\", simbol)\n",
    "    \n",
    "    if barva == \"\":\n",
    "        barva += \"c\"\n",
    "    if manacost == \"\":\n",
    "        manacost += \"0\"\n",
    "    return {\"cmc\": cmc, \"manacost\": manacost, \"barva\": barva}\n",
    "    \n",
    "string_za_poskus = ''\n",
    "print(re.findall(vzorec_za_manacost, string_za_poskus))\n",
    "\n",
    "print(preberi_manacost_in_barvo(string_za_poskus))"
   ]
  }
 ],
 "metadata": {
  "kernelspec": {
   "display_name": "Python 3",
   "language": "python",
   "name": "python3"
  },
  "language_info": {
   "codemirror_mode": {
    "name": "ipython",
    "version": 3
   },
   "file_extension": ".py",
   "mimetype": "text/x-python",
   "name": "python",
   "nbconvert_exporter": "python",
   "pygments_lexer": "ipython3",
   "version": "3.10.7"
  },
  "orig_nbformat": 4,
  "vscode": {
   "interpreter": {
    "hash": "613d879a9df29ca216f54f0a1e89f0b865c1f91ecf6d738c523174b1df816f98"
   }
  }
 },
 "nbformat": 4,
 "nbformat_minor": 2
}
