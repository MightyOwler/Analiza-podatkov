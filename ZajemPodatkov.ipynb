{
 "cells": [
  {
   "cell_type": "code",
   "execution_count": 1,
   "metadata": {},
   "outputs": [],
   "source": [
    "import requests\n",
    "import csv\n",
    "import json\n",
    "from selenium import webdriver\n",
    "from selenium.webdriver.chrome.options import Options\n",
    "from selenium.webdriver.chrome.service import Service\n",
    "from selenium.webdriver.common.by import By\n",
    "import os, glob\n",
    "import time\n",
    "import pandas as pd\n",
    "import numpy as np\n",
    "from vzorci_in_pomozne_definicije import *\n",
    "    \n",
    "# Tole dvoje je treba, da se Chrome sproti ne odpira\n",
    "chrome_options = Options()\n",
    "chrome_options.add_argument(\"--headless\")\n",
    "service_obj = Service(\"chromedriver.exe\")\n",
    "\n",
    "podatki_s_spletnih_strani_se_niso_lokalno_shranjeni = False"
   ]
  },
  {
   "cell_type": "code",
   "execution_count": 2,
   "metadata": {},
   "outputs": [],
   "source": [
    "# Spodnjo kocko poženemo samo v primeru, da podatki še niso lokalno shranjeni (oz. če spremenimo vrednost bool spremenljivke)\n",
    "if podatki_s_spletnih_strani_se_niso_lokalno_shranjeni:\n",
    "    driver = webdriver.Chrome(service = service_obj, options=chrome_options)\n",
    "    PRVI_SET = 1\n",
    "    ZADNJI_SET = 1300\n",
    "\n",
    "    #indeksi_setov_ki_obstajajo = []\n",
    "\n",
    "    for st_strani in range(PRVI_SET, ZADNJI_SET + 1):\n",
    "        url = (\n",
    "            f'https://www.mtgstocks.com/sets/{st_strani}' \n",
    "        )\n",
    "        print(f\"\\n Zajemam {url}\\n\")\n",
    "        driver.get(url)\n",
    "        time.sleep(1)\n",
    "        \n",
    "        \n",
    "        vsebina = driver.page_source\n",
    "        naslov_strani = driver.title\n",
    "        \n",
    "        stevilo_podstrani_s_kartami = vsebina.count(\"pagination-page page-item\")\n",
    "        st_besed_Market_na_strani = vsebina.count(\">Market<\")\n",
    "        \n",
    "        print(\"Naslov strani:\", naslov_strani)\n",
    "        \n",
    "        if naslov_strani in [\"File not found - MTGStocks\"]:\n",
    "            print(f'\\n Stran št. {st_strani} ni dosegljiva.\\n')\n",
    "        else:\n",
    "            print(f'\\n Stran št. {st_strani} JE dosegljiva.\\n')\n",
    "            if \"Art Series:\" in naslov_strani or \"From the Vault:\" in naslov_strani or st_besed_Market_na_strani == 0:\n",
    "                continue\n",
    "            else:\n",
    "                with open(pridobi_ustrezno_ime_lokalne_datoteke(st_strani), 'w', encoding = \"utf-8\") as dat:\n",
    "                    driver.find_element(by=By.XPATH, value = \"//*[text() = 'Market']//..\").click()\n",
    "                    for podstran in range(1, stevilo_podstrani_s_kartami + 1):\n",
    "                        driver.find_element(by=By.XPATH, value = f\"//*[contains(@class, 'pagination-page page-item')][{podstran}]//a\").click()\n",
    "                        time.sleep(1)\n",
    "                        print(f\"Pobrana {podstran}. podstran\")\n",
    "                        dat.write(driver.page_source)\n",
    "    "
   ]
  },
  {
   "cell_type": "markdown",
   "metadata": {},
   "source": [
    "Koda, ki prebere lokalno shranjene html datoteke, ter karte shrani v csv in json format.\n"
   ]
  },
  {
   "cell_type": "code",
   "execution_count": 3,
   "metadata": {},
   "outputs": [
    {
     "name": "stdout",
     "output_type": "stream",
     "text": [
      "Prebrali smo lokalno shanjene podatke iz HMTL datotek in jih zapisali v 'karte.csv' in 'karte.json'.\n"
     ]
    }
   ],
   "source": [
    "#debug_mode_za_branje_iz_lokalnih_datotek = False\n",
    "path = 'Podatki o kartah/Podatki iz setov'\n",
    "karte = []\n",
    "\n",
    "# # Najprej poradiramo csv in json datoteki\n",
    "with open(\"karte.csv\", \"w\", encoding = \"utf-8\") as dat:\n",
    "    pass\n",
    "\n",
    "with open(\"karte.json\", \"w\", encoding = \"utf-8\") as dat:\n",
    "    pass\n",
    "\n",
    "for filename in glob.glob(os.path.join(path, '*.html')):\n",
    "    # Tukaj iz nekega razloga ne deluje utf-8, potrebno je latin1\n",
    "    with open(filename, 'r', encoding = \"latin1\") as f:\n",
    "\n",
    "        stetje = 0\n",
    "        #print(f\"Berem podatke kart iz {filename}\")\n",
    "        vsebina = f.read()\n",
    "        \n",
    "        for blok in vzorec_bloka.finditer(vsebina):\n",
    "            stetje += 1\n",
    "            \n",
    "            # if debug_mode_za_branje_iz_lokalnih_datotek:\n",
    "            #     print(stetje)\n",
    "            #     print(blok.group(0))\n",
    "            #     print(vzorec_karte.search(blok.group(0)).groupdict())\n",
    "            \n",
    "            karte.append(izlusci_podatke_o_kartah_iz_bloka(blok.group(0)))\n",
    "\n",
    "with open(\"karte.json\", \"a\", encoding = \"utf-8\") as dat:\n",
    "    json.dump(karte, dat, indent=4, ensure_ascii=False)\n",
    "    \n",
    "\n",
    "with open(\"karte.csv\", \"a\", encoding = \"utf-8\") as dat:\n",
    "    writer = csv.DictWriter(dat, [\n",
    "        \"id_karte\",\n",
    "        \"ime\",\n",
    "        \"set\",\n",
    "        \"redkost\",\n",
    "        \"povprecna_cena\",\n",
    "        \"povprecna_cena_foil\",\n",
    "    ])\n",
    "    writer.writeheader()\n",
    "    writer.writerows(karte)\n",
    "\n",
    "print(\"Prebrali smo lokalno shanjene podatke iz HMTL datotek in jih zapisali v 'karte.csv' in 'karte.json'.\")"
   ]
  },
  {
   "cell_type": "markdown",
   "metadata": {},
   "source": [
    "S pomočjo podatkov ustvarimo dataframe. Iz njega izločimo basic lande in tokene. Prav tako izločimo karte, ki nimajo podane vsaj ene cene.\n",
    "*Opomba 1*: Ker imajo najbolj zaželene karte najbolj popolne podatke, nam tako izločanje ne bo pokvarilo vzorca.\n",
    "*Opomba 2*: Nekateri seti so na strani MTGStocks navedeni napačno! Ker so mnogi izmed njih izredno pomembni, jih popravimo v dataframu. "
   ]
  },
  {
   "cell_type": "code",
   "execution_count": 4,
   "metadata": {},
   "outputs": [
    {
     "name": "stdout",
     "output_type": "stream",
     "text": [
      "       id_karte               ime  set   redkost povprecna_cena  \\\n",
      "0         19748     Cyclonic Rift  RTR      Rare         $38.00   \n",
      "1         19934   Utvara Hellkite  RTR    Mythic         $19.53   \n",
      "2           360       Blood Crypt  RTR      Rare         $19.99   \n",
      "3           404       Steam Vents  RTR      Rare         $18.63   \n",
      "4           395    Overgrown Tomb  RTR      Rare         $13.99   \n",
      "...         ...               ...  ...       ...            ...   \n",
      "47532     18337  Dregscape Zombie  ARC    Common          $0.25   \n",
      "47533     18380        Juggernaut  ARC  Uncommon          $0.25   \n",
      "47534     18421           Plummet  ARC    Common          $0.25   \n",
      "47535     18348          Fertilid  ARC    Common          $0.38   \n",
      "47536     18434  Sanctum Gargoyle  ARC    Common          $0.24   \n",
      "\n",
      "      povprecna_cena_foil  \n",
      "0                  $57.99  \n",
      "1                  $57.44  \n",
      "2                  $34.37  \n",
      "3                  $38.61  \n",
      "4                  $25.72  \n",
      "...                   ...  \n",
      "47532                 NaN  \n",
      "47533                 NaN  \n",
      "47534                 NaN  \n",
      "47535                 NaN  \n",
      "47536                 NaN  \n",
      "\n",
      "[43057 rows x 6 columns]\n"
     ]
    }
   ],
   "source": [
    "podatki_o_kartah = pd.read_csv(\"karte.csv\", encoding=\"latin1\")\n",
    "\n",
    "regex_izraz_za_basic_lande = r'Forest \\(\\d|Mountain \\(\\d|Swamp \\(\\d|Plains \\(\\d|Island \\(\\d|Wastes \\(\\d'\n",
    "okrajsani_podatki_o_kartah = podatki_o_kartah[~(podatki_o_kartah.redkost.isin([\"Token\", \"Land\"])) & ~(podatki_o_kartah.ime.str.match(regex_izraz_za_basic_lande)) & ~(podatki_o_kartah.ime.isin([\"Forest\", \"Mountain\", \"Swamp\", \"Plains\", \"Island\", \"Wastes\"]))]\n",
    "okrajsani_podatki_o_kartah = okrajsani_podatki_o_kartah[~(okrajsani_podatki_o_kartah.povprecna_cena.isnull() & okrajsani_podatki_o_kartah.povprecna_cena_foil.isnull())]\n",
    "\n",
    "slovar_za_popravljanje_napacnih_podatkov_s_spletne_strani = {'set': {\"VAN\" : \"PVAN\", \"SLDC\": \"PHED\", \"XCLE\": \"CED\", \"XICE\": \"CEI\", \"RMB1\": \"FMB1\", \"XDND\" : \"AFR\", \"2E\": \"LEB\", \"2U\": \"2ED\", \"1E\": \"LEA\", \"PO2\": \"P02\", \"3ED\":\"FBB\", \"3E\":\"3ED\"}}\n",
    "okrajsani_podatki_o_kartah = okrajsani_podatki_o_kartah.replace(slovar_za_popravljanje_napacnih_podatkov_s_spletne_strani)\n",
    "\n",
    "okrajsani_indeksi = okrajsani_podatki_o_kartah.id_karte # To so indeksi, s katerimi bomo pognali ustrezne url-je\n",
    "\n",
    "raznoliki_seti = okrajsani_podatki_o_kartah[\"set\"].unique()\n",
    "\n",
    "print(okrajsani_podatki_o_kartah)\n"
   ]
  },
  {
   "cell_type": "markdown",
   "metadata": {},
   "source": [
    "Podatke o setih najdemo na strani \"https://scryfall.com/sets\"."
   ]
  },
  {
   "cell_type": "code",
   "execution_count": 5,
   "metadata": {},
   "outputs": [],
   "source": [
    "# Spodnjo kocko poženemo samo v primeru, da podatki še niso lokalno shranjeni (oz. če spremenimo vrednost bool spremenljivke)\n",
    "if podatki_s_spletnih_strani_se_niso_lokalno_shranjeni:\n",
    "    driver = webdriver.Chrome(service = service_obj, options=chrome_options)\n",
    "    url_do_strani_setov = \"https://scryfall.com/sets\"\n",
    "    driver.get(url_do_strani_setov)\n",
    "    time.sleep(1)\n",
    "    vsebina_strani_setov = driver.page_source\n",
    "    driver.close()\n",
    "\n",
    "    slovarji_posameznih_setov = []\n",
    "\n",
    "    with open(\"seti.csv\", \"w\", encoding=\"utf-8\") as csvfile:\n",
    "        pass\n",
    "\n",
    "    with open(\"seti.csv\", \"a\", encoding=\"utf-8\") as csvfile:\n",
    "        writer = csv.DictWriter(csvfile, [\n",
    "                \"set\",\n",
    "                \"polno_ime\",\n",
    "                \"st_kart\",\n",
    "                \"datum_izida\",\n",
    "            ])\n",
    "        \n",
    "        for posamezen_set in raznoliki_seti:\n",
    "            vzorec_za_podatke_o_setu = re.compile(\n",
    "                r'   (?P<polno_ime>\\w.*?) <small>' + posamezen_set + r'</small>\\n</a></td>.*?<td>\\n.*?>(?P<st_kart>.*?)</a>\\n.*?\\n.*?\\n.*?>(?P<datum_izida>.*?)</a>',\n",
    "            )\n",
    "            print(\"Shranjen\", posamezen_set, end = \" \")\n",
    "            slovarji_posameznih_setov.append(izlusci_podatke_o_setih(vsebina_strani_setov, vzorec_za_podatke_o_setu, posamezen_set, podatki_o_kartah))\n",
    "            \n",
    "        writer.writeheader()\n",
    "        writer.writerows(slovarji_posameznih_setov)\n",
    "        \n",
    "        with open(\"seti.json\", \"w\", encoding = \"utf-8\") as dat:\n",
    "            pass\n",
    "        \n",
    "        with open(\"seti.json\", \"a\", encoding = \"utf-8\") as dat:\n",
    "            json.dump(slovarji_posameznih_setov, dat, indent=4, ensure_ascii=False)"
   ]
  },
  {
   "cell_type": "markdown",
   "metadata": {},
   "source": [
    "S pomočjo indeksov kart, ki smo jih dobili na strani MTGStocks, pridobimo podatke za vse karte iz dataframa."
   ]
  },
  {
   "cell_type": "code",
   "execution_count": 10,
   "metadata": {},
   "outputs": [
    {
     "name": "stdout",
     "output_type": "stream",
     "text": [
      "Število vseh indeksov kart, ki jih imamo: 43057\n",
      "(1.) Zajemanje printa karte št. 1695 s strani https://www.mtgstocks.com/prints/1695\n"
     ]
    },
    {
     "name": "stderr",
     "output_type": "stream",
     "text": [
      "C:\\Users\\jasak\\AppData\\Local\\Temp\\ipykernel_17804\\4033016415.py:29: FutureWarning: The behavior of `series[i:j]` with an integer-dtype index is deprecated. In a future version, this will be treated as *label-based* indexing, consistent with e.g. `series[i]` lookups. To retain the old behavior, use `series.iloc[i:j]`. To get the future behavior, use `series.loc[i:j]`.\n",
      "  for indeks_printa in okrajsani_indeksi[100:110]:\n"
     ]
    },
    {
     "name": "stdout",
     "output_type": "stream",
     "text": [
      "Instant\n",
      "{'id_karte': 1695, 'cmc': 1, 'manacost': 'w', 'barva': 'w', 'povprecje_eu': '€0.47', 'supertype': [], 'cardtype': ['Instant'], 'subtype': [], 'oracle_text': 'Choose a color. White creatures you control gain protection from the chosen color until end of turn.', 'reserved_list': 'No', 'all_time_low': '$0.27', 'all_time_low_datum': 'Mar 17, 2019', 'all_time_high': '$0.65', 'all_time_high_datum': 'Jun 11, 2014'} \n",
      "\n",
      "(2.) Zajemanje printa karte št. 1706 s strani https://www.mtgstocks.com/prints/1706\n",
      "Creature - Merfolk Wizard, \n",
      "{'id_karte': 1706, 'cmc': 1, 'manacost': 'u', 'barva': 'u', 'povprecje_eu': '€0.45', 'supertype': [], 'cardtype': ['Creature'], 'subtype': ['Merfolk', 'Wizard'], 'oracle_text': \"Whenever an opponent shuffles his or her library, you may put a +1/+1 counter on Cosi's Trickster.\", 'reserved_list': 'No', 'all_time_low': '$0.28', 'all_time_low_datum': 'Mar 27, 2013', 'all_time_high': '$0.90', 'all_time_high_datum': 'Aug 8, 2015'} \n",
      "\n",
      "(3.) Zajemanje printa karte št. 1888 s strani https://www.mtgstocks.com/prints/1888\n",
      "Creature - Elf Scout Ally, \n",
      "{'id_karte': 1888, 'cmc': 5, 'manacost': '3gg', 'barva': 'g', 'povprecje_eu': '€0.33', 'supertype': [], 'cardtype': ['Creature'], 'subtype': ['Elf', 'Scout', 'Ally'], 'oracle_text': 'Whenever Turntimber Ranger or another Ally enters the battlefield under your control, you may put a 2/2 green Wolf creature token onto the battlefield. If you do, put a +1/+1 counter on Turntimber Ranger.', 'reserved_list': 'No', 'all_time_low': '$0.28', 'all_time_low_datum': 'Sep 16, 2013', 'all_time_high': '$0.99', 'all_time_high_datum': 'May 17, 2018'} \n",
      "\n",
      "(4.) Zajemanje printa karte št. 1847 s strani https://www.mtgstocks.com/prints/1847\n",
      "Creature - Merfolk Wizard Ally, \n",
      "{'id_karte': 1847, 'cmc': 5, 'manacost': '4u', 'barva': 'u', 'povprecje_eu': '€0.31', 'supertype': [], 'cardtype': ['Creature'], 'subtype': ['Merfolk', 'Wizard', 'Ally'], 'oracle_text': '(tap): Draw a card for each Ally you control.', 'reserved_list': 'No', 'all_time_low': '$0.27', 'all_time_low_datum': 'May 3, 2013', 'all_time_high': '$0.60', 'all_time_high_datum': 'Oct 8, 2021'} \n",
      "\n",
      "(5.) Zajemanje printa karte št. 1746 s strani https://www.mtgstocks.com/prints/1746\n",
      "Instant\n",
      "{'id_karte': 1746, 'cmc': 3, 'manacost': '2g', 'barva': 'g', 'povprecje_eu': '€0.14', 'supertype': [], 'cardtype': ['Instant'], 'subtype': [], 'oracle_text': 'As an additional cost to cast this spell, sacrifice a land.\\nSearch your library for up to two basic land cards, put them onto the battlefield, then shuffle.', 'reserved_list': 'No', 'all_time_low': '$0.12', 'all_time_low_datum': 'Mar 7, 2017', 'all_time_high': '$0.50', 'all_time_high_datum': 'Dec 3, 2021'} \n",
      "\n",
      "(6.) Zajemanje printa karte št. 1763 s strani https://www.mtgstocks.com/prints/1763\n",
      "Creature - Human Cleric Ally, \n",
      "{'id_karte': 1763, 'cmc': 3, 'manacost': '2w', 'barva': 'w', 'povprecje_eu': '€0.43', 'supertype': [], 'cardtype': ['Creature'], 'subtype': ['Human', 'Cleric', 'Ally'], 'oracle_text': 'Whenever Kabira Evangel or another Ally enters the battlefield under your control, you may choose a color. If you do, Allies you control gain protection from the chosen color until end of turn.', 'reserved_list': 'No', 'all_time_low': '$0.30', 'all_time_low_datum': 'Jul 17, 2013', 'all_time_high': '$5.64', 'all_time_high_datum': 'Nov 2, 2015'} \n",
      "\n",
      "(7.) Zajemanje printa karte št. 1761 s strani https://www.mtgstocks.com/prints/1761\n",
      "Land\n",
      "{'id_karte': 1761, 'cmc': 0, 'manacost': '0', 'barva': 'c', 'povprecje_eu': '€0.21', 'supertype': [], 'cardtype': ['Land'], 'subtype': [], 'oracle_text': 'Jwar Isle Refuge enters the battlefield tapped.\\nWhen Jwar Isle Refuge enters the battlefield, you gain 1 life.\\n(tap): Add (u) or (b).', 'reserved_list': 'No', 'all_time_low': '$0.31', 'all_time_low_datum': 'Mar 15, 2015', 'all_time_high': '$0.49', 'all_time_high_datum': 'Dec 14, 2012'} \n",
      "\n",
      "(8.) Zajemanje printa karte št. 1726 s strani https://www.mtgstocks.com/prints/1726\n",
      "Creature - Vampire Warrior, \n",
      "{'id_karte': 1726, 'cmc': 2, 'manacost': 'bb', 'barva': 'b', 'povprecje_eu': '€0.50', 'supertype': [], 'cardtype': ['Creature'], 'subtype': ['Vampire', 'Warrior'], 'oracle_text': 'Kicker (b) (You may pay an additional (b) as you cast this spell.)\\nWhen Gatekeeper of Malakir enters the battlefield, if it was kicked, target player sacrifices a creature.', 'reserved_list': 'No', 'all_time_low': '$0.49', 'all_time_low_datum': 'Feb 21, 2014', 'all_time_high': '$1.89', 'all_time_high_datum': 'Aug 7, 2018'} \n",
      "\n",
      "(9.) Zajemanje printa karte št. 1884 s strani https://www.mtgstocks.com/prints/1884\n",
      "Artifact - Equipment\n",
      "{'id_karte': 1884, 'cmc': 1, 'manacost': '1', 'barva': 'c', 'povprecje_eu': '€0.06', 'supertype': [], 'cardtype': ['Artifact'], 'subtype': ['Equipment'], 'oracle_text': 'Equipped creature gets +2/+1.\\nEquip (2)', 'reserved_list': 'No', 'all_time_low': '$0.14', 'all_time_low_datum': 'Mar 7, 2017', 'all_time_high': '$0.33', 'all_time_high_datum': 'Jul 23, 2022'} \n",
      "\n",
      "(10.) Zajemanje printa karte št. 1705 s strani https://www.mtgstocks.com/prints/1705\n",
      "Sorcery\n",
      "{'id_karte': 1705, 'cmc': 5, 'manacost': '2www', 'barva': 'w', 'povprecje_eu': '€0.26', 'supertype': [], 'cardtype': ['Sorcery'], 'subtype': [], 'oracle_text': \"Kicker (6) (You may pay an additional (6) as you cast this spell.)\\nPut six 1/1 white Kor Soldier creature tokens onto the battlefield. If Conqueror's Pledge was kicked, put twelve of those tokens onto the battlefield instead.\", 'reserved_list': 'No', 'all_time_low': '$0.32', 'all_time_low_datum': 'Jan 21, 2015', 'all_time_high': '$0.50', 'all_time_high_datum': 'Apr 6, 2021'} \n",
      "\n"
     ]
    }
   ],
   "source": [
    "driver = webdriver.Chrome(service = service_obj, options=chrome_options)\n",
    "print(\"Število vseh indeksov kart, ki jih imamo:\", len(okrajsani_indeksi))\n",
    "\n",
    "# To je toliko da poradiramo\n",
    "with open(\"specificne_lastnosti_kart.csv\", \"w\", encoding = \"utf-8\") as csvfile:\n",
    "    pass\n",
    "\n",
    "with open(\"specificne_lastnosti_kart.csv\", \"a\", encoding = \"utf-8\") as csvfile:\n",
    "    writer = csv.DictWriter(csvfile, [\n",
    "        \"id_karte\",\n",
    "        \"cmc\",\n",
    "        \"manacost\",\n",
    "        \"barva\",\n",
    "        \"povprecje_eu\",\n",
    "        \"supertype\",\n",
    "        \"cardtype\",\n",
    "        \"subtype\",\n",
    "        \"oracle_text\",\n",
    "        \"reserved_list\",\n",
    "        \"all_time_low\",\n",
    "        \"all_time_low_datum\",\n",
    "        \"all_time_high\",\n",
    "        \"all_time_high_datum\",\n",
    "    ])\n",
    "    \n",
    "    slovarji_posameznih_kart = []\n",
    "    stetje_zajetih_kart = 0\n",
    "\n",
    "    for indeks_printa in okrajsani_indeksi[20000:22000]:\n",
    "        url = f\"https://www.mtgstocks.com/prints/{indeks_printa}\"\n",
    "        stetje_zajetih_kart += 1\n",
    "        print(f\"({stetje_zajetih_kart}.) Zajemanje printa karte št. {indeks_printa} s strani {url}\")\n",
    "        # with open(f\"Podatki o kartah/Podatki o specificnih kartah/Podatki o karti st. {indeks_printa}.html\", \"w\", encoding=\"utf-8\") as dat:\n",
    "        #try:\n",
    "        driver.get(url)\n",
    "        time.sleep(1)\n",
    "        vsebina = driver.page_source\n",
    "        \n",
    "        glava_slovarja = {\"id_karte\": indeks_printa}\n",
    "        manacost_in_barve = izlusci_podatke_manacosta_in_barve(vsebina)\n",
    "        glavnina = izlusci_podatke_o_specificni_karti_iz_njene_datoteke(vsebina)\n",
    "        glava_slovarja.update(manacost_in_barve)\n",
    "        glava_slovarja.update(glavnina)\n",
    "        print(glava_slovarja, \"\\n\")\n",
    "        slovarji_posameznih_kart.append(glava_slovarja)\n",
    "            \n",
    "        # except Exception as e:\n",
    "        #     print(f\"Prišlo je do napake pri setu {indeks_printa}\")\n",
    "        #     print(e)\n",
    "            \n",
    "    writer.writeheader()\n",
    "    writer.writerows(slovarji_posameznih_kart)\n",
    "        "
   ]
  },
  {
   "cell_type": "markdown",
   "metadata": {},
   "source": [
    "# Spodaj se nahajajo testni bloki"
   ]
  },
  {
   "cell_type": "code",
   "execution_count": 7,
   "metadata": {},
   "outputs": [
    {
     "name": "stdout",
     "output_type": "stream",
     "text": [
      "[]\n",
      "{'cmc': 0, 'manacost': '0', 'barva': 'c'}\n"
     ]
    }
   ],
   "source": [
    "string_za_poskus = ''\n",
    "print(re.findall(vzorec_za_manacost, string_za_poskus))\n",
    "\n",
    "print(izlusci_podatke_manacosta_in_barve(string_za_poskus))"
   ]
  },
  {
   "cell_type": "code",
   "execution_count": 8,
   "metadata": {},
   "outputs": [
    {
     "name": "stdout",
     "output_type": "stream",
     "text": [
      "blabllablablbla\n"
     ]
    }
   ],
   "source": [
    "testni_string = '<i class=\"ms ms-loyalty-1 ms-loyalty-up\"></i>: Until your next turn, whenever a creature deals combat damage to Vraska the Unseen, destroy that creature.\\n<i class=\"ms ms-loyalty-3 ms-loyalty-down\"></i>: Destroy target nonland permanent.\\n<i class=\"ms ms-loyalty-7 ms-loyalty-down\"></i>: Put three 1/1 black Assassin creature tokens onto the battlefield with \"Whenever this creature deals combat damage to a player, that player loses the game.\"'\n",
    "with open(\"testni_zajcek.txt\", \"r\", encoding = \"utf-8\") as testna_datoteka:\n",
    "    testni_string = testna_datoteka.read()\n",
    "\n",
    "popravljen_string = re.sub(vzorec_za_popravo_oracle_texta_notranje_znacke, r\"(\\1)\", testni_string)\n",
    "popravljen_string = re.sub(vzorec_za_popravo_oracle_texta_zunanje_znacke, r\"\\1\", popravljen_string)\n",
    "popravljen_string = re.sub(vzorec_za_popravo_oracle_texta_planeswalker_uptake, r\"(+\\1)\", popravljen_string)\n",
    "popravljen_string = re.sub(vzorec_za_popravo_oracle_texta_planeswalker_downtake, r\"(-\\1)\", popravljen_string)\n",
    "popravljen_string = popravljen_string.replace('\"\"(t)',\"(tap)\") # To je zaradi buga na spletni strani\n",
    "print(popravljen_string)"
   ]
  },
  {
   "cell_type": "code",
   "execution_count": 9,
   "metadata": {},
   "outputs": [
    {
     "name": "stdout",
     "output_type": "stream",
     "text": [
      "([], ['Enchantment'], ['Aura'])\n"
     ]
    }
   ],
   "source": [
    "def doloci_super_sub_in_cardtype(niz):\n",
    "    niz = niz.removesuffix(\", \").strip()\n",
    "    supertype, subtype, cardtype = [], [], []\n",
    "    \n",
    "    # najprej polovimo nekaj starih karth (niso navedene pravilno na spletni strani)\n",
    "    if \"Enchant \" in niz:\n",
    "        cardtype.append(\"Enchantment\")\n",
    "        subtype.append(\"Aura\")\n",
    "        return supertype, cardtype, subtype\n",
    "    if \"Summon \" in niz:\n",
    "        niz = niz.replace(\"Summon \", \"Creature - \")\n",
    "        if \"Legend\" in niz:\n",
    "            supertype.append(\"Legendary\")\n",
    "            niz = niz.replace(\"Legend\", \"\")\n",
    "    \n",
    "    # Če smo pri tem izpraznili niz, samo returnamo\n",
    "    if len(niz) > 0:\n",
    "        for suprtype in seznam_supertypov:\n",
    "            if suprtype in niz:\n",
    "                supertype.append(suprtype)\n",
    "                niz = niz.replace(f\"{suprtype} \",\"\")\n",
    "        if \"-\" in niz or \"—\" in niz:\n",
    "            niz = niz.replace(\"—\",\"-\")\n",
    "            str_cardtype, str_subtype = niz.split(\" - \")\n",
    "            cardtype = [typ.strip() for typ in str_cardtype.split(\" \") if typ.strip() != \"\"]\n",
    "            subtype = [typ.strip() for typ in str_subtype.split(\" \") if typ.strip() != \"\"]\n",
    "        elif \" \" in niz:\n",
    "            cardtype = [typ.strip() for typ in niz.split(\" \") if typ.strip() != \"\"]\n",
    "        else:\n",
    "            cardtype.append(niz.strip())\n",
    "        \n",
    "    return supertype, cardtype, subtype\n",
    "\n",
    "testni_string = \"Legendary Planeswalker — Jace, \"\n",
    "testni_string = \"Enchant Player\"\n",
    "\n",
    "print(doloci_super_sub_in_cardtype(testni_string))\n",
    "\n",
    "    "
   ]
  }
 ],
 "metadata": {
  "kernelspec": {
   "display_name": "Python 3",
   "language": "python",
   "name": "python3"
  },
  "language_info": {
   "codemirror_mode": {
    "name": "ipython",
    "version": 3
   },
   "file_extension": ".py",
   "mimetype": "text/x-python",
   "name": "python",
   "nbconvert_exporter": "python",
   "pygments_lexer": "ipython3",
   "version": "3.10.7"
  },
  "orig_nbformat": 4,
  "vscode": {
   "interpreter": {
    "hash": "613d879a9df29ca216f54f0a1e89f0b865c1f91ecf6d738c523174b1df816f98"
   }
  }
 },
 "nbformat": 4,
 "nbformat_minor": 2
}
