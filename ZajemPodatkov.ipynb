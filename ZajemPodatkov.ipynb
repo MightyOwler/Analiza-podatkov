{
 "cells": [
  {
   "cell_type": "code",
   "execution_count": 8,
   "metadata": {},
   "outputs": [],
   "source": [
    "import csv\n",
    "import json\n",
    "from selenium import webdriver\n",
    "from selenium.webdriver.chrome.options import Options\n",
    "from selenium.webdriver.chrome.service import Service\n",
    "from selenium.webdriver.common.by import By\n",
    "import glob\n",
    "import time\n",
    "import pandas as pd\n",
    "from vzorci_in_pomozne_definicije import *\n",
    "\n",
    "    \n",
    "# Tole dvoje je treba, da se Chrome sproti ne odpira\n",
    "chrome_options = Options()\n",
    "chrome_options.add_argument(\"--headless\")\n",
    "service_obj = Service(\"chromedriver.exe\")\n",
    "\n",
    "podatki_s_spletnih_strani_se_niso_lokalno_shranjeni = False"
   ]
  },
  {
   "attachments": {},
   "cell_type": "markdown",
   "metadata": {},
   "source": [
    "Najprej s strani https://www.mtgstocks.com poberemo podatke o setih, ki jih želimo analizirati. Pri tem nekatere manj zanimive izpustimo."
   ]
  },
  {
   "cell_type": "code",
   "execution_count": 7,
   "metadata": {},
   "outputs": [],
   "source": [
    "# Spodnja celica se požene samo v primeru, da podatki še niso lokalno shranjeni (oz. če spremenimo vrednost bool spremenljivke)\n",
    "if podatki_s_spletnih_strani_se_niso_lokalno_shranjeni:\n",
    "    driver = webdriver.Chrome(service = service_obj, options=chrome_options)\n",
    "    PRVI_SET = 1\n",
    "    ZADNJI_SET = 1300\n",
    "\n",
    "    for st_strani in range(PRVI_SET, ZADNJI_SET + 1):\n",
    "        url = (\n",
    "            f'https://www.mtgstocks.com/sets/{st_strani}' \n",
    "        )\n",
    "        print(f\"\\n Zajemam {url}\\n\")\n",
    "        driver.get(url)\n",
    "        time.sleep(1)\n",
    "        \n",
    "        \n",
    "        vsebina = driver.page_source\n",
    "        naslov_strani = driver.title\n",
    "        \n",
    "        stevilo_podstrani_s_kartami = vsebina.count(\"pagination-page page-item\")\n",
    "        st_besed_Market_na_strani = vsebina.count(\">Market<\")\n",
    "        \n",
    "        print(\"Naslov strani:\", naslov_strani)\n",
    "        \n",
    "        if naslov_strani in [\"File not found - MTGStocks\"]:\n",
    "            print(f'\\n Stran št. {st_strani} ni dosegljiva.\\n')\n",
    "        else:\n",
    "            print(f'\\n Stran št. {st_strani} JE dosegljiva.\\n')\n",
    "            if \"Art Series:\" in naslov_strani or \"From the Vault:\" in naslov_strani or st_besed_Market_na_strani == 0:\n",
    "                continue\n",
    "            else:\n",
    "                with open(pridobi_ustrezno_ime_lokalne_datoteke(st_strani), 'w', encoding = \"utf-8\") as dat:\n",
    "                    driver.find_element(by=By.XPATH, value = \"//*[text() = 'Market']//..\").click()\n",
    "                    for podstran in range(1, stevilo_podstrani_s_kartami + 1):\n",
    "                        driver.find_element(by=By.XPATH, value = f\"//*[contains(@class, 'pagination-page page-item')][{podstran}]//a\").click()\n",
    "                        time.sleep(1)\n",
    "                        print(f\"Pobrana {podstran}. podstran\")\n",
    "                        dat.write(driver.page_source)\n",
    "    "
   ]
  },
  {
   "attachments": {},
   "cell_type": "markdown",
   "metadata": {},
   "source": [
    "Nato preberemo lokalno shranjene podatke o setih, ter izluščimo zgolj osnovne podatke o kartah (id, ime, set, redkost, povprečna cena, povprečna cena foila), ki jih zapišemo v csv in json datoteki. "
   ]
  },
  {
   "cell_type": "code",
   "execution_count": null,
   "metadata": {},
   "outputs": [],
   "source": [
    "POT_DO_LOKALNIH_PODATKOV_O_SETIH = os.path.join('Podatki','Lokalni_podatki_o_setih')\n",
    "karte = []\n",
    "\n",
    "# Najprej poradiramo csv in json datoteki\n",
    "os.remove(FILENAME_KARTE_CSV)\n",
    "os.remove(FILENAME_KARTE_JSON)\n",
    "\n",
    "for filename in glob.glob(os.path.join(POT_DO_LOKALNIH_PODATKOV_O_SETIH, '*.html')):\n",
    "    with open(filename, 'r', encoding = \"latin1\") as f:\n",
    "        vsebina = f.read()\n",
    "        for blok in vzorec_bloka.finditer(vsebina):\n",
    "            karte.append(izlusci_podatke_o_kartah_iz_bloka(blok.group(0)))\n",
    "\n",
    "with open(FILENAME_KARTE_JSON, \"a\", encoding = \"utf-8\") as dat:\n",
    "    json.dump(karte, dat, indent=4, ensure_ascii=False)\n",
    "    \n",
    "with open(FILENAME_KARTE_CSV, \"a\", encoding = \"utf-8\") as dat:\n",
    "    writer = csv.DictWriter(dat, [\n",
    "        \"id_karte\",\n",
    "        \"ime\",\n",
    "        \"set\",\n",
    "        \"redkost\",\n",
    "        \"povprecna_cena\",\n",
    "        \"povprecna_cena_foil\",\n",
    "    ])\n",
    "    writer.writeheader()\n",
    "    writer.writerows(karte)\n",
    "\n",
    "print(\"Prebrali smo lokalno shanjene podatke iz HMTL datotek in jih zapisali v 'karte.csv' in 'karte.json'.\")"
   ]
  },
  {
   "attachments": {},
   "cell_type": "markdown",
   "metadata": {},
   "source": [
    "S pomočjo teh podatkov ustvarimo dataframe. Iz njega izločimo basic lande in tokene. Prav tako izločimo karte, ki nimajo podane niti ene cene.\n",
    "\n",
    "*Opomba*: Ker se imena nekaterih setov na strani MTGStocks razlikujejo od uradnih, jih popravimo s pomočjo slovarja."
   ]
  },
  {
   "cell_type": "code",
   "execution_count": null,
   "metadata": {},
   "outputs": [],
   "source": [
    "podatki_o_kartah = pd.read_csv(FILENAME_KARTE_CSV, encoding=\"latin1\")\n",
    "\n",
    "seznam_basic_landov = [\"Forest\", \"Mountain\", \"Swamp\", \"Plains\", \"Island\", \"Wastes\"]\n",
    "regex_izraz_za_basic_lande = r'Forest \\(\\d|Mountain \\(\\d|Swamp \\(\\d|Plains \\(\\d|Island \\(\\d|Wastes \\(\\d'\n",
    "podatki_o_kartah = podatki_o_kartah[~(podatki_o_kartah.redkost.isin([\"Token\", \"Land\"])) & ~(podatki_o_kartah.ime.str.match(regex_izraz_za_basic_lande)) & ~(podatki_o_kartah.ime.isin(seznam_basic_landov))]\n",
    "podatki_o_kartah = podatki_o_kartah[~(podatki_o_kartah.povprecna_cena.isnull() & podatki_o_kartah.povprecna_cena_foil.isnull())]\n",
    "podatki_o_kartah = podatki_o_kartah.replace(slovar_uradnih_imenovanj_setov)\n",
    "okrajsani_indeksi = podatki_o_kartah.id_karte # To so indeksi, s katerimi bomo pognali ustrezne url-je\n",
    "raznoliki_seti = podatki_o_kartah[\"set\"].unique()\n"
   ]
  },
  {
   "cell_type": "markdown",
   "metadata": {},
   "source": [
    "Podatke o setih najdemo na strani \"https://scryfall.com/sets\"."
   ]
  },
  {
   "cell_type": "code",
   "execution_count": null,
   "metadata": {},
   "outputs": [],
   "source": [
    "# Spodnja celica se požene samo v primeru, da podatki še niso lokalno shranjeni (oz. če spremenimo vrednost bool spremenljivke)\n",
    "if podatki_s_spletnih_strani_se_niso_lokalno_shranjeni:\n",
    "    driver = webdriver.Chrome(service = service_obj, options=chrome_options)\n",
    "    driver.get(URL_DO_STRANI_SETOV)\n",
    "    time.sleep(1)\n",
    "    vsebina_strani_setov = driver.page_source\n",
    "    driver.close()\n",
    "\n",
    "    slovarji_posameznih_setov = []\n",
    "\n",
    "    os.remove(FILENAME_SETI_CSV)\n",
    "    with open(FILENAME_SETI_CSV, \"a\", encoding=\"utf-8\") as csvfile:\n",
    "        writer = csv.DictWriter(csvfile, [\n",
    "                \"set\",\n",
    "                \"polno_ime\",\n",
    "                \"st_kart\",\n",
    "                \"datum_izida\",\n",
    "            ])\n",
    "        \n",
    "        for posamezen_set in raznoliki_seti:\n",
    "            vzorec_za_podatke_o_setu = re.compile(\n",
    "                r'   (?P<polno_ime>\\w.*?) <small>' + posamezen_set + r'</small>\\n</a></td>.*?<td>\\n.*?>(?P<st_kart>.*?)</a>\\n.*?\\n.*?\\n.*?>(?P<datum_izida>.*?)</a>',\n",
    "            )\n",
    "            print(\"Shranjen\", posamezen_set, end = \" \")\n",
    "            slovarji_posameznih_setov.append(izlusci_podatke_o_setih(vsebina_strani_setov, vzorec_za_podatke_o_setu, posamezen_set, podatki_o_kartah))\n",
    "            \n",
    "        writer.writeheader()\n",
    "        writer.writerows(slovarji_posameznih_setov)\n",
    "        \n",
    "        os.remove(FILENAME_SETI_JSON)\n",
    "        with open(FILENAME_SETI_JSON, \"a\", encoding = \"utf-8\") as dat:\n",
    "            json.dump(slovarji_posameznih_setov, dat, indent=4, ensure_ascii=False)"
   ]
  },
  {
   "attachments": {},
   "cell_type": "markdown",
   "metadata": {},
   "source": [
    "S pomočjo indeksov kart, ki smo jih dobili na strani MTGStocks, pridobimo podatke za vse karte iz dataframa.\n",
    "\n",
    "Na tej točki bi omenil, da sem zaradi osebnega interesa pridobil veliko več podatkov, kot bi bilo potrebno v okviru naloge."
   ]
  },
  {
   "cell_type": "code",
   "execution_count": null,
   "metadata": {},
   "outputs": [],
   "source": [
    "# Spodnja celica se požene samo v primeru, da podatki še niso lokalno shranjeni (oz. če spremenimo vrednost bool spremenljivke)\n",
    "if podatki_s_spletnih_strani_se_niso_lokalno_shranjeni:\n",
    "    driver = webdriver.Chrome(service = service_obj, options=chrome_options)\n",
    "    print(\"Število vseh indeksov kart, ki jih imamo:\", len(okrajsani_indeksi))\n",
    "\n",
    "    os.remove(FILENAME_KARTE_DODATEK_CSV)\n",
    "    with open(FILENAME_KARTE_DODATEK_CSV, \"a\", encoding = \"utf-8\") as csvfile:\n",
    "        writer = csv.DictWriter(csvfile, [\n",
    "            \"id_karte\",\n",
    "            \"cmc\",\n",
    "            \"manacost\",\n",
    "            \"barva\",\n",
    "            \"povprecje_eu\",\n",
    "            \"supertype\",\n",
    "            \"cardtype\",\n",
    "            \"subtype\",\n",
    "            \"oracle_text\",\n",
    "            \"reserved_list\",\n",
    "            \"all_time_low\",\n",
    "            \"all_time_low_datum\",\n",
    "            \"all_time_high\",\n",
    "            \"all_time_high_datum\",\n",
    "        ])\n",
    "        \n",
    "        slovarji_posameznih_kart = []\n",
    "        stetje_zajetih_kart = 0\n",
    "\n",
    "        for indeks_printa in okrajsani_indeksi:\n",
    "            url = f\"https://www.mtgstocks.com/prints/{indeks_printa}\"\n",
    "            stetje_zajetih_kart += 1\n",
    "            print(f\"({stetje_zajetih_kart}.) Zajemanje printa karte št. {indeks_printa} s strani {url}\")\n",
    "\n",
    "            try:\n",
    "                driver.get(url)\n",
    "                time.sleep(1)\n",
    "                vsebina = driver.page_source\n",
    "                glava_slovarja = {\"id_karte\": indeks_printa}\n",
    "                manacost_in_barve = izlusci_podatke_manacosta_in_barve(vsebina)\n",
    "                glavnina = izlusci_podatke_o_specificni_karti_iz_njene_datoteke(vsebina)\n",
    "                glava_slovarja.update(manacost_in_barve)\n",
    "                glava_slovarja.update(glavnina)\n",
    "                print(glava_slovarja, \"\\n\")\n",
    "                slovarji_posameznih_kart.append(glava_slovarja)\n",
    "                \n",
    "            except Exception as e:\n",
    "                print(f\"Prišlo je do napake pri setu {indeks_printa}\")\n",
    "                print(e)\n",
    "                \n",
    "        writer.writeheader()\n",
    "        writer.writerows(slovarji_posameznih_kart)"
   ]
  }
 ],
 "metadata": {
  "kernelspec": {
   "display_name": "Python 3",
   "language": "python",
   "name": "python3"
  },
  "language_info": {
   "codemirror_mode": {
    "name": "ipython",
    "version": 3
   },
   "file_extension": ".py",
   "mimetype": "text/x-python",
   "name": "python",
   "nbconvert_exporter": "python",
   "pygments_lexer": "ipython3",
   "version": "3.10.7"
  },
  "orig_nbformat": 4,
  "vscode": {
   "interpreter": {
    "hash": "613d879a9df29ca216f54f0a1e89f0b865c1f91ecf6d738c523174b1df816f98"
   }
  }
 },
 "nbformat": 4,
 "nbformat_minor": 2
}
