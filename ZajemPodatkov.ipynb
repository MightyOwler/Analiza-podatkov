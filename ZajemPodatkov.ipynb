{
 "cells": [
  {
   "cell_type": "code",
   "execution_count": null,
   "metadata": {},
   "outputs": [],
   "source": [
    "import re\n",
    "import requests\n",
    "import csv\n",
    "import json\n",
    "from selenium import webdriver\n",
    "from selenium.webdriver.chrome.options import Options\n",
    "from selenium.webdriver.common.by import By\n",
    "import time\n",
    "import pandas as pd\n",
    "import numpy as np\n",
    "    \n",
    "# Tole dvoje je treba, da se Chrome sproti ne odpira\n",
    "chrome_options = Options()\n",
    "chrome_options.add_argument(\"--headless\")\n",
    "driver = webdriver.Chrome(\"chromedriver.exe\", options=chrome_options)"
   ]
  },
  {
   "cell_type": "code",
   "execution_count": null,
   "metadata": {},
   "outputs": [],
   "source": [
    "vzorec_bloka = re.compile(\n",
    "    r'<td><mtg-set-icon.*?'\n",
    "    r'</tr',\n",
    "    flags=re.DOTALL\n",
    ")\n",
    "\n",
    "vzorec_karte = re.compile(\n",
    "    r'<td><mtg-set-icon.*?>.*?<i _ngcontent.*? class=\"ss ss-fw ss-(?P<set>.+?)\\b( ss-.*?)?\"></i><!----></mtg-set-icon>'\n",
    "    r'<a href=\"/prints/(?P<id_karte>\\d*).*?\">'\n",
    "    r'(?P<ime>.*?)'\n",
    "    r'</a>.*?</td>.*?<td> (?P<redkost>.*?) </td>'\n",
    "    r'.*?<td class=\"text-end\">'\n",
    "    r' (?P<povprecna_cena>.*?) </td>(<\\!---->)+(<td class=\"text-end\">.*?</td>.*?<td class=\"text-end\"> (?P<povprecna_cena_foil>.*?) </td>.*?<td class=\"text-end\">.*?</td>)?',  \n",
    "    flags=re.DOTALL\n",
    "    )\n",
    "\n",
    "def izloci_podatke_o_kartah(blok):\n",
    "    karta = vzorec_karte.search(blok).groupdict()\n",
    "    karta['id_karte'] = int(karta['id_karte'])\n",
    "    karta['ime'] = karta['ime'].strip()\n",
    "    karta['set'] = karta['set'].upper()\n",
    "    karta['redkost'] = karta[\"redkost\"].strip()\n",
    "    karta['povprecna_cena'] = karta[\"povprecna_cena\"]\n",
    "    karta['povprecna_cena_foil'] = karta[\"povprecna_cena_foil\"]\n",
    "\n",
    "    return karta\n",
    "\n",
    "def izloci_podatke_o_specificni_karti(vsebina):\n",
    "    \"\"\"\n",
    "    To bo izločilo vse dodatne podatke o karti, ki jih bomo našli na naslovu .../prints/<id_karte>\n",
    "    \"\"\"\n",
    "    pass\n",
    "\n",
    "def pridobi_ustrezno_ime_lokalne_datoteke(st_strani):\n",
    "    return f\"Podatki o kartah/Podatki iz setov/Karte iz seta st. {st_strani}.html\""
   ]
  },
  {
   "cell_type": "code",
   "execution_count": null,
   "metadata": {},
   "outputs": [],
   "source": [
    "# Najprej poradiramo csv in json datoteki\n",
    "with open(\"karte.csv\", \"w\") as dat:\n",
    "    pass\n",
    "\n",
    "with open(\"karte.json\", \"w\") as dat:\n",
    "    pass\n",
    "\n",
    "PRVI_SET = 1\n",
    "ZADNJI_SET = 1300\n",
    "\n",
    "indeksi_setov_ki_obstajajo = []\n",
    "\n",
    "for st_strani in range(PRVI_SET, ZADNJI_SET + 1):\n",
    "    url = (\n",
    "        f'https://www.mtgstocks.com/sets/{st_strani}' \n",
    "    )\n",
    "    print(f\"\\n Zajemam {url}\\n\")\n",
    "    driver.get(url)\n",
    "    time.sleep(1)\n",
    "    \n",
    "    \n",
    "    vsebina = driver.page_source\n",
    "    naslov_strani = driver.title\n",
    "    \n",
    "    stevilo_podstrani_s_kartami = vsebina.count(\"pagination-page page-item\")\n",
    "    st_besed_Market_na_strani = vsebina.count(\">Market<\")\n",
    "    \n",
    "    print(\"Naslov strani:\", naslov_strani)\n",
    "    \n",
    "    # with open(\"pomozna_datoteka_za_pregledovanje_zadnje_vsebine.txt\", \"w\") as dat:\n",
    "    #     dat.write(vsebina)    \n",
    "    \n",
    "    if naslov_strani in [\"File not found - MTGStocks\"]:\n",
    "        print(f'\\n Stran št. {st_strani} ni dosegljiva.\\n')\n",
    "    else:\n",
    "        print(f'\\n Stran št. {st_strani} JE dosegljiva.\\n')\n",
    "        if \"Art Series:\" in naslov_strani or \"From the Vault:\" in naslov_strani or st_besed_Market_na_strani == 0:\n",
    "            continue\n",
    "        else:\n",
    "            indeksi_setov_ki_obstajajo.append(st_strani)\n",
    "            with open(pridobi_ustrezno_ime_lokalne_datoteke(st_strani), 'w') as dat:\n",
    "                driver.find_element(by=By.XPATH, value = \"//*[text() = 'Market']//..\").click()\n",
    "                for podstran in range(1, stevilo_podstrani_s_kartami + 1):\n",
    "                    driver.find_element(by=By.XPATH, value = f\"//*[contains(@class, 'pagination-page page-item')][{podstran}]//a\").click()\n",
    "                    time.sleep(1)\n",
    "                    print(f\"Pobrana {podstran}. podstran\")\n",
    "                    dat.write(driver.page_source)\n",
    "\n",
    "# with open(\"pomozna_datoteka_za_pravilne_indekse.txt\", \"w\") as dat:\n",
    "#     dat.write(indeksi_setov_ki_obstajajo)  "
   ]
  },
  {
   "cell_type": "markdown",
   "metadata": {},
   "source": [
    "Koda za zapisovanje kart iz lokalnih datotek v csv in json format."
   ]
  },
  {
   "cell_type": "code",
   "execution_count": null,
   "metadata": {},
   "outputs": [],
   "source": [
    "debug_mode_za_branje_iz_lokalnih_datotek = False\n",
    "karte = []\n",
    "\n",
    "for st_seta in indeksi_setov_ki_obstajajo:\n",
    "    \n",
    "    stetje = 0\n",
    "    with open(f\"Podatki o kartah/Podatki iz setov/Karte iz seta st. {st_seta}.html\", \"r\") as f:\n",
    "        print(f\"Berem podatke kart iz seta #{st_seta}\")\n",
    "        \n",
    "        \n",
    "        vsebina = f.read()\n",
    "        \n",
    "        for blok in vzorec_bloka.finditer(vsebina):\n",
    "            stetje += 1\n",
    "            \n",
    "            if debug_mode_za_branje_iz_lokalnih_datotek:\n",
    "                print(stetje)\n",
    "                print(blok.group(0))\n",
    "                print(vzorec_karte.search(blok.group(0)).groupdict())\n",
    "            \n",
    "            karte.append(izloci_podatke_o_kartah(blok.group(0)))\n",
    "\n",
    "with open(\"karte.json\", \"a\") as dat:\n",
    "    json.dump(karte, dat, indent=4, ensure_ascii=False)\n",
    "    \n",
    "\n",
    "with open(\"karte.csv\", \"a\") as dat:\n",
    "    writer = csv.DictWriter(dat, [\n",
    "        \"id_karte\",\n",
    "        \"ime\",\n",
    "        \"set\",\n",
    "        \"redkost\",\n",
    "        \"povprecna_cena\",\n",
    "        \"povprecna_cena_foil\",\n",
    "    ])\n",
    "    writer.writeheader()\n",
    "    writer.writerows(karte)"
   ]
  },
  {
   "cell_type": "markdown",
   "metadata": {},
   "source": [
    "Zdaj se znebimo kart, ki so tokeni ali basic landi\n",
    "Prav tako bi se radi znebili kart, ki imajo tako ceno kot ceno foila ničelno. (Torej da lahko karte primerjamo po vsaj eni komponenti)\n",
    "Pri tem je vredno omeniti, da imajo karte, ki so najbolj zaželene, tudi najbolj popolne podatke, torej jih s tem ne bomo izgubili"
   ]
  },
  {
   "cell_type": "code",
   "execution_count": null,
   "metadata": {},
   "outputs": [],
   "source": [
    "podatki_o_kartah = pd.read_csv(\"karte.csv\", encoding=\"latin1\")\n",
    "\n",
    "regex_izraz_za_basic_lande = r'Forest \\(\\d|Mountain \\(\\d|Swamp \\(\\d|Plains \\(\\d|Island \\(\\d|Wastes \\(\\d'\n",
    "okrajsani_podatki = podatki_o_kartah[~(podatki_o_kartah.redkost.isin([\"Token\", \"Land\"])) & ~(podatki_o_kartah.ime.str.match(regex_izraz_za_basic_lande)) & ~(podatki_o_kartah.ime.isin([\"Forest\", \"Mountain\", \"Swamp\", \"Plains\", \"Island\", \"Wastes\"]))]\n",
    "okrajsani_podatki = okrajsani_podatki[~(okrajsani_podatki.povprecna_cena.isnull() & okrajsani_podatki.povprecna_cena_foil.isnull())]\n",
    "okrajsani_indeksi = okrajsani_podatki.id_karte\n",
    "print(okrajsani_podatki)\n",
    "print(okrajsani_indeksi)"
   ]
  },
  {
   "cell_type": "markdown",
   "metadata": {},
   "source": [
    "Zdaj pa pogledamo vsako posamezno karto"
   ]
  },
  {
   "cell_type": "code",
   "execution_count": null,
   "metadata": {},
   "outputs": [],
   "source": [
    "print(\"Število vseh indeksov kart, ki jih imamo:\", len(okrajsani_indeksi))\n",
    "for indeks_printa in okrajsani_indeksi[:300]:\n",
    "    url = f\"https://www.mtgstocks.com/prints/{indeks_printa}\"\n",
    "    print(f\"Zajemanje printa karte št. {indeks_printa} s strani {url}\")\n",
    "    with open(f\"Podatki o kartah/Podatki o specificnih kartah/Podatki o karti st. {indeks_printa}.html\", \"w\", encoding=\"utf-8\") as dat:\n",
    "        driver.get(url)\n",
    "        time.sleep(1)\n",
    "        dat.write(driver.page_source)\n",
    "        "
   ]
  }
 ],
 "metadata": {
  "kernelspec": {
   "display_name": "Python 3",
   "language": "python",
   "name": "python3"
  },
  "language_info": {
   "codemirror_mode": {
    "name": "ipython",
    "version": 3
   },
   "file_extension": ".py",
   "mimetype": "text/x-python",
   "name": "python",
   "nbconvert_exporter": "python",
   "pygments_lexer": "ipython3",
   "version": "3.10.7"
  },
  "orig_nbformat": 4,
  "vscode": {
   "interpreter": {
    "hash": "613d879a9df29ca216f54f0a1e89f0b865c1f91ecf6d738c523174b1df816f98"
   }
  }
 },
 "nbformat": 4,
 "nbformat_minor": 2
}
