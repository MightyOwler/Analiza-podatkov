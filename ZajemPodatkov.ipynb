{
 "cells": [
  {
   "cell_type": "code",
   "execution_count": 12,
   "metadata": {},
   "outputs": [],
   "source": [
    "import requests\n",
    "import csv\n",
    "import json\n",
    "from selenium import webdriver\n",
    "from selenium.webdriver.chrome.options import Options\n",
    "from selenium.webdriver.chrome.service import Service\n",
    "from selenium.webdriver.common.by import By\n",
    "import os, glob\n",
    "import time\n",
    "import pandas as pd\n",
    "import numpy as np\n",
    "from vzorci_in_pomozne_definicije import *\n",
    "    \n",
    "# Tole dvoje je treba, da se Chrome sproti ne odpira\n",
    "chrome_options = Options()\n",
    "chrome_options.add_argument(\"--headless\")\n",
    "service_obj = Service(\"chromedriver.exe\")\n",
    "#driver = webdriver.Chrome(\"chromedriver.exe\", options=chrome_options)"
   ]
  },
  {
   "cell_type": "code",
   "execution_count": 13,
   "metadata": {},
   "outputs": [],
   "source": [
    "# PRVI_SET = 1\n",
    "# ZADNJI_SET = 1300\n",
    "\n",
    "# #indeksi_setov_ki_obstajajo = []\n",
    "\n",
    "# for st_strani in range(PRVI_SET, ZADNJI_SET + 1):\n",
    "#     url = (\n",
    "#         f'https://www.mtgstocks.com/sets/{st_strani}' \n",
    "#     )\n",
    "#     print(f\"\\n Zajemam {url}\\n\")\n",
    "#     driver.get(url)\n",
    "#     time.sleep(1)\n",
    "    \n",
    "    \n",
    "#     vsebina = driver.page_source\n",
    "#     naslov_strani = driver.title\n",
    "    \n",
    "#     stevilo_podstrani_s_kartami = vsebina.count(\"pagination-page page-item\")\n",
    "#     st_besed_Market_na_strani = vsebina.count(\">Market<\")\n",
    "    \n",
    "#     print(\"Naslov strani:\", naslov_strani)\n",
    "    \n",
    "#     if naslov_strani in [\"File not found - MTGStocks\"]:\n",
    "#         print(f'\\n Stran št. {st_strani} ni dosegljiva.\\n')\n",
    "#     else:\n",
    "#         print(f'\\n Stran št. {st_strani} JE dosegljiva.\\n')\n",
    "#         if \"Art Series:\" in naslov_strani or \"From the Vault:\" in naslov_strani or st_besed_Market_na_strani == 0:\n",
    "#             continue\n",
    "#         else:\n",
    "#             with open(pridobi_ustrezno_ime_lokalne_datoteke(st_strani), 'w', encoding = \"utf-8\") as dat:\n",
    "#                 driver.find_element(by=By.XPATH, value = \"//*[text() = 'Market']//..\").click()\n",
    "#                 for podstran in range(1, stevilo_podstrani_s_kartami + 1):\n",
    "#                     driver.find_element(by=By.XPATH, value = f\"//*[contains(@class, 'pagination-page page-item')][{podstran}]//a\").click()\n",
    "#                     time.sleep(1)\n",
    "#                     print(f\"Pobrana {podstran}. podstran\")\n",
    "#                     dat.write(driver.page_source)\n",
    "  "
   ]
  },
  {
   "cell_type": "markdown",
   "metadata": {},
   "source": [
    "Koda, ki prebere lokalno shranjene html datoteke, ter karte shrani v csv in json format.\n"
   ]
  },
  {
   "cell_type": "code",
   "execution_count": 14,
   "metadata": {},
   "outputs": [
    {
     "name": "stdout",
     "output_type": "stream",
     "text": [
      "Prebrali smo lokalno shanjene podatke iz HMTL datotek in jih zapisali v 'karte.csv' in 'karte.json'.\n"
     ]
    }
   ],
   "source": [
    "debug_mode_za_branje_iz_lokalnih_datotek = False\n",
    "path = 'Podatki o kartah/Podatki iz setov'\n",
    "karte = []\n",
    "\n",
    "# # Najprej poradiramo csv in json datoteki\n",
    "with open(\"karte.csv\", \"w\", encoding = \"utf-8\") as dat:\n",
    "    pass\n",
    "\n",
    "with open(\"karte.json\", \"w\", encoding = \"utf-8\") as dat:\n",
    "    pass\n",
    "\n",
    "for filename in glob.glob(os.path.join(path, '*.html')):\n",
    "    # Tukaj iz nekega razloga ne deluje utf-8, potrebno je latin1\n",
    "    with open(filename, 'r', encoding = \"latin1\") as f:\n",
    "\n",
    "        stetje = 0\n",
    "        #print(f\"Berem podatke kart iz {filename}\")\n",
    "        vsebina = f.read()\n",
    "        \n",
    "        for blok in vzorec_bloka.finditer(vsebina):\n",
    "            stetje += 1\n",
    "            \n",
    "            if debug_mode_za_branje_iz_lokalnih_datotek:\n",
    "                print(stetje)\n",
    "                print(blok.group(0))\n",
    "                print(vzorec_karte.search(blok.group(0)).groupdict())\n",
    "            \n",
    "            karte.append(izlusci_podatke_o_kartah_iz_bloka(blok.group(0)))\n",
    "\n",
    "with open(\"karte.json\", \"a\", encoding = \"utf-8\") as dat:\n",
    "    json.dump(karte, dat, indent=4, ensure_ascii=False)\n",
    "    \n",
    "\n",
    "with open(\"karte.csv\", \"a\", encoding = \"utf-8\") as dat:\n",
    "    writer = csv.DictWriter(dat, [\n",
    "        \"id_karte\",\n",
    "        \"ime\",\n",
    "        \"set\",\n",
    "        \"redkost\",\n",
    "        \"povprecna_cena\",\n",
    "        \"povprecna_cena_foil\",\n",
    "    ])\n",
    "    writer.writeheader()\n",
    "    writer.writerows(karte)\n",
    "\n",
    "print(\"Prebrali smo lokalno shanjene podatke iz HMTL datotek in jih zapisali v 'karte.csv' in 'karte.json'.\")"
   ]
  },
  {
   "cell_type": "markdown",
   "metadata": {},
   "source": [
    "S pomočjo podatkov ustvarimo dataframe. Iz njega izločimo basic lande in tokene. Prav tako izločimo karte, ki nimajo podane vsaj ene cene.\n",
    "*Opomba 1*: Ker imajo najbolj zaželene karte najbolj popolne podatke, nam tako izločanje ne bo pokvarilo vzorca.\n",
    "*Opomba 2*: Nekateri seti so na strani MTGStocks navedeni napačno! Ker so mnogi izmed njih izredno pomembni, jih popravimo v dataframu. "
   ]
  },
  {
   "cell_type": "code",
   "execution_count": 15,
   "metadata": {},
   "outputs": [
    {
     "name": "stdout",
     "output_type": "stream",
     "text": [
      "       id_karte               ime  set   redkost povprecna_cena  \\\n",
      "0         19748     Cyclonic Rift  RTR      Rare         $38.00   \n",
      "1         19934   Utvara Hellkite  RTR    Mythic         $19.53   \n",
      "2           360       Blood Crypt  RTR      Rare         $19.99   \n",
      "3           404       Steam Vents  RTR      Rare         $18.63   \n",
      "4           395    Overgrown Tomb  RTR      Rare         $13.99   \n",
      "...         ...               ...  ...       ...            ...   \n",
      "47532     18337  Dregscape Zombie  ARC    Common          $0.25   \n",
      "47533     18380        Juggernaut  ARC  Uncommon          $0.25   \n",
      "47534     18421           Plummet  ARC    Common          $0.25   \n",
      "47535     18348          Fertilid  ARC    Common          $0.38   \n",
      "47536     18434  Sanctum Gargoyle  ARC    Common          $0.24   \n",
      "\n",
      "      povprecna_cena_foil  \n",
      "0                  $57.99  \n",
      "1                  $57.44  \n",
      "2                  $34.37  \n",
      "3                  $38.61  \n",
      "4                  $25.72  \n",
      "...                   ...  \n",
      "47532                 NaN  \n",
      "47533                 NaN  \n",
      "47534                 NaN  \n",
      "47535                 NaN  \n",
      "47536                 NaN  \n",
      "\n",
      "[43057 rows x 6 columns]\n"
     ]
    }
   ],
   "source": [
    "podatki_o_kartah = pd.read_csv(\"karte.csv\", encoding=\"latin1\")\n",
    "\n",
    "regex_izraz_za_basic_lande = r'Forest \\(\\d|Mountain \\(\\d|Swamp \\(\\d|Plains \\(\\d|Island \\(\\d|Wastes \\(\\d'\n",
    "okrajsani_podatki_o_kartah = podatki_o_kartah[~(podatki_o_kartah.redkost.isin([\"Token\", \"Land\"])) & ~(podatki_o_kartah.ime.str.match(regex_izraz_za_basic_lande)) & ~(podatki_o_kartah.ime.isin([\"Forest\", \"Mountain\", \"Swamp\", \"Plains\", \"Island\", \"Wastes\"]))]\n",
    "okrajsani_podatki_o_kartah = okrajsani_podatki_o_kartah[~(okrajsani_podatki_o_kartah.povprecna_cena.isnull() & okrajsani_podatki_o_kartah.povprecna_cena_foil.isnull())]\n",
    "\n",
    "slovar_za_popravljanje_napacnih_podatkov_s_spletne_strani = {'set': {\"VAN\" : \"PVAN\", \"SLDC\": \"PHED\", \"XCLE\": \"CED\", \"XICE\": \"CEI\", \"RMB1\": \"FMB1\", \"XDND\" : \"AFR\", \"2E\": \"LEB\", \"2U\": \"2ED\", \"1E\": \"LEA\", \"PO2\": \"P02\", \"3ED\":\"FBB\", \"3E\":\"3ED\"}}\n",
    "okrajsani_podatki_o_kartah = okrajsani_podatki_o_kartah.replace(slovar_za_popravljanje_napacnih_podatkov_s_spletne_strani)\n",
    "\n",
    "okrajsani_indeksi = okrajsani_podatki_o_kartah.id_karte # To so indeksi, s katerimi bomo pognali ustrezne url-je\n",
    "\n",
    "raznoliki_seti = okrajsani_podatki_o_kartah[\"set\"].unique()\n",
    "\n",
    "print(okrajsani_podatki_o_kartah)\n"
   ]
  },
  {
   "cell_type": "markdown",
   "metadata": {},
   "source": [
    "Podatke o setih najdemo na strani \"https://scryfall.com/sets\"."
   ]
  },
  {
   "cell_type": "code",
   "execution_count": 16,
   "metadata": {},
   "outputs": [
    {
     "name": "stderr",
     "output_type": "stream",
     "text": [
      "C:\\Users\\jasak\\AppData\\Local\\Temp\\ipykernel_27744\\1567746052.py:1: DeprecationWarning: executable_path has been deprecated, please pass in a Service object\n",
      "  driver = webdriver.Chrome(service_obj, options=chrome_options)\n"
     ]
    },
    {
     "ename": "TypeError",
     "evalue": "expected str, bytes or os.PathLike object, not Service",
     "output_type": "error",
     "traceback": [
      "\u001b[1;31m---------------------------------------------------------------------------\u001b[0m",
      "\u001b[1;31mTypeError\u001b[0m                                 Traceback (most recent call last)",
      "Cell \u001b[1;32mIn [16], line 1\u001b[0m\n\u001b[1;32m----> 1\u001b[0m driver \u001b[39m=\u001b[39m webdriver\u001b[39m.\u001b[39;49mChrome(service_obj, options\u001b[39m=\u001b[39;49mchrome_options)\n\u001b[0;32m      2\u001b[0m url_do_strani_setov \u001b[39m=\u001b[39m \u001b[39m\"\u001b[39m\u001b[39mhttps://scryfall.com/sets\u001b[39m\u001b[39m\"\u001b[39m\n\u001b[0;32m      4\u001b[0m driver\u001b[39m.\u001b[39mget(url_do_strani_setov)\n",
      "File \u001b[1;32mc:\\Users\\jasak\\AppData\\Local\\Programs\\Python\\Python310\\lib\\site-packages\\selenium\\webdriver\\chrome\\webdriver.py:69\u001b[0m, in \u001b[0;36mWebDriver.__init__\u001b[1;34m(self, executable_path, port, options, service_args, desired_capabilities, service_log_path, chrome_options, service, keep_alive)\u001b[0m\n\u001b[0;32m     66\u001b[0m \u001b[39mif\u001b[39;00m \u001b[39mnot\u001b[39;00m service:\n\u001b[0;32m     67\u001b[0m     service \u001b[39m=\u001b[39m Service(executable_path, port, service_args, service_log_path)\n\u001b[1;32m---> 69\u001b[0m \u001b[39msuper\u001b[39;49m()\u001b[39m.\u001b[39;49m\u001b[39m__init__\u001b[39;49m(DesiredCapabilities\u001b[39m.\u001b[39;49mCHROME[\u001b[39m'\u001b[39;49m\u001b[39mbrowserName\u001b[39;49m\u001b[39m'\u001b[39;49m], \u001b[39m\"\u001b[39;49m\u001b[39mgoog\u001b[39;49m\u001b[39m\"\u001b[39;49m,\n\u001b[0;32m     70\u001b[0m                  port, options,\n\u001b[0;32m     71\u001b[0m                  service_args, desired_capabilities,\n\u001b[0;32m     72\u001b[0m                  service_log_path, service, keep_alive)\n",
      "File \u001b[1;32mc:\\Users\\jasak\\AppData\\Local\\Programs\\Python\\Python310\\lib\\site-packages\\selenium\\webdriver\\chromium\\webdriver.py:89\u001b[0m, in \u001b[0;36mChromiumDriver.__init__\u001b[1;34m(self, browser_name, vendor_prefix, port, options, service_args, desired_capabilities, service_log_path, service, keep_alive)\u001b[0m\n\u001b[0;32m     86\u001b[0m     \u001b[39mraise\u001b[39;00m \u001b[39mAttributeError\u001b[39;00m(\u001b[39m'\u001b[39m\u001b[39mservice cannot be None\u001b[39m\u001b[39m'\u001b[39m)\n\u001b[0;32m     88\u001b[0m \u001b[39mself\u001b[39m\u001b[39m.\u001b[39mservice \u001b[39m=\u001b[39m service\n\u001b[1;32m---> 89\u001b[0m \u001b[39mself\u001b[39;49m\u001b[39m.\u001b[39;49mservice\u001b[39m.\u001b[39;49mstart()\n\u001b[0;32m     91\u001b[0m \u001b[39mtry\u001b[39;00m:\n\u001b[0;32m     92\u001b[0m     \u001b[39msuper\u001b[39m()\u001b[39m.\u001b[39m\u001b[39m__init__\u001b[39m(\n\u001b[0;32m     93\u001b[0m         command_executor\u001b[39m=\u001b[39mChromiumRemoteConnection(\n\u001b[0;32m     94\u001b[0m             remote_server_addr\u001b[39m=\u001b[39m\u001b[39mself\u001b[39m\u001b[39m.\u001b[39mservice\u001b[39m.\u001b[39mservice_url,\n\u001b[0;32m     95\u001b[0m             browser_name\u001b[39m=\u001b[39mbrowser_name, vendor_prefix\u001b[39m=\u001b[39mvendor_prefix,\n\u001b[0;32m     96\u001b[0m             keep_alive\u001b[39m=\u001b[39mkeep_alive, ignore_proxy\u001b[39m=\u001b[39m_ignore_proxy),\n\u001b[0;32m     97\u001b[0m         options\u001b[39m=\u001b[39moptions)\n",
      "File \u001b[1;32mc:\\Users\\jasak\\AppData\\Local\\Programs\\Python\\Python310\\lib\\site-packages\\selenium\\webdriver\\common\\service.py:71\u001b[0m, in \u001b[0;36mService.start\u001b[1;34m(self)\u001b[0m\n\u001b[0;32m     69\u001b[0m     cmd \u001b[39m=\u001b[39m [\u001b[39mself\u001b[39m\u001b[39m.\u001b[39mpath]\n\u001b[0;32m     70\u001b[0m     cmd\u001b[39m.\u001b[39mextend(\u001b[39mself\u001b[39m\u001b[39m.\u001b[39mcommand_line_args())\n\u001b[1;32m---> 71\u001b[0m     \u001b[39mself\u001b[39m\u001b[39m.\u001b[39mprocess \u001b[39m=\u001b[39m subprocess\u001b[39m.\u001b[39;49mPopen(cmd, env\u001b[39m=\u001b[39;49m\u001b[39mself\u001b[39;49m\u001b[39m.\u001b[39;49menv,\n\u001b[0;32m     72\u001b[0m                                     close_fds\u001b[39m=\u001b[39;49msystem() \u001b[39m!=\u001b[39;49m \u001b[39m'\u001b[39;49m\u001b[39mWindows\u001b[39;49m\u001b[39m'\u001b[39;49m,\n\u001b[0;32m     73\u001b[0m                                     stdout\u001b[39m=\u001b[39;49m\u001b[39mself\u001b[39;49m\u001b[39m.\u001b[39;49mlog_file,\n\u001b[0;32m     74\u001b[0m                                     stderr\u001b[39m=\u001b[39;49m\u001b[39mself\u001b[39;49m\u001b[39m.\u001b[39;49mlog_file,\n\u001b[0;32m     75\u001b[0m                                     stdin\u001b[39m=\u001b[39;49mPIPE,\n\u001b[0;32m     76\u001b[0m                                     creationflags\u001b[39m=\u001b[39;49m\u001b[39mself\u001b[39;49m\u001b[39m.\u001b[39;49mcreationflags)\n\u001b[0;32m     77\u001b[0m \u001b[39mexcept\u001b[39;00m \u001b[39mTypeError\u001b[39;00m:\n\u001b[0;32m     78\u001b[0m     \u001b[39mraise\u001b[39;00m\n",
      "File \u001b[1;32mc:\\Users\\jasak\\AppData\\Local\\Programs\\Python\\Python310\\lib\\subprocess.py:969\u001b[0m, in \u001b[0;36mPopen.__init__\u001b[1;34m(self, args, bufsize, executable, stdin, stdout, stderr, preexec_fn, close_fds, shell, cwd, env, universal_newlines, startupinfo, creationflags, restore_signals, start_new_session, pass_fds, user, group, extra_groups, encoding, errors, text, umask, pipesize)\u001b[0m\n\u001b[0;32m    965\u001b[0m         \u001b[39mif\u001b[39;00m \u001b[39mself\u001b[39m\u001b[39m.\u001b[39mtext_mode:\n\u001b[0;32m    966\u001b[0m             \u001b[39mself\u001b[39m\u001b[39m.\u001b[39mstderr \u001b[39m=\u001b[39m io\u001b[39m.\u001b[39mTextIOWrapper(\u001b[39mself\u001b[39m\u001b[39m.\u001b[39mstderr,\n\u001b[0;32m    967\u001b[0m                     encoding\u001b[39m=\u001b[39mencoding, errors\u001b[39m=\u001b[39merrors)\n\u001b[1;32m--> 969\u001b[0m     \u001b[39mself\u001b[39;49m\u001b[39m.\u001b[39;49m_execute_child(args, executable, preexec_fn, close_fds,\n\u001b[0;32m    970\u001b[0m                         pass_fds, cwd, env,\n\u001b[0;32m    971\u001b[0m                         startupinfo, creationflags, shell,\n\u001b[0;32m    972\u001b[0m                         p2cread, p2cwrite,\n\u001b[0;32m    973\u001b[0m                         c2pread, c2pwrite,\n\u001b[0;32m    974\u001b[0m                         errread, errwrite,\n\u001b[0;32m    975\u001b[0m                         restore_signals,\n\u001b[0;32m    976\u001b[0m                         gid, gids, uid, umask,\n\u001b[0;32m    977\u001b[0m                         start_new_session)\n\u001b[0;32m    978\u001b[0m \u001b[39mexcept\u001b[39;00m:\n\u001b[0;32m    979\u001b[0m     \u001b[39m# Cleanup if the child failed starting.\u001b[39;00m\n\u001b[0;32m    980\u001b[0m     \u001b[39mfor\u001b[39;00m f \u001b[39min\u001b[39;00m \u001b[39mfilter\u001b[39m(\u001b[39mNone\u001b[39;00m, (\u001b[39mself\u001b[39m\u001b[39m.\u001b[39mstdin, \u001b[39mself\u001b[39m\u001b[39m.\u001b[39mstdout, \u001b[39mself\u001b[39m\u001b[39m.\u001b[39mstderr)):\n",
      "File \u001b[1;32mc:\\Users\\jasak\\AppData\\Local\\Programs\\Python\\Python310\\lib\\subprocess.py:1378\u001b[0m, in \u001b[0;36mPopen._execute_child\u001b[1;34m(self, args, executable, preexec_fn, close_fds, pass_fds, cwd, env, startupinfo, creationflags, shell, p2cread, p2cwrite, c2pread, c2pwrite, errread, errwrite, unused_restore_signals, unused_gid, unused_gids, unused_uid, unused_umask, unused_start_new_session)\u001b[0m\n\u001b[0;32m   1376\u001b[0m     args \u001b[39m=\u001b[39m list2cmdline([args])\n\u001b[0;32m   1377\u001b[0m \u001b[39melse\u001b[39;00m:\n\u001b[1;32m-> 1378\u001b[0m     args \u001b[39m=\u001b[39m list2cmdline(args)\n\u001b[0;32m   1380\u001b[0m \u001b[39mif\u001b[39;00m executable \u001b[39mis\u001b[39;00m \u001b[39mnot\u001b[39;00m \u001b[39mNone\u001b[39;00m:\n\u001b[0;32m   1381\u001b[0m     executable \u001b[39m=\u001b[39m os\u001b[39m.\u001b[39mfsdecode(executable)\n",
      "File \u001b[1;32mc:\\Users\\jasak\\AppData\\Local\\Programs\\Python\\Python310\\lib\\subprocess.py:561\u001b[0m, in \u001b[0;36mlist2cmdline\u001b[1;34m(seq)\u001b[0m\n\u001b[0;32m    559\u001b[0m result \u001b[39m=\u001b[39m []\n\u001b[0;32m    560\u001b[0m needquote \u001b[39m=\u001b[39m \u001b[39mFalse\u001b[39;00m\n\u001b[1;32m--> 561\u001b[0m \u001b[39mfor\u001b[39;00m arg \u001b[39min\u001b[39;00m \u001b[39mmap\u001b[39m(os\u001b[39m.\u001b[39mfsdecode, seq):\n\u001b[0;32m    562\u001b[0m     bs_buf \u001b[39m=\u001b[39m []\n\u001b[0;32m    564\u001b[0m     \u001b[39m# Add a space to separate this argument from the others\u001b[39;00m\n",
      "File \u001b[1;32mc:\\Users\\jasak\\AppData\\Local\\Programs\\Python\\Python310\\lib\\os.py:822\u001b[0m, in \u001b[0;36m_fscodec.<locals>.fsdecode\u001b[1;34m(filename)\u001b[0m\n\u001b[0;32m    816\u001b[0m \u001b[39mdef\u001b[39;00m \u001b[39mfsdecode\u001b[39m(filename):\n\u001b[0;32m    817\u001b[0m     \u001b[39m\"\"\"Decode filename (an os.PathLike, bytes, or str) from the filesystem\u001b[39;00m\n\u001b[0;32m    818\u001b[0m \u001b[39m    encoding with 'surrogateescape' error handler, return str unchanged. On\u001b[39;00m\n\u001b[0;32m    819\u001b[0m \u001b[39m    Windows, use 'strict' error handler if the file system encoding is\u001b[39;00m\n\u001b[0;32m    820\u001b[0m \u001b[39m    'mbcs' (which is the default encoding).\u001b[39;00m\n\u001b[0;32m    821\u001b[0m \u001b[39m    \"\"\"\u001b[39;00m\n\u001b[1;32m--> 822\u001b[0m     filename \u001b[39m=\u001b[39m fspath(filename)  \u001b[39m# Does type-checking of `filename`.\u001b[39;00m\n\u001b[0;32m    823\u001b[0m     \u001b[39mif\u001b[39;00m \u001b[39misinstance\u001b[39m(filename, \u001b[39mbytes\u001b[39m):\n\u001b[0;32m    824\u001b[0m         \u001b[39mreturn\u001b[39;00m filename\u001b[39m.\u001b[39mdecode(encoding, errors)\n",
      "\u001b[1;31mTypeError\u001b[0m: expected str, bytes or os.PathLike object, not Service"
     ]
    }
   ],
   "source": [
    "driver = webdriver.Chrome(service = service_obj, options=chrome_options)\n",
    "url_do_strani_setov = \"https://scryfall.com/sets\"\n",
    "\n",
    "driver.get(url_do_strani_setov)\n",
    "time.sleep(1)\n",
    "vsebina_strani_setov = driver.page_source\n",
    "driver.close()\n",
    "\n",
    "slovarji_posameznih_setov = []\n",
    "\n",
    "\n",
    "with open(\"seti.csv\", \"w\", encoding=\"utf-8\") as csvfile:\n",
    "    pass\n",
    "\n",
    "with open(\"seti.csv\", \"a\", encoding=\"utf-8\") as csvfile:\n",
    "    writer = csv.DictWriter(csvfile, [\n",
    "            \"set\",\n",
    "            \"polno_ime\",\n",
    "            \"st_kart\",\n",
    "            \"datum_izida\",\n",
    "        ])\n",
    "    \n",
    "    for posamezen_set in raznoliki_seti:\n",
    "        vzorec_za_podatke_o_setu = re.compile(\n",
    "            r'   (?P<polno_ime>\\w.*?) <small>' + posamezen_set + r'</small>\\n</a></td>.*?<td>\\n.*?>(?P<st_kart>.*?)</a>\\n.*?\\n.*?\\n.*?>(?P<datum_izida>.*?)</a>',\n",
    "        )\n",
    "        print(\"Shranjen\", posamezen_set, end = \" \")\n",
    "        slovarji_posameznih_setov.append(izlusci_podatke_o_setih(vsebina_strani_setov, vzorec_za_podatke_o_setu, posamezen_set, podatki_o_kartah))\n",
    "        \n",
    "    writer.writeheader()\n",
    "    writer.writerows(slovarji_posameznih_setov)\n",
    "    \n",
    "    with open(\"seti.json\", \"w\", encoding = \"utf-8\") as dat:\n",
    "        pass\n",
    "    \n",
    "    with open(\"seti.json\", \"a\", encoding = \"utf-8\") as dat:\n",
    "        json.dump(slovarji_posameznih_setov, dat, indent=4, ensure_ascii=False)"
   ]
  },
  {
   "cell_type": "markdown",
   "metadata": {},
   "source": [
    "S pomočjo indeksov kart, ki smo jih dobili na strani MTGStocks, pridobimo podatke za vse karte iz dataframa."
   ]
  },
  {
   "cell_type": "code",
   "execution_count": null,
   "metadata": {},
   "outputs": [
    {
     "name": "stderr",
     "output_type": "stream",
     "text": [
      "C:\\Users\\jasak\\AppData\\Local\\Temp\\ipykernel_27744\\4203472445.py:1: DeprecationWarning: executable_path has been deprecated, please pass in a Service object\n",
      "  driver = webdriver.Chrome(\"chromedriver.exe\", options=chrome_options)\n"
     ]
    },
    {
     "name": "stdout",
     "output_type": "stream",
     "text": [
      "Število vseh indeksov kart, ki jih imamo: 43057\n",
      "Zajemanje printa karte št. 19748 s strani https://www.mtgstocks.com/prints/19748\n"
     ]
    },
    {
     "name": "stderr",
     "output_type": "stream",
     "text": [
      "C:\\Users\\jasak\\AppData\\Local\\Temp\\ipykernel_27744\\4203472445.py:28: FutureWarning: The behavior of `series[i:j]` with an integer-dtype index is deprecated. In a future version, this will be treated as *label-based* indexing, consistent with e.g. `series[i]` lookups. To retain the old behavior, use `series.iloc[i:j]`. To get the future behavior, use `series.loc[i:j]`.\n",
      "  for indeks_printa in okrajsani_indeksi[:10]:\n"
     ]
    },
    {
     "name": "stdout",
     "output_type": "stream",
     "text": [
      "Instant\n",
      "{'id_karte': 19748, 'cmc': 2, 'manacost': '1u', 'barva': 'u', 'povprecje_eu': '€24.74', 'supertype': [], 'cardtype': ['Instant'], 'subtype': [], 'oracle_text': 'Return target nonland permanent you don\\'t control to its owner\\'s hand.\\nOverload (6)(u) You may cast this spell for its overload cost. If you do, change its text by replacing all instances of \"target\" with \"each.\"', 'reserved_list': 'No', 'all_time_low': '$1.79', 'all_time_low_datum': 'Apr 18, 2013', 'all_time_high': '$40.10', 'all_time_high_datum': 'Oct 11, 2022'} \n",
      "\n",
      "Zajemanje printa karte št. 19934 s strani https://www.mtgstocks.com/prints/19934\n",
      "Creature - Dragon, \n",
      "{'id_karte': 19934, 'cmc': 8, 'manacost': '6rr', 'barva': 'r', 'povprecje_eu': '€12.61', 'supertype': [], 'cardtype': ['Creature'], 'subtype': ['Dragon'], 'oracle_text': 'Flying\\nWhenever a Dragon you control attacks, put a 6/6 red Dragon creature token with flying onto the battlefield.', 'reserved_list': 'No', 'all_time_low': '$1.38', 'all_time_low_datum': 'Nov 26, 2013', 'all_time_high': '$23.53', 'all_time_high_datum': 'Aug 31, 2022'} \n",
      "\n",
      "Zajemanje printa karte št. 360 s strani https://www.mtgstocks.com/prints/360\n",
      "Land - Swamp Mountain\n",
      "{'id_karte': 360, 'cmc': 0, 'manacost': '0', 'barva': 'c', 'povprecje_eu': '€16.00', 'supertype': [], 'cardtype': ['Land'], 'subtype': ['Swamp', 'Mountain'], 'oracle_text': \"(tap): Add (b) or (r).\\nAs Blood Crypt enters the battlefield, you may pay 2 life. If you don't, Blood Crypt enters the battlefield tapped.\", 'reserved_list': 'No', 'all_time_low': '$6.99', 'all_time_low_datum': 'Mar 7, 2017', 'all_time_high': '$28.40', 'all_time_high_datum': 'Mar 31, 2021'} \n",
      "\n",
      "Zajemanje printa karte št. 404 s strani https://www.mtgstocks.com/prints/404\n",
      "Land - Island Mountain\n",
      "{'id_karte': 404, 'cmc': 0, 'manacost': '0', 'barva': 'c', 'povprecje_eu': '€12.62', 'supertype': [], 'cardtype': ['Land'], 'subtype': ['Island', 'Mountain'], 'oracle_text': \"(tap): Add (u) or (r).\\nAs Steam Vents enters the battlefield, you may pay 2 life. If you don't, Steam Vents enters the battlefield tapped.\", 'reserved_list': 'No', 'all_time_low': '$6.79', 'all_time_low_datum': 'Apr 6, 2013', 'all_time_high': '$21.18', 'all_time_high_datum': 'Jul 20, 2022'} \n",
      "\n",
      "Zajemanje printa karte št. 395 s strani https://www.mtgstocks.com/prints/395\n",
      "Land - Swamp Forest\n",
      "{'id_karte': 395, 'cmc': 0, 'manacost': '0', 'barva': 'c', 'povprecje_eu': '€8.82', 'supertype': [], 'cardtype': ['Land'], 'subtype': ['Swamp', 'Forest'], 'oracle_text': \"(tap): Add (b) or (g).\\nAs Overgrown Tomb enters the battlefield, you may pay 2 life. If you don't, Overgrown Tomb enters the battlefield tapped.\", 'reserved_list': 'No', 'all_time_low': '$6.75', 'all_time_low_datum': 'Jul 8, 2019', 'all_time_high': '$17.23', 'all_time_high_datum': 'Oct 9, 2012'} \n",
      "\n",
      "Zajemanje printa karte št. 407 s strani https://www.mtgstocks.com/prints/407\n",
      "Land - Forest Plains\n",
      "{'id_karte': 407, 'cmc': 0, 'manacost': '0', 'barva': 'c', 'povprecje_eu': '€8.24', 'supertype': [], 'cardtype': ['Land'], 'subtype': ['Forest', 'Plains'], 'oracle_text': \"(tap): Add (g) or (w).\\nAs Temple Garden enters the battlefield, you may pay 2 life. If you don't, Temple Garden enters the battlefield tapped.\", 'reserved_list': 'No', 'all_time_low': '$6.10', 'all_time_low_datum': 'Apr 12, 2019', 'all_time_high': '$16.56', 'all_time_high_datum': 'Oct 19, 2012'} \n",
      "\n",
      "Zajemanje printa karte št. 378 s strani https://www.mtgstocks.com/prints/378\n",
      "Land - Plains Island\n",
      "{'id_karte': 378, 'cmc': 0, 'manacost': '0', 'barva': 'c', 'povprecje_eu': '€10.23', 'supertype': [], 'cardtype': ['Land'], 'subtype': ['Plains', 'Island'], 'oracle_text': \"(tap): Add (w) or (u).\\nAs Hallowed Fountain enters the battlefield, you may pay 2 life. If you don't, Hallowed Fountain enters the battlefield tapped.\", 'reserved_list': 'No', 'all_time_low': '$6.46', 'all_time_low_datum': 'Mar 9, 2017', 'all_time_high': '$20.00', 'all_time_high_datum': 'Sep 4, 2012'} \n",
      "\n",
      "Zajemanje printa karte št. 19695 s strani https://www.mtgstocks.com/prints/19695\n",
      "Creature - Wurm, \n",
      "{'id_karte': 19695, 'cmc': 11, 'manacost': '8ggg', 'barva': 'g', 'povprecje_eu': '€6.57', 'supertype': [], 'cardtype': ['Creature'], 'subtype': ['Wurm'], 'oracle_text': \"Trample\\nWhen Worldspine Wurm dies, put three 5/5 green Wurm creature tokens with trample onto the battlefield.\\nWhen Worldspine Wurm is put into a graveyard from anywhere, shuffle it into its owner's library.\", 'reserved_list': 'No', 'all_time_low': '$1.53', 'all_time_low_datum': 'May 1, 2013', 'all_time_high': '$19.22', 'all_time_high_datum': 'Dec 31, 2018'} \n",
      "\n",
      "Zajemanje printa karte št. 362 s strani https://www.mtgstocks.com/prints/362\n",
      "Artifact\n",
      "{'id_karte': 362, 'cmc': 3, 'manacost': '3', 'barva': 'c', 'povprecje_eu': '€5.28', 'supertype': [], 'cardtype': ['Artifact'], 'subtype': [], 'oracle_text': 'Lands you control have \"(tap): Add one mana of any color.\"\\n(tap): Add one mana of any color.', 'reserved_list': 'No', 'all_time_low': '$2.30', 'all_time_low_datum': 'Dec 11, 2012', 'all_time_high': '$15.78', 'all_time_high_datum': 'Aug 15, 2018'} \n",
      "\n",
      "Zajemanje printa karte št. 366 s strani https://www.mtgstocks.com/prints/366\n",
      "Sorcery\n",
      "{'id_karte': 366, 'cmc': 2, 'manacost': 'br', 'barva': 'br', 'povprecje_eu': '€3.70', 'supertype': [], 'cardtype': ['Sorcery'], 'subtype': [], 'oracle_text': 'Destroy target creature or planeswalker.', 'reserved_list': 'No', 'all_time_low': '$1.29', 'all_time_low_datum': 'Jan 16, 2015', 'all_time_high': '$8.86', 'all_time_high_datum': 'Sep 4, 2012'} \n",
      "\n"
     ]
    }
   ],
   "source": [
    "driver = webdriver.Chrome(service = service_obj, options=chrome_options)\n",
    "print(\"Število vseh indeksov kart, ki jih imamo:\", len(okrajsani_indeksi))\n",
    "\n",
    "# To je toliko da poradiramo\n",
    "with open(\"specificne_lastnosti_kart.csv\", \"w\", encoding = \"utf-8\") as csvfile:\n",
    "    pass\n",
    "\n",
    "with open(\"specificne_lastnosti_kart.csv\", \"a\", encoding = \"utf-8\") as csvfile:\n",
    "    writer = csv.DictWriter(csvfile, [\n",
    "        \"id_karte\",\n",
    "        \"cmc\",\n",
    "        \"manacost\",\n",
    "        \"barva\",\n",
    "        \"povprecje_eu\",\n",
    "        \"supertype\",\n",
    "        \"cardtype\",\n",
    "        \"subtype\",\n",
    "        \"oracle_text\",\n",
    "        \"reserved_list\",\n",
    "        \"all_time_low\",\n",
    "        \"all_time_low_datum\",\n",
    "        \"all_time_high\",\n",
    "        \"all_time_high_datum\",\n",
    "    ])\n",
    "    \n",
    "    slovarji_posameznih_kart = []\n",
    "\n",
    "    for indeks_printa in okrajsani_indeksi[:10]:\n",
    "        url = f\"https://www.mtgstocks.com/prints/{indeks_printa}\"\n",
    "        print(f\"Zajemanje printa karte št. {indeks_printa} s strani {url}\")\n",
    "        # with open(f\"Podatki o kartah/Podatki o specificnih kartah/Podatki o karti st. {indeks_printa}.html\", \"w\", encoding=\"utf-8\") as dat:\n",
    "        #try:\n",
    "        driver.get(url)\n",
    "        time.sleep(1)\n",
    "        vsebina = driver.page_source\n",
    "        \n",
    "        glava_slovarja = {\"id_karte\": indeks_printa}\n",
    "        manacost_in_barve = izlusci_podatke_manacosta_in_barve(vsebina)\n",
    "        glavnina = izlusci_podatke_o_specificni_karti_iz_njene_datoteke(vsebina)\n",
    "        glava_slovarja.update(manacost_in_barve)\n",
    "        glava_slovarja.update(glavnina)\n",
    "        print(glava_slovarja, \"\\n\")\n",
    "        slovarji_posameznih_kart.append(glava_slovarja)\n",
    "            \n",
    "        # except Exception as e:\n",
    "        #     print(f\"Prišlo je do napake pri setu {indeks_printa}\")\n",
    "        #     print(e)\n",
    "            \n",
    "    writer.writeheader()\n",
    "    writer.writerows(slovarji_posameznih_kart)\n",
    "        "
   ]
  },
  {
   "cell_type": "markdown",
   "metadata": {},
   "source": [
    "# Spodaj se nahajajo testni bloki"
   ]
  },
  {
   "cell_type": "code",
   "execution_count": null,
   "metadata": {},
   "outputs": [
    {
     "name": "stdout",
     "output_type": "stream",
     "text": [
      "[]\n",
      "{'cmc': 0, 'manacost': '0', 'barva': 'c'}\n"
     ]
    }
   ],
   "source": [
    "string_za_poskus = ''\n",
    "print(re.findall(vzorec_za_manacost, string_za_poskus))\n",
    "\n",
    "print(izlusci_podatke_manacosta_in_barve(string_za_poskus))"
   ]
  },
  {
   "cell_type": "code",
   "execution_count": null,
   "metadata": {},
   "outputs": [
    {
     "name": "stdout",
     "output_type": "stream",
     "text": [
      "blabllablablbla\n"
     ]
    }
   ],
   "source": [
    "testni_string = '<i class=\"ms ms-loyalty-1 ms-loyalty-up\"></i>: Until your next turn, whenever a creature deals combat damage to Vraska the Unseen, destroy that creature.\\n<i class=\"ms ms-loyalty-3 ms-loyalty-down\"></i>: Destroy target nonland permanent.\\n<i class=\"ms ms-loyalty-7 ms-loyalty-down\"></i>: Put three 1/1 black Assassin creature tokens onto the battlefield with \"Whenever this creature deals combat damage to a player, that player loses the game.\"'\n",
    "with open(\"testni_zajcek.txt\", \"r\", encoding = \"utf-8\") as testna_datoteka:\n",
    "    testni_string = testna_datoteka.read()\n",
    "\n",
    "popravljen_string = re.sub(vzorec_za_popravo_oracle_texta_notranje_znacke, r\"(\\1)\", testni_string)\n",
    "popravljen_string = re.sub(vzorec_za_popravo_oracle_texta_zunanje_znacke, r\"\\1\", popravljen_string)\n",
    "popravljen_string = re.sub(vzorec_za_popravo_oracle_texta_planeswalker_uptake, r\"(+\\1)\", popravljen_string)\n",
    "popravljen_string = re.sub(vzorec_za_popravo_oracle_texta_planeswalker_downtake, r\"(-\\1)\", popravljen_string)\n",
    "popravljen_string = popravljen_string.replace('\"\"(t)',\"(tap)\") # To je zaradi buga na spletni strani\n",
    "print(popravljen_string)"
   ]
  },
  {
   "cell_type": "code",
   "execution_count": null,
   "metadata": {},
   "outputs": [
    {
     "name": "stdout",
     "output_type": "stream",
     "text": [
      "(['Legendary'], ['Planeswalker'], ['Jace'])\n"
     ]
    }
   ],
   "source": [
    "testni_string = \"Legendary Planeswalker — Jace, \"\n",
    "\n",
    "print(doloci_super_sub_in_cardtype(testni_string))\n",
    "\n",
    "    "
   ]
  }
 ],
 "metadata": {
  "kernelspec": {
   "display_name": "Python 3",
   "language": "python",
   "name": "python3"
  },
  "language_info": {
   "codemirror_mode": {
    "name": "ipython",
    "version": 3
   },
   "file_extension": ".py",
   "mimetype": "text/x-python",
   "name": "python",
   "nbconvert_exporter": "python",
   "pygments_lexer": "ipython3",
   "version": "3.10.7"
  },
  "orig_nbformat": 4,
  "vscode": {
   "interpreter": {
    "hash": "613d879a9df29ca216f54f0a1e89f0b865c1f91ecf6d738c523174b1df816f98"
   }
  }
 },
 "nbformat": 4,
 "nbformat_minor": 2
}
