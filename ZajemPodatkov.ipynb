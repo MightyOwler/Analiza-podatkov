{
 "cells": [
  {
   "cell_type": "code",
   "execution_count": 1,
   "metadata": {},
   "outputs": [],
   "source": [
    "import requests\n",
    "import csv\n",
    "import json\n",
    "from selenium import webdriver\n",
    "from selenium.webdriver.chrome.options import Options\n",
    "from selenium.webdriver.common.by import By\n",
    "import os, glob\n",
    "import time\n",
    "import pandas as pd\n",
    "import numpy as np\n",
    "from vzorci_in_pomozne_definicije import *\n",
    "    \n",
    "# Tole dvoje je treba, da se Chrome sproti ne odpira\n",
    "chrome_options = Options()\n",
    "chrome_options.add_argument(\"--headless\")\n",
    "#driver = webdriver.Chrome(\"chromedriver.exe\", options=chrome_options)"
   ]
  },
  {
   "cell_type": "code",
   "execution_count": 2,
   "metadata": {},
   "outputs": [],
   "source": [
    "# PRVI_SET = 1\n",
    "# ZADNJI_SET = 1300\n",
    "\n",
    "# #indeksi_setov_ki_obstajajo = []\n",
    "\n",
    "# for st_strani in range(PRVI_SET, ZADNJI_SET + 1):\n",
    "#     url = (\n",
    "#         f'https://www.mtgstocks.com/sets/{st_strani}' \n",
    "#     )\n",
    "#     print(f\"\\n Zajemam {url}\\n\")\n",
    "#     driver.get(url)\n",
    "#     time.sleep(1)\n",
    "    \n",
    "    \n",
    "#     vsebina = driver.page_source\n",
    "#     naslov_strani = driver.title\n",
    "    \n",
    "#     stevilo_podstrani_s_kartami = vsebina.count(\"pagination-page page-item\")\n",
    "#     st_besed_Market_na_strani = vsebina.count(\">Market<\")\n",
    "    \n",
    "#     print(\"Naslov strani:\", naslov_strani)\n",
    "    \n",
    "#     if naslov_strani in [\"File not found - MTGStocks\"]:\n",
    "#         print(f'\\n Stran št. {st_strani} ni dosegljiva.\\n')\n",
    "#     else:\n",
    "#         print(f'\\n Stran št. {st_strani} JE dosegljiva.\\n')\n",
    "#         if \"Art Series:\" in naslov_strani or \"From the Vault:\" in naslov_strani or st_besed_Market_na_strani == 0:\n",
    "#             continue\n",
    "#         else:\n",
    "#             with open(pridobi_ustrezno_ime_lokalne_datoteke(st_strani), 'w', encoding = \"utf-8\") as dat:\n",
    "#                 driver.find_element(by=By.XPATH, value = \"//*[text() = 'Market']//..\").click()\n",
    "#                 for podstran in range(1, stevilo_podstrani_s_kartami + 1):\n",
    "#                     driver.find_element(by=By.XPATH, value = f\"//*[contains(@class, 'pagination-page page-item')][{podstran}]//a\").click()\n",
    "#                     time.sleep(1)\n",
    "#                     print(f\"Pobrana {podstran}. podstran\")\n",
    "#                     dat.write(driver.page_source)\n",
    "  "
   ]
  },
  {
   "cell_type": "markdown",
   "metadata": {},
   "source": [
    "Koda, ki prebere lokalno shranjene html datoteke, ter karte shrani v csv in json format.\n"
   ]
  },
  {
   "cell_type": "code",
   "execution_count": 3,
   "metadata": {},
   "outputs": [
    {
     "name": "stdout",
     "output_type": "stream",
     "text": [
      "Prebrali smo lokalno shanjene podatke iz HMTL datotek in jih zapisali v 'karte.csv' in 'karte.json'.\n"
     ]
    }
   ],
   "source": [
    "debug_mode_za_branje_iz_lokalnih_datotek = False\n",
    "path = 'Podatki o kartah/Podatki iz setov'\n",
    "karte = []\n",
    "\n",
    "# # Najprej poradiramo csv in json datoteki\n",
    "with open(\"karte.csv\", \"w\", encoding = \"utf-8\") as dat:\n",
    "    pass\n",
    "\n",
    "with open(\"karte.json\", \"w\", encoding = \"utf-8\") as dat:\n",
    "    pass\n",
    "\n",
    "for filename in glob.glob(os.path.join(path, '*.html')):\n",
    "    # Tukaj iz nekega razloga ne deluje utf-8, potrebno je latin1\n",
    "    with open(filename, 'r', encoding = \"latin1\") as f:\n",
    "\n",
    "        stetje = 0\n",
    "        #print(f\"Berem podatke kart iz {filename}\")\n",
    "        vsebina = f.read()\n",
    "        \n",
    "        for blok in vzorec_bloka.finditer(vsebina):\n",
    "            stetje += 1\n",
    "            \n",
    "            if debug_mode_za_branje_iz_lokalnih_datotek:\n",
    "                print(stetje)\n",
    "                print(blok.group(0))\n",
    "                print(vzorec_karte.search(blok.group(0)).groupdict())\n",
    "            \n",
    "            karte.append(izlusci_podatke_o_kartah_iz_bloka(blok.group(0)))\n",
    "\n",
    "with open(\"karte.json\", \"a\", encoding = \"utf-8\") as dat:\n",
    "    json.dump(karte, dat, indent=4, ensure_ascii=False)\n",
    "    \n",
    "\n",
    "with open(\"karte.csv\", \"a\", encoding = \"utf-8\") as dat:\n",
    "    writer = csv.DictWriter(dat, [\n",
    "        \"id_karte\",\n",
    "        \"ime\",\n",
    "        \"set\",\n",
    "        \"redkost\",\n",
    "        \"povprecna_cena\",\n",
    "        \"povprecna_cena_foil\",\n",
    "    ])\n",
    "    writer.writeheader()\n",
    "    writer.writerows(karte)\n",
    "\n",
    "print(\"Prebrali smo lokalno shanjene podatke iz HMTL datotek in jih zapisali v 'karte.csv' in 'karte.json'.\")"
   ]
  },
  {
   "cell_type": "markdown",
   "metadata": {},
   "source": [
    "S pomočjo podatkov ustvarimo dataframe. Iz njega izločimo basic lande in tokene. Prav tako izločimo karte, ki nimajo podane vsaj ene cene.\n",
    "*Opomba 1*: Ker imajo najbolj zaželene karte najbolj popolne podatke, nam tako izločanje ne bo pokvarilo vzorca.\n",
    "*Opomba 2*: Nekateri seti so na strani MTGStocks navedeni napačno! Ker so mnogi izmed njih izredno pomembni, jih popravimo v dataframu. "
   ]
  },
  {
   "cell_type": "code",
   "execution_count": 4,
   "metadata": {},
   "outputs": [
    {
     "name": "stdout",
     "output_type": "stream",
     "text": [
      "       id_karte               ime  set   redkost povprecna_cena  \\\n",
      "0         19748     Cyclonic Rift  RTR      Rare         $38.00   \n",
      "1         19934   Utvara Hellkite  RTR    Mythic         $19.53   \n",
      "2           360       Blood Crypt  RTR      Rare         $19.99   \n",
      "3           404       Steam Vents  RTR      Rare         $18.63   \n",
      "4           395    Overgrown Tomb  RTR      Rare         $13.99   \n",
      "...         ...               ...  ...       ...            ...   \n",
      "47532     18337  Dregscape Zombie  ARC    Common          $0.25   \n",
      "47533     18380        Juggernaut  ARC  Uncommon          $0.25   \n",
      "47534     18421           Plummet  ARC    Common          $0.25   \n",
      "47535     18348          Fertilid  ARC    Common          $0.38   \n",
      "47536     18434  Sanctum Gargoyle  ARC    Common          $0.24   \n",
      "\n",
      "      povprecna_cena_foil  \n",
      "0                  $57.99  \n",
      "1                  $57.44  \n",
      "2                  $34.37  \n",
      "3                  $38.61  \n",
      "4                  $25.72  \n",
      "...                   ...  \n",
      "47532                 NaN  \n",
      "47533                 NaN  \n",
      "47534                 NaN  \n",
      "47535                 NaN  \n",
      "47536                 NaN  \n",
      "\n",
      "[43057 rows x 6 columns]\n"
     ]
    }
   ],
   "source": [
    "podatki_o_kartah = pd.read_csv(\"karte.csv\", encoding=\"latin1\")\n",
    "\n",
    "regex_izraz_za_basic_lande = r'Forest \\(\\d|Mountain \\(\\d|Swamp \\(\\d|Plains \\(\\d|Island \\(\\d|Wastes \\(\\d'\n",
    "okrajsani_podatki_o_kartah = podatki_o_kartah[~(podatki_o_kartah.redkost.isin([\"Token\", \"Land\"])) & ~(podatki_o_kartah.ime.str.match(regex_izraz_za_basic_lande)) & ~(podatki_o_kartah.ime.isin([\"Forest\", \"Mountain\", \"Swamp\", \"Plains\", \"Island\", \"Wastes\"]))]\n",
    "okrajsani_podatki_o_kartah = okrajsani_podatki_o_kartah[~(okrajsani_podatki_o_kartah.povprecna_cena.isnull() & okrajsani_podatki_o_kartah.povprecna_cena_foil.isnull())]\n",
    "\n",
    "slovar_za_popravljanje_napacnih_podatkov_s_spletne_strani = {'set': {\"VAN\" : \"PVAN\", \"SLDC\": \"PHED\", \"XCLE\": \"CED\", \"XICE\": \"CEI\", \"RMB1\": \"FMB1\", \"XDND\" : \"AFR\", \"2E\": \"LEB\", \"2U\": \"2ED\", \"1E\": \"LEA\", \"PO2\": \"P02\", \"3ED\":\"FBB\", \"3E\":\"3ED\"}}\n",
    "okrajsani_podatki_o_kartah = okrajsani_podatki_o_kartah.replace(slovar_za_popravljanje_napacnih_podatkov_s_spletne_strani)\n",
    "\n",
    "okrajsani_indeksi = okrajsani_podatki_o_kartah.id_karte # To so indeksi, s katerimi bomo pognali ustrezne url-je\n",
    "\n",
    "raznoliki_seti = okrajsani_podatki_o_kartah[\"set\"].unique()\n",
    "\n",
    "print(okrajsani_podatki_o_kartah)\n"
   ]
  },
  {
   "cell_type": "markdown",
   "metadata": {},
   "source": [
    "Podatke o setih najdemo na strani \"https://scryfall.com/sets\"."
   ]
  },
  {
   "cell_type": "code",
   "execution_count": 5,
   "metadata": {},
   "outputs": [
    {
     "name": "stderr",
     "output_type": "stream",
     "text": [
      "C:\\Users\\jasak\\AppData\\Local\\Temp\\ipykernel_27744\\3056155643.py:1: DeprecationWarning: executable_path has been deprecated, please pass in a Service object\n",
      "  driver = webdriver.Chrome(\"chromedriver.exe\", options=chrome_options)\n"
     ]
    },
    {
     "name": "stdout",
     "output_type": "stream",
     "text": [
      "Shranjen RTR Shranjen ZEN Shranjen BRB Shranjen SNC Shranjen NCC Shranjen BTD Shranjen CHR Shranjen CMD Shranjen HOP Shranjen CSP Shranjen PC2 Shranjen UGL Shranjen UNH Shranjen 2X2 Shranjen PVAN Shranjen ARB Shranjen GTC Shranjen CLB Shranjen DGM Shranjen DDK Shranjen PFNM Shranjen DMU Shranjen DMC Shranjen GN3 Shranjen 40K Shranjen PHED Shranjen PMTG1 Shranjen BRO Shranjen CON Shranjen ALA Shranjen EVE Shranjen SHM Shranjen MOR Shranjen LRW Shranjen FUT Shranjen PLC Shranjen AVR Shranjen TSP Shranjen MMA Shranjen M14 Shranjen THS Shranjen DDL Shranjen C13 Shranjen BNG Shranjen DIS Shranjen DDM Shranjen JOU Shranjen CNS Shranjen MD1 Shranjen M15 Shranjen DDN Shranjen KTK Shranjen GPT Shranjen C14 Shranjen DD3 Shranjen FRF Shranjen DDO Shranjen DTK Shranjen MM2 Shranjen ORI Shranjen RAV Shranjen DDP Shranjen BFZ Shranjen C15 Shranjen OGW Shranjen DDQ Shranjen DKM Shranjen SOI Shranjen SOK Shranjen EMA Shranjen EMN Shranjen CN2 Shranjen KLD Shranjen C16 Shranjen AER Shranjen PCA Shranjen DDR Shranjen BOK Shranjen CED Shranjen MM3 Shranjen DDS Shranjen AKH Shranjen PARL2 Shranjen E01 Shranjen HOU Shranjen CHK Shranjen XLN Shranjen RIX Shranjen UST Shranjen E02 Shranjen C17 Shranjen DDT Shranjen IMA Shranjen CMA Shranjen 5DN Shranjen DOM Shranjen DDU Shranjen A25 Shranjen W16 Shranjen W17 Shranjen M19 Shranjen BBD Shranjen CM2 Shranjen DKA Shranjen DST Shranjen C18 Shranjen SS1 Shranjen GS1 Shranjen FBB Shranjen ATH Shranjen GRN Shranjen MRD Shranjen RNA Shranjen MED Shranjen GK1 Shranjen UMA Shranjen SCG Shranjen GNT Shranjen WAR Shranjen MH1 Shranjen SS2 Shranjen LGN Shranjen M20 Shranjen ELD Shranjen C19 Shranjen CEI Shranjen THB Shranjen M21 Shranjen IKO Shranjen ZNR Shranjen ONS Shranjen GN2 Shranjen MB1 Shranjen FMB1 Shranjen PMEI Shranjen UND Shranjen ZNC Shranjen CMR Shranjen CC1 Shranjen JUD Shranjen C20 Shranjen SS3 Shranjen 2XM Shranjen JMP Shranjen TSR Shranjen TOR Shranjen KHM Shranjen STX Shranjen AFR Shranjen MH2 Shranjen ZNE Shranjen VOW Shranjen MID Shranjen PSUM Shranjen ODY Shranjen APC Shranjen KHC Shranjen PLS Shranjen ISD Shranjen INV Shranjen PCY Shranjen NEM Shranjen MMQ Shranjen UDS Shranjen STA Shranjen ULG Shranjen USG Shranjen EXO Shranjen STH Shranjen TMP Shranjen NPH Shranjen WTH Shranjen VIS Shranjen C21 Shranjen MIR Shranjen ALL Shranjen HML Shranjen ICE Shranjen FEM Shranjen DRK Shranjen LEG Shranjen ATQ Shranjen MBS Shranjen ARN Shranjen M13 Shranjen M12 Shranjen M11 Shranjen M10 Shranjen 10E Shranjen 9ED Shranjen 8ED Shranjen 7ED Shranjen 6ED Shranjen SOM Shranjen 5ED Shranjen 4ED Shranjen AFC Shranjen 3ED Shranjen 2ED Shranjen LEB Shranjen LEA Shranjen ROE Shranjen DDH Shranjen NEO Shranjen CC2 Shranjen UNF Shranjen DDC Shranjen DDF Shranjen EVG Shranjen VOC Shranjen MIC Shranjen DDD Shranjen DDJ Shranjen DD2 Shranjen DDG Shranjen DDE Shranjen WWK Shranjen DDI Shranjen NEC Shranjen S99 Shranjen DBL Shranjen S00 Shranjen POR Shranjen P02 Shranjen PTK Shranjen ARC "
     ]
    }
   ],
   "source": [
    "driver = webdriver.Chrome(\"chromedriver.exe\", options=chrome_options)\n",
    "url_do_strani_setov = \"https://scryfall.com/sets\"\n",
    "\n",
    "driver.get(url_do_strani_setov)\n",
    "time.sleep(1)\n",
    "vsebina_strani_setov = driver.page_source\n",
    "driver.close()\n",
    "\n",
    "slovarji_posameznih_setov = []\n",
    "\n",
    "\n",
    "with open(\"seti.csv\", \"w\", encoding=\"utf-8\") as csvfile:\n",
    "    pass\n",
    "\n",
    "with open(\"seti.csv\", \"a\", encoding=\"utf-8\") as csvfile:\n",
    "    writer = csv.DictWriter(csvfile, [\n",
    "            \"set\",\n",
    "            \"polno_ime\",\n",
    "            \"st_kart\",\n",
    "            \"datum_izida\",\n",
    "        ])\n",
    "    \n",
    "    for posamezen_set in raznoliki_seti:\n",
    "        vzorec_za_podatke_o_setu = re.compile(\n",
    "            r'   (?P<polno_ime>\\w.*?) <small>' + posamezen_set + r'</small>\\n</a></td>.*?<td>\\n.*?>(?P<st_kart>.*?)</a>\\n.*?\\n.*?\\n.*?>(?P<datum_izida>.*?)</a>',\n",
    "        )\n",
    "        print(\"Shranjen\", posamezen_set, end = \" \")\n",
    "        slovarji_posameznih_setov.append(izlusci_podatke_o_setih(vsebina_strani_setov, vzorec_za_podatke_o_setu, posamezen_set, podatki_o_kartah))\n",
    "        \n",
    "    writer.writeheader()\n",
    "    writer.writerows(slovarji_posameznih_setov)\n",
    "    \n",
    "    with open(\"seti.json\", \"w\", encoding = \"utf-8\") as dat:\n",
    "        pass\n",
    "    \n",
    "    with open(\"seti.json\", \"a\", encoding = \"utf-8\") as dat:\n",
    "        json.dump(slovarji_posameznih_setov, dat, indent=4, ensure_ascii=False)"
   ]
  },
  {
   "cell_type": "markdown",
   "metadata": {},
   "source": [
    "S pomočjo indeksov kart, ki smo jih dobili na strani MTGStocks, pridobimo podatke za vse karte iz dataframa."
   ]
  },
  {
   "cell_type": "code",
   "execution_count": 6,
   "metadata": {},
   "outputs": [
    {
     "name": "stderr",
     "output_type": "stream",
     "text": [
      "C:\\Users\\jasak\\AppData\\Local\\Temp\\ipykernel_27744\\4203472445.py:1: DeprecationWarning: executable_path has been deprecated, please pass in a Service object\n",
      "  driver = webdriver.Chrome(\"chromedriver.exe\", options=chrome_options)\n"
     ]
    },
    {
     "name": "stdout",
     "output_type": "stream",
     "text": [
      "Število vseh indeksov kart, ki jih imamo: 43057\n",
      "Zajemanje printa karte št. 19748 s strani https://www.mtgstocks.com/prints/19748\n"
     ]
    },
    {
     "name": "stderr",
     "output_type": "stream",
     "text": [
      "C:\\Users\\jasak\\AppData\\Local\\Temp\\ipykernel_27744\\4203472445.py:28: FutureWarning: The behavior of `series[i:j]` with an integer-dtype index is deprecated. In a future version, this will be treated as *label-based* indexing, consistent with e.g. `series[i]` lookups. To retain the old behavior, use `series.iloc[i:j]`. To get the future behavior, use `series.loc[i:j]`.\n",
      "  for indeks_printa in okrajsani_indeksi[:10]:\n"
     ]
    },
    {
     "name": "stdout",
     "output_type": "stream",
     "text": [
      "Instant\n",
      "{'id_karte': 19748, 'cmc': 2, 'manacost': '1u', 'barva': 'u', 'povprecje_eu': '€24.74', 'supertype': [], 'cardtype': ['Instant'], 'subtype': [], 'oracle_text': 'Return target nonland permanent you don\\'t control to its owner\\'s hand.\\nOverload (6)(u) You may cast this spell for its overload cost. If you do, change its text by replacing all instances of \"target\" with \"each.\"', 'reserved_list': 'No', 'all_time_low': '$1.79', 'all_time_low_datum': 'Apr 18, 2013', 'all_time_high': '$40.10', 'all_time_high_datum': 'Oct 11, 2022'} \n",
      "\n",
      "Zajemanje printa karte št. 19934 s strani https://www.mtgstocks.com/prints/19934\n",
      "Creature - Dragon, \n",
      "{'id_karte': 19934, 'cmc': 8, 'manacost': '6rr', 'barva': 'r', 'povprecje_eu': '€12.61', 'supertype': [], 'cardtype': ['Creature'], 'subtype': ['Dragon'], 'oracle_text': 'Flying\\nWhenever a Dragon you control attacks, put a 6/6 red Dragon creature token with flying onto the battlefield.', 'reserved_list': 'No', 'all_time_low': '$1.38', 'all_time_low_datum': 'Nov 26, 2013', 'all_time_high': '$23.53', 'all_time_high_datum': 'Aug 31, 2022'} \n",
      "\n",
      "Zajemanje printa karte št. 360 s strani https://www.mtgstocks.com/prints/360\n",
      "Land - Swamp Mountain\n",
      "{'id_karte': 360, 'cmc': 0, 'manacost': '0', 'barva': 'c', 'povprecje_eu': '€16.00', 'supertype': [], 'cardtype': ['Land'], 'subtype': ['Swamp', 'Mountain'], 'oracle_text': \"(tap): Add (b) or (r).\\nAs Blood Crypt enters the battlefield, you may pay 2 life. If you don't, Blood Crypt enters the battlefield tapped.\", 'reserved_list': 'No', 'all_time_low': '$6.99', 'all_time_low_datum': 'Mar 7, 2017', 'all_time_high': '$28.40', 'all_time_high_datum': 'Mar 31, 2021'} \n",
      "\n",
      "Zajemanje printa karte št. 404 s strani https://www.mtgstocks.com/prints/404\n",
      "Land - Island Mountain\n",
      "{'id_karte': 404, 'cmc': 0, 'manacost': '0', 'barva': 'c', 'povprecje_eu': '€12.62', 'supertype': [], 'cardtype': ['Land'], 'subtype': ['Island', 'Mountain'], 'oracle_text': \"(tap): Add (u) or (r).\\nAs Steam Vents enters the battlefield, you may pay 2 life. If you don't, Steam Vents enters the battlefield tapped.\", 'reserved_list': 'No', 'all_time_low': '$6.79', 'all_time_low_datum': 'Apr 6, 2013', 'all_time_high': '$21.18', 'all_time_high_datum': 'Jul 20, 2022'} \n",
      "\n",
      "Zajemanje printa karte št. 395 s strani https://www.mtgstocks.com/prints/395\n",
      "Land - Swamp Forest\n",
      "{'id_karte': 395, 'cmc': 0, 'manacost': '0', 'barva': 'c', 'povprecje_eu': '€8.82', 'supertype': [], 'cardtype': ['Land'], 'subtype': ['Swamp', 'Forest'], 'oracle_text': \"(tap): Add (b) or (g).\\nAs Overgrown Tomb enters the battlefield, you may pay 2 life. If you don't, Overgrown Tomb enters the battlefield tapped.\", 'reserved_list': 'No', 'all_time_low': '$6.75', 'all_time_low_datum': 'Jul 8, 2019', 'all_time_high': '$17.23', 'all_time_high_datum': 'Oct 9, 2012'} \n",
      "\n",
      "Zajemanje printa karte št. 407 s strani https://www.mtgstocks.com/prints/407\n",
      "Land - Forest Plains\n",
      "{'id_karte': 407, 'cmc': 0, 'manacost': '0', 'barva': 'c', 'povprecje_eu': '€8.24', 'supertype': [], 'cardtype': ['Land'], 'subtype': ['Forest', 'Plains'], 'oracle_text': \"(tap): Add (g) or (w).\\nAs Temple Garden enters the battlefield, you may pay 2 life. If you don't, Temple Garden enters the battlefield tapped.\", 'reserved_list': 'No', 'all_time_low': '$6.10', 'all_time_low_datum': 'Apr 12, 2019', 'all_time_high': '$16.56', 'all_time_high_datum': 'Oct 19, 2012'} \n",
      "\n",
      "Zajemanje printa karte št. 378 s strani https://www.mtgstocks.com/prints/378\n",
      "Land - Plains Island\n",
      "{'id_karte': 378, 'cmc': 0, 'manacost': '0', 'barva': 'c', 'povprecje_eu': '€10.23', 'supertype': [], 'cardtype': ['Land'], 'subtype': ['Plains', 'Island'], 'oracle_text': \"(tap): Add (w) or (u).\\nAs Hallowed Fountain enters the battlefield, you may pay 2 life. If you don't, Hallowed Fountain enters the battlefield tapped.\", 'reserved_list': 'No', 'all_time_low': '$6.46', 'all_time_low_datum': 'Mar 9, 2017', 'all_time_high': '$20.00', 'all_time_high_datum': 'Sep 4, 2012'} \n",
      "\n",
      "Zajemanje printa karte št. 19695 s strani https://www.mtgstocks.com/prints/19695\n",
      "Creature - Wurm, \n",
      "{'id_karte': 19695, 'cmc': 11, 'manacost': '8ggg', 'barva': 'g', 'povprecje_eu': '€6.57', 'supertype': [], 'cardtype': ['Creature'], 'subtype': ['Wurm'], 'oracle_text': \"Trample\\nWhen Worldspine Wurm dies, put three 5/5 green Wurm creature tokens with trample onto the battlefield.\\nWhen Worldspine Wurm is put into a graveyard from anywhere, shuffle it into its owner's library.\", 'reserved_list': 'No', 'all_time_low': '$1.53', 'all_time_low_datum': 'May 1, 2013', 'all_time_high': '$19.22', 'all_time_high_datum': 'Dec 31, 2018'} \n",
      "\n",
      "Zajemanje printa karte št. 362 s strani https://www.mtgstocks.com/prints/362\n",
      "Artifact\n",
      "{'id_karte': 362, 'cmc': 3, 'manacost': '3', 'barva': 'c', 'povprecje_eu': '€5.28', 'supertype': [], 'cardtype': ['Artifact'], 'subtype': [], 'oracle_text': 'Lands you control have \"(tap): Add one mana of any color.\"\\n(tap): Add one mana of any color.', 'reserved_list': 'No', 'all_time_low': '$2.30', 'all_time_low_datum': 'Dec 11, 2012', 'all_time_high': '$15.78', 'all_time_high_datum': 'Aug 15, 2018'} \n",
      "\n",
      "Zajemanje printa karte št. 366 s strani https://www.mtgstocks.com/prints/366\n",
      "Sorcery\n",
      "{'id_karte': 366, 'cmc': 2, 'manacost': 'br', 'barva': 'br', 'povprecje_eu': '€3.70', 'supertype': [], 'cardtype': ['Sorcery'], 'subtype': [], 'oracle_text': 'Destroy target creature or planeswalker.', 'reserved_list': 'No', 'all_time_low': '$1.29', 'all_time_low_datum': 'Jan 16, 2015', 'all_time_high': '$8.86', 'all_time_high_datum': 'Sep 4, 2012'} \n",
      "\n"
     ]
    }
   ],
   "source": [
    "driver = webdriver.Chrome(\"chromedriver.exe\", options=chrome_options)\n",
    "print(\"Število vseh indeksov kart, ki jih imamo:\", len(okrajsani_indeksi))\n",
    "\n",
    "# To je toliko da poradiramo\n",
    "with open(\"specificne_lastnosti_kart.csv\", \"w\", encoding = \"utf-8\") as csvfile:\n",
    "    pass\n",
    "\n",
    "with open(\"specificne_lastnosti_kart.csv\", \"a\", encoding = \"utf-8\") as csvfile:\n",
    "    writer = csv.DictWriter(csvfile, [\n",
    "        \"id_karte\",\n",
    "        \"cmc\",\n",
    "        \"manacost\",\n",
    "        \"barva\",\n",
    "        \"povprecje_eu\",\n",
    "        \"supertype\",\n",
    "        \"cardtype\",\n",
    "        \"subtype\",\n",
    "        \"oracle_text\",\n",
    "        \"reserved_list\",\n",
    "        \"all_time_low\",\n",
    "        \"all_time_low_datum\",\n",
    "        \"all_time_high\",\n",
    "        \"all_time_high_datum\",\n",
    "    ])\n",
    "    \n",
    "    slovarji_posameznih_kart = []\n",
    "\n",
    "    for indeks_printa in okrajsani_indeksi[:10]:\n",
    "        url = f\"https://www.mtgstocks.com/prints/{indeks_printa}\"\n",
    "        print(f\"Zajemanje printa karte št. {indeks_printa} s strani {url}\")\n",
    "        # with open(f\"Podatki o kartah/Podatki o specificnih kartah/Podatki o karti st. {indeks_printa}.html\", \"w\", encoding=\"utf-8\") as dat:\n",
    "        #try:\n",
    "        driver.get(url)\n",
    "        time.sleep(1)\n",
    "        vsebina = driver.page_source\n",
    "        \n",
    "        glava_slovarja = {\"id_karte\": indeks_printa}\n",
    "        manacost_in_barve = izlusci_podatke_manacosta_in_barve(vsebina)\n",
    "        glavnina = izlusci_podatke_o_specificni_karti_iz_njene_datoteke(vsebina)\n",
    "        glava_slovarja.update(manacost_in_barve)\n",
    "        glava_slovarja.update(glavnina)\n",
    "        print(glava_slovarja, \"\\n\")\n",
    "        slovarji_posameznih_kart.append(glava_slovarja)\n",
    "            \n",
    "        # except Exception as e:\n",
    "        #     print(f\"Prišlo je do napake pri setu {indeks_printa}\")\n",
    "        #     print(e)\n",
    "            \n",
    "    writer.writeheader()\n",
    "    writer.writerows(slovarji_posameznih_kart)\n",
    "        "
   ]
  },
  {
   "cell_type": "markdown",
   "metadata": {},
   "source": [
    "# Spodaj se nahajajo testni bloki"
   ]
  },
  {
   "cell_type": "code",
   "execution_count": 7,
   "metadata": {},
   "outputs": [
    {
     "name": "stdout",
     "output_type": "stream",
     "text": [
      "[]\n",
      "{'cmc': 0, 'manacost': '0', 'barva': 'c'}\n"
     ]
    }
   ],
   "source": [
    "string_za_poskus = ''\n",
    "print(re.findall(vzorec_za_manacost, string_za_poskus))\n",
    "\n",
    "print(izlusci_podatke_manacosta_in_barve(string_za_poskus))"
   ]
  },
  {
   "cell_type": "code",
   "execution_count": 11,
   "metadata": {},
   "outputs": [
    {
     "name": "stdout",
     "output_type": "stream",
     "text": [
      "blabllablablbla\n"
     ]
    }
   ],
   "source": [
    "testni_string = '<i class=\"ms ms-loyalty-1 ms-loyalty-up\"></i>: Until your next turn, whenever a creature deals combat damage to Vraska the Unseen, destroy that creature.\\n<i class=\"ms ms-loyalty-3 ms-loyalty-down\"></i>: Destroy target nonland permanent.\\n<i class=\"ms ms-loyalty-7 ms-loyalty-down\"></i>: Put three 1/1 black Assassin creature tokens onto the battlefield with \"Whenever this creature deals combat damage to a player, that player loses the game.\"'\n",
    "with open(\"testni_zajcek.txt\", \"r\", encoding = \"utf-8\") as testna_datoteka:\n",
    "    testni_string = testna_datoteka.read()\n",
    "\n",
    "popravljen_string = re.sub(vzorec_za_popravo_oracle_texta_notranje_znacke, r\"(\\1)\", testni_string)\n",
    "popravljen_string = re.sub(vzorec_za_popravo_oracle_texta_zunanje_znacke, r\"\\1\", popravljen_string)\n",
    "popravljen_string = re.sub(vzorec_za_popravo_oracle_texta_planeswalker_uptake, r\"(+\\1)\", popravljen_string)\n",
    "popravljen_string = re.sub(vzorec_za_popravo_oracle_texta_planeswalker_downtake, r\"(-\\1)\", popravljen_string)\n",
    "popravljen_string = popravljen_string.replace('\"\"(t)',\"(tap)\") # To je zaradi buga na spletni strani\n",
    "print(popravljen_string)"
   ]
  },
  {
   "cell_type": "code",
   "execution_count": 9,
   "metadata": {},
   "outputs": [
    {
     "name": "stdout",
     "output_type": "stream",
     "text": [
      "(['Legendary'], ['Planeswalker'], ['Jace'])\n"
     ]
    }
   ],
   "source": [
    "testni_string = \"Legendary Planeswalker — Jace, \"\n",
    "\n",
    "print(doloci_super_sub_in_cardtype(testni_string))\n",
    "\n",
    "    "
   ]
  }
 ],
 "metadata": {
  "kernelspec": {
   "display_name": "Python 3",
   "language": "python",
   "name": "python3"
  },
  "language_info": {
   "codemirror_mode": {
    "name": "ipython",
    "version": 3
   },
   "file_extension": ".py",
   "mimetype": "text/x-python",
   "name": "python",
   "nbconvert_exporter": "python",
   "pygments_lexer": "ipython3",
   "version": "3.10.7"
  },
  "orig_nbformat": 4,
  "vscode": {
   "interpreter": {
    "hash": "613d879a9df29ca216f54f0a1e89f0b865c1f91ecf6d738c523174b1df816f98"
   }
  }
 },
 "nbformat": 4,
 "nbformat_minor": 2
}
