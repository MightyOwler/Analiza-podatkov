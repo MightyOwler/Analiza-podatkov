{
 "cells": [
  {
   "cell_type": "code",
   "execution_count": null,
   "metadata": {},
   "outputs": [],
   "source": [
    "from datetime import datetime\n",
    "import pandas as pd\n",
    "import numpy as np"
   ]
  },
  {
   "cell_type": "code",
   "execution_count": null,
   "metadata": {},
   "outputs": [],
   "source": [
    "podatkovna_baza_kart = pd.read_csv(\"specificne_lastnosti_kart.csv\")\n",
    "pojavitve_barve = podatkovna_baza_kart.groupby(\"barva\").size()\n",
    "verjetnosti_barve = pojavitve_barve / len(podatkovna_baza_kart)\n",
    "\n",
    "verjetnosti_barve"
   ]
  },
  {
   "cell_type": "code",
   "execution_count": null,
   "metadata": {},
   "outputs": [],
   "source": [
    "def odstrani_konce(beseda, konci):\n",
    "    for konec in konci:\n",
    "        if beseda.endswith(konec):\n",
    "            return beseda[:-len(konec)]\n",
    "    return beseda\n",
    "\n",
    "# Tukaj bi bilo morda vredno poizkusiti brez korenov besed. Namreč v resnici pri magicu ni tako zelo veliko besed, zato korenjenje morda sploh ni potrebno\n",
    "# Naredimo lahko funkcijo s koreni in brez\n",
    "\n",
    "konci_ki_jih_bomo_odstranili = [\"ing\", \"ed\", \"en\", \"s\"]\n",
    " \n",
    "def koren_besede(beseda, ne_naredi_korenov = False):\n",
    "    beseda = ''.join(znak for znak in beseda if znak.isalpha()) #  \n",
    "    if not beseda:\n",
    "        return '$'\n",
    "    if not ne_naredi_korenov:\n",
    "        beseda = odstrani_konce(beseda, konci_ki_jih_bomo_odstranili)\n",
    "        beseda = beseda.rstrip('aeiou')\n",
    "    if not beseda:\n",
    "        return '@'\n",
    "    return beseda\n",
    "\n",
    "def koreni_besed(niz, ne_naredi_korenov = False):\n",
    "    return pd.Series(sorted({\n",
    "        koren_besede(beseda, ne_naredi_korenov=ne_naredi_korenov) for beseda in str(niz).replace(')(', ') (').replace('-', ' ').lower().split() if beseda\n",
    "    }))"
   ]
  },
  {
   "cell_type": "code",
   "execution_count": null,
   "metadata": {},
   "outputs": [],
   "source": [
    "opis = \"\"\"Whenever another creature enters the battlefield under your control, you gain life equal to that creature's toughness.\n",
    "(1)(g)(w), (tap): Populate. (Put a token onto the battlefield that's a copy of a creature token you control.)\"\"\"\n",
    "koreni_besed(opis)"
   ]
  },
  {
   "cell_type": "code",
   "execution_count": null,
   "metadata": {},
   "outputs": [],
   "source": [
    "razpredelnica_s_koreni_oracle_textov = podatkovna_baza_kart.oracle_text.apply(koreni_besed)\n",
    "razpredelnica_s_koreni_oracle_textov_brez_korenov = podatkovna_baza_kart.oracle_text.apply(koreni_besed, ne_naredi_korenov = True)\n",
    "print(razpredelnica_s_koreni_oracle_textov)"
   ]
  },
  {
   "cell_type": "code",
   "execution_count": null,
   "metadata": {},
   "outputs": [],
   "source": [
    "koreni_tekstov = (\n",
    "    razpredelnica_s_koreni_oracle_textov.unstack(  # vnose v razpredelnici razpotegnemo v eno vrsto (z gnezdenim indeksom)\n",
    "    ).reset_index(                          # podatke iz indeksa pretvorimo v razpredelnico\n",
    "    )[\n",
    "        [\"level_1\", 0]                           # izberemo le relevantna dva stolpca\n",
    "    ].rename(\n",
    "        {\"level_1\": \"indeks_oracle_teksta\", 0: \"koren\"},\n",
    "        axis = 1    # stolpcema damo smiselni imeni                            # s tem povemo, da preimenujemo stolpce in ne vrstic\n",
    "    ).dropna(                               # odstranimo manjkajoče vnose\n",
    "    )\n",
    ")\n",
    "\n",
    "koreni_tekstov_brez_korenov = (\n",
    "    razpredelnica_s_koreni_oracle_textov_brez_korenov.unstack(  # vnose v razpredelnici razpotegnemo v eno vrsto (z gnezdenim indeksom)\n",
    "    ).reset_index(                          # podatke iz indeksa pretvorimo v razpredelnico\n",
    "    )[\n",
    "        [\"level_1\", 0]                           # izberemo le relevantna dva stolpca\n",
    "    ].rename(\n",
    "        {\"level_1\": \"indeks_oracle_teksta\", 0: \"koren\"},\n",
    "        axis = 1    # stolpcema damo smiselni imeni                            # s tem povemo, da preimenujemo stolpce in ne vrstic\n",
    "    ).dropna(                               # odstranimo manjkajoče vnose\n",
    "    )\n",
    ")\n",
    "\n",
    "koreni_tekstov"
   ]
  },
  {
   "cell_type": "code",
   "execution_count": null,
   "metadata": {},
   "outputs": [],
   "source": [
    "#\n",
    "tabela_barv = podatkovna_baza_kart[[\"barva\"]]\n",
    "tabela_barv.index.name = \"indeks_oracle_teksta\"\n",
    "#print(koreni_tekstov, tabela_barv)\n",
    "\n",
    "skupna_tabela = pd.merge(koreni_tekstov, tabela_barv, left_on=\"indeks_oracle_teksta\", right_on=\"indeks_oracle_teksta\")\n",
    "skupna_tabela_brez_korenov = pd.merge(koreni_tekstov_brez_korenov, tabela_barv, left_on=\"indeks_oracle_teksta\", right_on=\"indeks_oracle_teksta\")\n",
    "print(skupna_tabela)"
   ]
  },
  {
   "cell_type": "code",
   "execution_count": null,
   "metadata": {},
   "outputs": [],
   "source": [
    "# Izkazalo se je, da je bolje, če imamo zelo majhen koeficient obtežitve!\n",
    "koeficient_obtezitve_nevsebovanosti_korena = 0.0001\n",
    "stolpec_verjetnosti_korenov_pri_oracle_tekstu = skupna_tabela.groupby([\"barva\", \"koren\"]).size() / pojavitve_barve\n",
    "verjetnosti_korenov_pri_oracle_tekstu = stolpec_verjetnosti_korenov_pri_oracle_tekstu.unstack().transpose().fillna(koeficient_obtezitve_nevsebovanosti_korena / len(podatkovna_baza_kart))\n",
    "stolpec_verjetnosti_korenov_pri_oracle_tekstu_brez_korenov = skupna_tabela_brez_korenov.groupby([\"barva\", \"koren\"]).size() / pojavitve_barve\n",
    "verjetnosti_korenov_pri_oracle_tekstu_brez_korenov = stolpec_verjetnosti_korenov_pri_oracle_tekstu_brez_korenov.unstack().transpose().fillna(koeficient_obtezitve_nevsebovanosti_korena / len(podatkovna_baza_kart))\n",
    "#verjetnosti_korenov_pri_oracle_tekstu\n",
    "print(verjetnosti_korenov_pri_oracle_tekstu)"
   ]
  },
  {
   "cell_type": "code",
   "execution_count": null,
   "metadata": {},
   "outputs": [],
   "source": [
    "def ugani_barvo(opis, ne_naredi_korenov = False):\n",
    "    koreni_oracle_teksta = koreni_besed(opis, ne_naredi_korenov=ne_naredi_korenov)\n",
    "    if ne_naredi_korenov:\n",
    "        r = verjetnosti_korenov_pri_oracle_tekstu_brez_korenov.reset_index()\n",
    "    else:\n",
    "        r = verjetnosti_korenov_pri_oracle_tekstu.reset_index()\n",
    "    verjetnosti = r[r.koren.isin(koreni_oracle_teksta)].product(numeric_only=True) * verjetnosti_barve\n",
    "    return verjetnosti.sort_values(ascending=False).head(10)\n",
    "\n",
    "\n",
    "poskusni_tekst_karte = \"\"\"\n",
    "Trample\n",
    "\n",
    "Bioessence Hydra enters the battlefield with a +1/+1 counter on it for each loyalty counter on planeswalkers you control.\n",
    "\n",
    "Whenever one or more loyalty counters are put on planeswalkers you control, put that many +1/+1 counters on Bioessence Hydra.\n",
    "\"\"\"\n",
    "print(\"Naivni Bayesov klasifikator, če ustvarimo korene:\")\n",
    "print(ugani_barvo(poskusni_tekst_karte), \"\\n\")\n",
    "print(\"Naivni Bayesov klasifikator, če ne ustvarimo korenov:\")\n",
    "print(ugani_barvo(poskusni_tekst_karte, ne_naredi_korenov=True))"
   ]
  }
 ],
 "metadata": {
  "kernelspec": {
   "display_name": "Python 3",
   "language": "python",
   "name": "python3"
  },
  "language_info": {
   "codemirror_mode": {
    "name": "ipython",
    "version": 3
   },
   "file_extension": ".py",
   "mimetype": "text/x-python",
   "name": "python",
   "nbconvert_exporter": "python",
   "pygments_lexer": "ipython3",
   "version": "3.10.7"
  },
  "orig_nbformat": 4,
  "vscode": {
   "interpreter": {
    "hash": "613d879a9df29ca216f54f0a1e89f0b865c1f91ecf6d738c523174b1df816f98"
   }
  }
 },
 "nbformat": 4,
 "nbformat_minor": 2
}
