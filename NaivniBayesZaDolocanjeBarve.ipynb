{
 "cells": [
  {
   "attachments": {},
   "cell_type": "markdown",
   "metadata": {},
   "source": [
    "# Naivni Bayesov kasifikator za določanje barve karte"
   ]
  },
  {
   "attachments": {},
   "cell_type": "markdown",
   "metadata": {},
   "source": [
    "V tej datoteki sem napisal naivni Bayesov klasifikator za ugibanje barve karte glede na njeno besedilo (*oracle text*). Pri tem sem sledil podobnim korakom kot na predavanjih, zato nisem razlagal vsakega posebej.\n",
    "\n",
    "Iz radovednosti sem napisal dva klasifikatorja, pri prvemu sem vzel zgolj korene besed, pri drugemu pa kar vse besede. Izkazalo se je, da ni nobeden izmed njiju izrazito natančnejši.\n",
    "\n",
    "Klasifikatorja se nahajata v spodnjem bloku te datoteke."
   ]
  },
  {
   "cell_type": "code",
   "execution_count": 1,
   "metadata": {},
   "outputs": [],
   "source": [
    "import pandas as pd\n",
    "from vzorci_in_pomozne_definicije import FILENAME_KARTE_DODATEK_CSV"
   ]
  },
  {
   "cell_type": "code",
   "execution_count": 2,
   "metadata": {},
   "outputs": [],
   "source": [
    "podatkovna_baza_kart = pd.read_csv(FILENAME_KARTE_DODATEK_CSV)\n",
    "pojavitve_barve = podatkovna_baza_kart.groupby(\"barva\").size()\n",
    "verjetnosti_barve = pojavitve_barve / len(podatkovna_baza_kart)"
   ]
  },
  {
   "cell_type": "code",
   "execution_count": 3,
   "metadata": {},
   "outputs": [],
   "source": [
    "def odstrani_konce(beseda, konci):\n",
    "    for konec in konci:\n",
    "        if beseda.endswith(konec):\n",
    "            return beseda[:-len(konec)]\n",
    "    return beseda\n",
    "\n",
    "konci_ki_jih_bomo_odstranili = [\"ing\", \"ed\", \"en\", \"s\"]\n",
    " \n",
    "def koren_besede(beseda, ne_naredi_korenov = False):\n",
    "    beseda = ''.join(znak for znak in beseda if znak.isalpha()) #  \n",
    "    if not beseda:\n",
    "        return '$'\n",
    "    if not ne_naredi_korenov:\n",
    "        beseda = odstrani_konce(beseda, konci_ki_jih_bomo_odstranili)\n",
    "        beseda = beseda.rstrip('aeiou')\n",
    "    if not beseda:\n",
    "        return '@'\n",
    "    return beseda\n",
    "\n",
    "def koreni_besed(niz, ne_naredi_korenov = False):\n",
    "    return pd.Series(sorted({\n",
    "        koren_besede(beseda, ne_naredi_korenov=ne_naredi_korenov) for beseda in str(niz).replace(')(', ') (').replace('-', ' ').lower().split() if beseda\n",
    "    }))"
   ]
  },
  {
   "cell_type": "code",
   "execution_count": 4,
   "metadata": {},
   "outputs": [],
   "source": [
    "razpredelnica_s_koreni_oracle_textov = podatkovna_baza_kart.oracle_text.apply(koreni_besed)\n",
    "razpredelnica_s_koreni_oracle_textov_brez_korenov = podatkovna_baza_kart.oracle_text.apply(koreni_besed, ne_naredi_korenov = True)"
   ]
  },
  {
   "cell_type": "code",
   "execution_count": 5,
   "metadata": {},
   "outputs": [],
   "source": [
    "koreni_tekstov = (\n",
    "    razpredelnica_s_koreni_oracle_textov.unstack(\n",
    "    ).reset_index(\n",
    "    )[\n",
    "        [\"level_1\", 0]                           \n",
    "    ].rename(\n",
    "        {\"level_1\": \"indeks_oracle_teksta\", 0: \"koren\"},\n",
    "        axis = 1\n",
    "    ).dropna(\n",
    "    )\n",
    ")\n",
    "\n",
    "koreni_tekstov_brez_korenov = (\n",
    "    razpredelnica_s_koreni_oracle_textov_brez_korenov.unstack(\n",
    "    ).reset_index(\n",
    "    )[\n",
    "        [\"level_1\", 0]                           \n",
    "    ].rename(\n",
    "        {\"level_1\": \"indeks_oracle_teksta\", 0: \"koren\"},\n",
    "        axis = 1\n",
    "    ).dropna(\n",
    "    )\n",
    ")"
   ]
  },
  {
   "cell_type": "code",
   "execution_count": 6,
   "metadata": {},
   "outputs": [],
   "source": [
    "tabela_barv = podatkovna_baza_kart[[\"barva\"]]\n",
    "tabela_barv.index.name = \"indeks_oracle_teksta\"\n",
    "\n",
    "skupna_tabela = pd.merge(koreni_tekstov, tabela_barv, left_on=\"indeks_oracle_teksta\", right_on=\"indeks_oracle_teksta\")\n",
    "skupna_tabela_brez_korenov = pd.merge(koreni_tekstov_brez_korenov, tabela_barv, left_on=\"indeks_oracle_teksta\", right_on=\"indeks_oracle_teksta\")"
   ]
  },
  {
   "cell_type": "code",
   "execution_count": 7,
   "metadata": {},
   "outputs": [],
   "source": [
    "k_obtezitve = 1  # Izkazalo se je, da se koeficient obtežitve nevsebovanosti korena 1 neprimerno bolje kot 0.0001\n",
    "stolpec_verjetnosti_korenov_pri_oracle_tekstu = skupna_tabela.groupby([\"barva\", \"koren\"]).size() / pojavitve_barve\n",
    "verjetnosti_korenov_pri_oracle_tekstu = stolpec_verjetnosti_korenov_pri_oracle_tekstu.unstack().transpose().fillna(k_obtezitve / len(podatkovna_baza_kart))\n",
    "stolpec_verjetnosti_korenov_pri_oracle_tekstu_brez_korenov = skupna_tabela_brez_korenov.groupby([\"barva\", \"koren\"]).size() / pojavitve_barve\n",
    "verjetnosti_korenov_pri_oracle_tekstu_brez_korenov = stolpec_verjetnosti_korenov_pri_oracle_tekstu_brez_korenov.unstack().transpose().fillna(k_obtezitve / len(podatkovna_baza_kart))"
   ]
  },
  {
   "cell_type": "code",
   "execution_count": 8,
   "metadata": {},
   "outputs": [],
   "source": [
    "def ugani_barvo(opis, ne_naredi_korenov = False):\n",
    "    koreni_oracle_teksta = koreni_besed(opis, ne_naredi_korenov=ne_naredi_korenov)\n",
    "    if ne_naredi_korenov:\n",
    "        r = verjetnosti_korenov_pri_oracle_tekstu_brez_korenov.reset_index()\n",
    "    else:\n",
    "        r = verjetnosti_korenov_pri_oracle_tekstu.reset_index()\n",
    "    verjetnosti = r[r.koren.isin(koreni_oracle_teksta)].product(numeric_only=True) * verjetnosti_barve\n",
    "    return verjetnosti.sort_values(ascending=False).head(10)"
   ]
  },
  {
   "attachments": {},
   "cell_type": "markdown",
   "metadata": {},
   "source": [
    "Naivna Bayesova klasifikatorja sta končana. Če ju hočete preverjati na kartah, ki jih še ni v podatkovni bazi, je primerna recimo [tale stran](https://www.mtgstocks.com/sets/1183-dominaria-remastered).\n",
    "\n",
    "Ker sklepam, da marsikdo ne pozna MTG barv, je spodaj preprosta legenda (strogo gledano po pravilih *colorless* ni barva, ampak za potrebe razumevanja klasifikatorja je v redu).\n",
    "\n",
    "| Barva | Oznaka |\n",
    "| --- | --- |\n",
    "| White  | w |\n",
    "| Blue  | u |\n",
    "| Black  | b |\n",
    "| Red  | r |\n",
    "| Green  | g |\n",
    "| Colorless | c |\n",
    "\n",
    "Karta ima lahko od 1 do 5 barv, ali pa je brezbarvna (*colorless*). Če je karta recimo [belo-modra](https://gatherer.wizards.com/pages/card/Details.aspx?multiverseid=457295), to označimo z wu. Vrstni red barv je po pravilih [enolično določen](https://magic.wizards.com/en/articles/archive/ask-wizards-june-2004-2004-06-01).\n",
    "\n",
    "[Karta v spodnjem primeru](https://gatherer.wizards.com/Pages/Card/Details.aspx?name=Disciple+of+the+Ring) je v resnici modra, torej bi moralo pisati ***u***. Zanimivo je preizkušati kakšne karte, ki jih ni v podatkovnih bazi, recimo večina na [tej strani](https://www.mtgstocks.com/sets/1183-dominaria-remastered).\n",
    "\n"
   ]
  },
  {
   "cell_type": "code",
   "execution_count": 9,
   "metadata": {},
   "outputs": [
    {
     "name": "stdout",
     "output_type": "stream",
     "text": [
      "Naivni Bayesov klasifikator, če ustvarimo korene:\n",
      "barva\n",
      "ur     8.124711e-28\n",
      "u      4.520522e-30\n",
      "ubr    1.139376e-30\n",
      "r      6.238120e-31\n",
      "wu     9.573188e-32\n",
      "ub     9.075919e-32\n",
      "rg     8.641918e-32\n",
      "wub    4.693130e-32\n",
      "b      1.730661e-33\n",
      "w      1.282408e-33\n",
      "dtype: float64 \n",
      "\n",
      "Naivni Bayesov klasifikator, če ne ustvarimo korenov:\n",
      "barva\n",
      "u      1.968793e-33\n",
      "ur     1.367819e-33\n",
      "ub     2.183638e-34\n",
      "wu     1.080663e-36\n",
      "ubr    7.873930e-37\n",
      "w      7.311003e-37\n",
      "gu     1.449383e-38\n",
      "b      1.016482e-38\n",
      "rg     7.057514e-39\n",
      "r      7.047322e-39\n",
      "dtype: float64\n"
     ]
    }
   ],
   "source": [
    "poskusni_tekst_karte = \"\"\"\n",
    "Exile an instant or sorcery card from your graveyard: Choose one —\n",
    "• Counter target noncreature spell unless its controller pays .\n",
    "• Disciple of the Ring gets +1/+1 until end of turn.\n",
    "• Tap target creature.\n",
    "• Untap target creature.\n",
    "\"\"\"\n",
    "print(\"Naivni Bayesov klasifikator, če ustvarimo korene:\")\n",
    "print(ugani_barvo(poskusni_tekst_karte), \"\\n\")\n",
    "print(\"Naivni Bayesov klasifikator, če ne ustvarimo korenov:\")\n",
    "print(ugani_barvo(poskusni_tekst_karte, ne_naredi_korenov=True))"
   ]
  }
 ],
 "metadata": {
  "kernelspec": {
   "display_name": "Python 3",
   "language": "python",
   "name": "python3"
  },
  "language_info": {
   "codemirror_mode": {
    "name": "ipython",
    "version": 3
   },
   "file_extension": ".py",
   "mimetype": "text/x-python",
   "name": "python",
   "nbconvert_exporter": "python",
   "pygments_lexer": "ipython3",
   "version": "3.10.7"
  },
  "orig_nbformat": 4,
  "vscode": {
   "interpreter": {
    "hash": "613d879a9df29ca216f54f0a1e89f0b865c1f91ecf6d738c523174b1df816f98"
   }
  }
 },
 "nbformat": 4,
 "nbformat_minor": 2
}
